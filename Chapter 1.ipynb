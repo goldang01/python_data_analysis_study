{
 "cells": [
  {
   "cell_type": "markdown",
   "id": "ab38fc21",
   "metadata": {},
   "source": [
    "<center>\n",
    "<img src=\"http://image.yes24.com/goods/87039632/800x0\" width=\"200\" height=\"200\"><br>\n",
    "</center>\n",
    "\n",
    "\n",
    " - Github: [yoonkt200](https://github.com/yoonkt200/python-data-analysis)"
   ]
  },
  {
   "cell_type": "markdown",
   "id": "f7aef5c2",
   "metadata": {},
   "source": [
    "# Chapter 01 데이터에서 인사이트 발견하기\n",
    "\n",
    "### 이 장의 핵심 개념\n",
    "- 탐색적 데이터 분석을 알아본다.\n",
    "- 판다스, 넘파이, Matplotlib 등을 활용한 분석에 익숙해 진다.\n",
    "- 적절한 시각화 방법으로 인사이트를 발견한다.\n",
    "\n",
    "### 1.1 탐색적 데이터 분석의 과정\n",
    "\n",
    "탐색적 데이터 분석은 데이터의 정보를 파악하며 문제 해결에 필요한 힌트를 분석하는 과정이다. 이제, 탐색적 데이터 분석의 과정을 몇 가지 예제와 함께 알아보겠다.\n",
    "\n",
    "#### 데이터와의 첫 만남\n",
    "\n",
    "우리가 실제로 접하는 대부분의 데이터는 아직 분석에 활용된 적이 없는 혹은 정제되지 않은 데이터 이다."
   ]
  },
  {
   "cell_type": "code",
   "execution_count": null,
   "id": "8505316a",
   "metadata": {},
   "outputs": [],
   "source": []
  }
 ],
 "metadata": {
  "kernelspec": {
   "display_name": "Python 3",
   "language": "python",
   "name": "python3"
  },
  "language_info": {
   "codemirror_mode": {
    "name": "ipython",
    "version": 3
   },
   "file_extension": ".py",
   "mimetype": "text/x-python",
   "name": "python",
   "nbconvert_exporter": "python",
   "pygments_lexer": "ipython3",
   "version": "3.6.9"
  }
 },
 "nbformat": 4,
 "nbformat_minor": 5
}
