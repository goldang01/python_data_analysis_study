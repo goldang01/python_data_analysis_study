{
 "cells": [
  {
   "cell_type": "markdown",
   "id": "e2362c0c",
   "metadata": {},
   "source": [
    "<center>\n",
    "<img src=\"http://image.yes24.com/goods/87039632/800x0\" width=\"200\" height=\"200\"><br>\n",
    "</center>\n",
    "\n",
    "\n",
    " - Github: [yoonkt200](https://github.com/yoonkt200/python-data-analysis)"
   ]
  },
  {
   "cell_type": "markdown",
   "id": "1e6cb857",
   "metadata": {},
   "source": [
    "# Chapter 01 데이터에서 인사이트 발견하기\n",
    "\n",
    "### 이 장의 핵심 개념\n",
    "- 탐색적 데이터 분석을 알아본다.\n",
    "- 판다스, 넘파이, Matplotlib 등을 활용한 분석에 익숙해 진다.\n",
    "- 적절한 시각화 방법으로 인사이트를 발견한다.\n",
    "\n",
    "### 1.1 탐색적 데이터 분석의 과정\n",
    "\n",
    "탐색적 데이터 분석은 데이터의 정보를 파악하며 문제 해결에 필요한 힌트를 분석하는 과정이다. 이제, 탐색적 데이터 분석의 과정을 몇 가지 예제와 함께 알아보겠다.\n",
    "\n",
    "#### 데이터와의 첫 만남\n",
    "\n",
    "우리가 실제로 접하는 대부분의 데이터는 아직 분석에 활용된 적이 없는 혹은 정제되지 않은 데이터 이다. 이러한 데이터를 raw data라고 부른다.(이후 '데이터'로 통칭한다.) 탐색적 데이터 분석은 데이터를 열어보는 상황에서부터 시작되며 이때부터 다음과 같은 과정을 수행한다.\n",
    "\n",
    "- 데이터의 출처와 주제에 대해 이해한다.\n",
    "\n",
    "우선 데이터가 어디에서 생성된 것이고, 어떻게 수집된 것인지를 이해하는 것이 먼저다. 데이터의 이름, 구성 요소, 그리고 데이터의 출처와 주제등에 대해 가장 먼저 조사한다.\n",
    "\n",
    "- 데이터의 크기를 알아본다.\n",
    "\n",
    "데이터의 대략적인 양이나 개수를 알아보는 단계이다. 데이터의 크기에 따라서 특별한 종류의 샘플링이 필요하고, 어떤 방식으로 데이터를 처리할지도 달라 질 수 있기 때문이다.\n",
    "\n",
    "- 샘플링(Sampling)이란 어떤 자료로부터 일부의 값을 추출하는 행위를 의미한다. 분석하고자 하는 데이터가 너무 크거나 전체 데이터를 사용할 수 없는 경우에는 샘플링된 데이터를 분석하는 것이 좋은 대안이 될 수 있다.\n",
    "\n",
    "- 데이터의 구성 요소(피처)를 살펴본다.\n",
    "\n",
    "마지막으로 데이터의 피처를 살펴본다. 피처란 데이터를 구성하는 요소를 의미한다. 만약 어떤 학급의 신체검사 결과를 기록한 데이터가 있다고 할 때, 키와 몸무게 그리고 시력 같은 측정 요소를 피처라고 부른다. 데이터를 탐색하는 단계에서 피처를 살펴보는 것은 아주 중요한 과정이다.\n",
    "\n",
    "#### 데이터의 속성 탐색하기\n",
    "\n",
    "데이터를 탐색하는 단계에서 데이터의 외형적인 힌트를 얻었다면 이번 단계에서는 데이터의 실제적인 내용을 탐색한다. 실제적인 내용 탐색의 과정에서는 크게 피처의 속성 탐색, 그리고 피처 간의 상관 관계 탐색 이렇게 두 가지를 시행한다.\n",
    "\n",
    "#### 피처의 속성 탐색\n",
    "\n",
    "신체검사 데이터에서 어떤 속성을 탐색할 수 있을까요? 우선 가장 쉽게 떠올릴 수 있는 것은 학급의 평균 키 계산이다. 평균을 구하는 것뿐만 아니라, 학창 시절 배웠던 표준편차, 중앙값, 데이터의 사분위 수 등의 통계값을 구할 수도 있다. 피처의 \n",
    "\n",
    "측정 가능한 정량적 속성을 정의하는 것이다. 피처의 속성 탐색 과정에서 가장 중요한 것은 **데이터에 질문을 던지는 것**이다. 피처의 속성 탐색은 '우리 반의 평균 키는 몇이나 될까?'와 같은 질문에서부터 출발하기 때문이다. 이러한 질문을 던지는 것이 좋은 데이터 분석가가 되는 첫걸음이라고 할 수 있다.\n",
    "\n",
    "#### 피처 간의 상관 관계 탐색\n",
    "\n",
    "피처 간의 상관 관계 탐색이란 여러 개의 피처가 서로에게 미치는 영향력을 알아보는 것이다. 만약 학급의 신체검사 데이터를 살펴본 뒤, '우리 학급은 비만이 아닐까?'라는 질문을 했다고 가정해보자. 그렇다면 우리는 '몸무게'라는 피처를 살펴볼 것이다. 그리고 이를 통해 가정을 확인할 것이다. 하지만 우리가 한 가지 더 고려해야 할 점은 몸무게는 키와도 관계가 있다는 것이다. 이런 상황에서 필요한 것이 피처 간의 **상관 관계 탐색**이다. 데이터 분석에서는 이를 통계적인 방법으로 알아볼수 있으며, 이는 피처 간의 공분산, 혹은 상관 계수와 같은 개념을 포함합니다. 이 개념들에 대해서는 이후 예제에서 조금 더 알아본다.\n",
    "\n",
    "#### 탐색한 데이터의 시각화\n",
    "\n",
    "마지막 단계는 탐색한 데이터의 시각화 단계이다. 지금까지의 과정을 통해 어느 정도 데이터를 파악했다면 이를 효과적으로 시각화할 차례이다.데이터 시각화는 수치적 자료만 가지고는 파악하기 힘든 **패턴이나 인사이트**를 발견하는 데 유용하기 때문이다. 키와 몸무게의 상관 관계는 쉽게 발견하기 어렵지만 이를 그래프로 시각화하면 직관적으로 파악할 수 있다."
   ]
  },
  {
   "cell_type": "markdown",
   "id": "8260892c",
   "metadata": {},
   "source": [
    "### 1.2 멕시코풍 프랜차이즈 chipotle의 주문 데이터 분석하기\n",
    "\n",
    "첫 번째 예제의 목표는 토이 데이터(분석에 용이한 형태로 만들어진 연습용 데이터 세트)를 활용한 데이터 분석에 익숙해지는 것이다. 우리가 분석해볼 첫 번째 토이 데이터는 멕시코풍 프랜차이즈 'chipotle'라는 음식점의 주문 데이터이다."
   ]
  },
  {
   "cell_type": "markdown",
   "id": "23a9d5a8",
   "metadata": {},
   "source": [
    "- chipotle 데이터셋의 기초 정보 출력하기"
   ]
  },
  {
   "cell_type": "code",
   "execution_count": 7,
   "id": "105d2166",
   "metadata": {},
   "outputs": [
    {
     "name": "stdout",
     "output_type": "stream",
     "text": [
      "(4622, 5)\n",
      "------------------------------------\n",
      "<class 'pandas.core.frame.DataFrame'>\n",
      "RangeIndex: 4622 entries, 0 to 4621\n",
      "Data columns (total 5 columns):\n",
      " #   Column              Non-Null Count  Dtype \n",
      "---  ------              --------------  ----- \n",
      " 0   order_id            4622 non-null   int64 \n",
      " 1   quantity            4622 non-null   int64 \n",
      " 2   item_name           4622 non-null   object\n",
      " 3   choice_description  3376 non-null   object\n",
      " 4   item_price          4622 non-null   object\n",
      "dtypes: int64(2), object(3)\n",
      "memory usage: 180.7+ KB\n",
      "None\n"
     ]
    }
   ],
   "source": [
    "# -*- coding:utf-8 -*-\n",
    "\n",
    "import pandas as pd\n",
    "\n",
    "file_path = './data/chipotle.tsv'\n",
    "# read_csv() 함수로 데이터를 데이터 프레임 형태로 불러옵니다.\n",
    "chipo = pd.read_csv(file_path, sep = '\\t')\n",
    "\n",
    "print(chipo.shape)\n",
    "print(\"------------------------------------\")\n",
    "print(chipo.info())"
   ]
  },
  {
   "cell_type": "markdown",
   "id": "01a164ed",
   "metadata": {},
   "source": [
    "그리고 shape()와 info() 함수를 호출하면 위와 같은 실행 결과를 볼 수 있다. shape()는 데이터의 행과 열의 크기를 반환하고, info()는 행의 구성 정보와 열의 구성 정보를 나타낸다. 실행 결과를 보면 데이터가 4,622개의 행과 5개의 피처로 구성되어 있음을 알 수 있다. 또한 order_id와 quantity는 int64(숫자),나머지 3개의 피처는 object라는 타입으로 이루어져 있다. 그런데 한 가지 특이한 정보는 choice_description 피처가 3,376개의 non--null object로 구성되어 있다는 것입니다. 이 정보는 무엇을 의미할까? 데이터 프레임에서 object 타입은 일반적으로 **문자열**을 의미 한다. 그리고 null이라는 용어는 데이터가 **비어 있는 것**을 의미한다. 이를 **결측값** 이라고 한다. 즉, '3376 non-null object'라는 것은 3,376개의 비어 있지 않은 문자열 데이터가 있다는 정보이다. 하지만 데이터의 개수를 4,622개이므로 choice_description 피처는 1,246개의 결측값이 존재한다.\n",
    "\n",
    "다음 코드를 보자. head(10) 함수는 첫 10개의 데이터를 테이블 형태로 출력합니다.또한 columns(행의 목록)와 index(열의 목록)를 호출하면 데이터의 행과 열에 대한 정보를 함께 출력 할 수 있다."
   ]
  },
  {
   "cell_type": "markdown",
   "id": "e2a65429",
   "metadata": {},
   "source": [
    "- chipotle 데이터셋의 행과 열, 데이터 확인하기"
   ]
  },
  {
   "cell_type": "code",
   "execution_count": 8,
   "id": "aa51270c",
   "metadata": {},
   "outputs": [
    {
     "name": "stdout",
     "output_type": "stream",
     "text": [
      "Index(['order_id', 'quantity', 'item_name', 'choice_description',\n",
      "       'item_price'],\n",
      "      dtype='object')\n",
      "------------------------------------\n",
      "RangeIndex(start=0, stop=4622, step=1)\n"
     ]
    }
   ],
   "source": [
    "# chipo 라는 데이터 프레임에서 순서대로 10개의 데이터를 보여준다.\n",
    "chipo.head(10)\n",
    "\n",
    "print(chipo.columns)\n",
    "print(\"------------------------------------\")\n",
    "print(chipo.index)"
   ]
  },
  {
   "cell_type": "markdown",
   "id": "1478b962",
   "metadata": {},
   "source": [
    "이때, chipotle 데이터셋 피처의 의미는 각각 다음과 같습니다.\n",
    "\n",
    "- order_id:주문 번호\n",
    "\n",
    "- quantity: 아이템의 주문 수량\n",
    "\n",
    "- item_name: 주문한 아이템의 이름\n",
    "\n",
    "- choice_description: 주문한 아이템의 상세 선택 옵션\n",
    "\n",
    "- item_price: 주문 아이템의 가격 정보\n",
    "\n",
    "이제 본격적으로 이 피처들의 속성을 파악해 본다."
   ]
  },
  {
   "cell_type": "markdown",
   "id": "a85ec857",
   "metadata": {},
   "source": [
    "#### quantity와 item_price의 수치적 특징\n",
    "\n",
    "우선 quantity와 item_price의 수치적 특징을 살펴본다. 이 두 피처는 **연속형 피처**이다. 연속형 피처는 키와 몸무게 처럼 어떠한 값도 가질 수 있는 연속적인 숫자 형태를 의미한다. 다음 코드의 출력 결과는 describe() 함수가 나타낸 피처의 기초 통계량이다. 하지만 현재 유일하게 존재하는 수치형 피처는 quantity뿐이기 때문에, 오직 quantity에 대한 정보만을 출력할 수 있다."
   ]
  },
  {
   "cell_type": "markdown",
   "id": "20dcedb1",
   "metadata": {},
   "source": [
    "- describe()함수로 기초 통계량 출력하기"
   ]
  },
  {
   "cell_type": "code",
   "execution_count": 9,
   "id": "68497708",
   "metadata": {},
   "outputs": [
    {
     "name": "stdout",
     "output_type": "stream",
     "text": [
      "          quantity\n",
      "count  4622.000000\n",
      "mean      1.075725\n",
      "std       0.410186\n",
      "min       1.000000\n",
      "25%       1.000000\n",
      "50%       1.000000\n",
      "75%       1.000000\n",
      "max      15.000000\n"
     ]
    }
   ],
   "source": [
    "# order_id는 숫자의 의미를 가지지 않기 때문에 str으로 변환한다.\n",
    "chipo['order_id'] = chipo['order_id'].astype(str)\n",
    "print(chipo.describe()) # chipo 데이터 프레임에서 수치형 피처들의 기초 통계량을 확인한다."
   ]
  },
  {
   "cell_type": "markdown",
   "id": "1e2665bb",
   "metadata": {},
   "source": [
    "깃헙 초록!!!!!!!!"
   ]
  },
  {
   "cell_type": "code",
   "execution_count": null,
   "id": "2fd7d1ba",
   "metadata": {},
   "outputs": [],
   "source": []
  }
 ],
 "metadata": {
  "kernelspec": {
   "display_name": "Python 3",
   "language": "python",
   "name": "python3"
  },
  "language_info": {
   "codemirror_mode": {
    "name": "ipython",
    "version": 3
   },
   "file_extension": ".py",
   "mimetype": "text/x-python",
   "name": "python",
   "nbconvert_exporter": "python",
   "pygments_lexer": "ipython3",
   "version": "3.6.9"
  }
 },
 "nbformat": 4,
 "nbformat_minor": 5
}
