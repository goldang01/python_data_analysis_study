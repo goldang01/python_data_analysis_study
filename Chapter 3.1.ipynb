{
 "cells": [
  {
   "cell_type": "markdown",
   "id": "02913810",
   "metadata": {},
   "source": [
    "<center>\n",
    "<img src=\"http://image.yes24.com/goods/87039632/800x0\" width=\"200\" height=\"200\"><br>\n",
    "</center>\n",
    "\n",
    "\n",
    " - Github: [yoonkt200](https://github.com/yoonkt200/python-data-analysis)"
   ]
  },
  {
   "cell_type": "markdown",
   "id": "1443770e",
   "metadata": {},
   "source": [
    "# Chapter 03 미래를 예측하는 데이터 분석\n",
    "\n",
    "#### 이 장의 핵심 개념\n",
    "- 지도 학습과 비지도 학습의 개념을 이해한다.\n",
    "- 회귀 분석으로 예측을 수행한다.\n",
    "- 시계열 데이터의 트렌드를 예측한다.\n",
    "- 수학적 기법을 활용하여 평점을 예측한다.\n",
    "\n",
    "### 3-1 프로야구 선수의 다음 해 연봉 예측하기\n",
    "\n",
    "### Step1 탐색: 프로야구 연봉 데이터 살펴보기\n",
    "\n",
    "예제에서 살용할 연봉 데이터셋의 기본 정보를 살펴보자. 데이터의 기초 탐색결과는 다음과 같다. 프로야구 연봉 데이터셋은 총 152개이며, 22개 피처로 구성되어 있다. 이 22개의 피처는 선수가 가지고 있는 기록(승,패,홈런 등의 수치)들에 대한 세부 정보를 나타낸다.\n",
    "\n",
    "- 프로야구 연봉 데이터셋의 기본 정보 구하기"
   ]
  },
  {
   "cell_type": "code",
   "execution_count": 116,
   "id": "ab8bf8c4",
   "metadata": {
    "scrolled": true
   },
   "outputs": [
    {
     "data": {
      "text/plain": [
       "Index(['선수명', '팀명', '승', '패', '세', '홀드', '블론', '경기', '선발', '이닝', '삼진/9',\n",
       "       '볼넷/9', '홈런/9', 'BABIP', 'LOB%', 'ERA', 'RA9-WAR', 'FIP', 'kFIP', 'WAR',\n",
       "       '연봉(2018)', '연봉(2017)'],\n",
       "      dtype='object')"
      ]
     },
     "execution_count": 116,
     "metadata": {},
     "output_type": "execute_result"
    }
   ],
   "source": [
    "# -*- coding: utf-8 -*-\n",
    "%matplotlib inline\n",
    "\n",
    "import pandas as pd\n",
    "import numpy as np\n",
    "import matplotlib.pyplot as plt\n",
    "\n",
    "# Data Source: http://www.statiz.co.kr/\n",
    "\n",
    "picher_file_path = './data/picher_stats_2017.csv'\n",
    "batter_file_path = './data/batter_stats_2017.csv'\n",
    "picher = pd.read_csv(picher_file_path)\n",
    "batter = pd.read_csv(batter_file_path)\n",
    "\n",
    "picher.columns"
   ]
  },
  {
   "cell_type": "code",
   "execution_count": 117,
   "id": "bc48e9df",
   "metadata": {},
   "outputs": [
    {
     "data": {
      "text/html": [
       "<div>\n",
       "<style scoped>\n",
       "    .dataframe tbody tr th:only-of-type {\n",
       "        vertical-align: middle;\n",
       "    }\n",
       "\n",
       "    .dataframe tbody tr th {\n",
       "        vertical-align: top;\n",
       "    }\n",
       "\n",
       "    .dataframe thead th {\n",
       "        text-align: right;\n",
       "    }\n",
       "</style>\n",
       "<table border=\"1\" class=\"dataframe\">\n",
       "  <thead>\n",
       "    <tr style=\"text-align: right;\">\n",
       "      <th></th>\n",
       "      <th>선수명</th>\n",
       "      <th>팀명</th>\n",
       "      <th>승</th>\n",
       "      <th>패</th>\n",
       "      <th>세</th>\n",
       "      <th>홀드</th>\n",
       "      <th>블론</th>\n",
       "      <th>경기</th>\n",
       "      <th>선발</th>\n",
       "      <th>이닝</th>\n",
       "      <th>...</th>\n",
       "      <th>홈런/9</th>\n",
       "      <th>BABIP</th>\n",
       "      <th>LOB%</th>\n",
       "      <th>ERA</th>\n",
       "      <th>RA9-WAR</th>\n",
       "      <th>FIP</th>\n",
       "      <th>kFIP</th>\n",
       "      <th>WAR</th>\n",
       "      <th>연봉(2018)</th>\n",
       "      <th>연봉(2017)</th>\n",
       "    </tr>\n",
       "  </thead>\n",
       "  <tbody>\n",
       "    <tr>\n",
       "      <th>0</th>\n",
       "      <td>켈리</td>\n",
       "      <td>SK</td>\n",
       "      <td>16</td>\n",
       "      <td>7</td>\n",
       "      <td>0</td>\n",
       "      <td>0</td>\n",
       "      <td>0</td>\n",
       "      <td>30</td>\n",
       "      <td>30</td>\n",
       "      <td>190.0</td>\n",
       "      <td>...</td>\n",
       "      <td>0.76</td>\n",
       "      <td>0.342</td>\n",
       "      <td>73.7</td>\n",
       "      <td>3.60</td>\n",
       "      <td>6.91</td>\n",
       "      <td>3.69</td>\n",
       "      <td>3.44</td>\n",
       "      <td>6.62</td>\n",
       "      <td>140000</td>\n",
       "      <td>85000</td>\n",
       "    </tr>\n",
       "    <tr>\n",
       "      <th>1</th>\n",
       "      <td>소사</td>\n",
       "      <td>LG</td>\n",
       "      <td>11</td>\n",
       "      <td>11</td>\n",
       "      <td>1</td>\n",
       "      <td>0</td>\n",
       "      <td>0</td>\n",
       "      <td>30</td>\n",
       "      <td>29</td>\n",
       "      <td>185.1</td>\n",
       "      <td>...</td>\n",
       "      <td>0.53</td>\n",
       "      <td>0.319</td>\n",
       "      <td>67.1</td>\n",
       "      <td>3.88</td>\n",
       "      <td>6.80</td>\n",
       "      <td>3.52</td>\n",
       "      <td>3.41</td>\n",
       "      <td>6.08</td>\n",
       "      <td>120000</td>\n",
       "      <td>50000</td>\n",
       "    </tr>\n",
       "    <tr>\n",
       "      <th>2</th>\n",
       "      <td>양현종</td>\n",
       "      <td>KIA</td>\n",
       "      <td>20</td>\n",
       "      <td>6</td>\n",
       "      <td>0</td>\n",
       "      <td>0</td>\n",
       "      <td>0</td>\n",
       "      <td>31</td>\n",
       "      <td>31</td>\n",
       "      <td>193.1</td>\n",
       "      <td>...</td>\n",
       "      <td>0.79</td>\n",
       "      <td>0.332</td>\n",
       "      <td>72.1</td>\n",
       "      <td>3.44</td>\n",
       "      <td>6.54</td>\n",
       "      <td>3.94</td>\n",
       "      <td>3.82</td>\n",
       "      <td>5.64</td>\n",
       "      <td>230000</td>\n",
       "      <td>150000</td>\n",
       "    </tr>\n",
       "    <tr>\n",
       "      <th>3</th>\n",
       "      <td>차우찬</td>\n",
       "      <td>LG</td>\n",
       "      <td>10</td>\n",
       "      <td>7</td>\n",
       "      <td>0</td>\n",
       "      <td>0</td>\n",
       "      <td>0</td>\n",
       "      <td>28</td>\n",
       "      <td>28</td>\n",
       "      <td>175.2</td>\n",
       "      <td>...</td>\n",
       "      <td>1.02</td>\n",
       "      <td>0.298</td>\n",
       "      <td>75.0</td>\n",
       "      <td>3.43</td>\n",
       "      <td>6.11</td>\n",
       "      <td>4.20</td>\n",
       "      <td>4.03</td>\n",
       "      <td>4.63</td>\n",
       "      <td>100000</td>\n",
       "      <td>100000</td>\n",
       "    </tr>\n",
       "    <tr>\n",
       "      <th>4</th>\n",
       "      <td>레일리</td>\n",
       "      <td>롯데</td>\n",
       "      <td>13</td>\n",
       "      <td>7</td>\n",
       "      <td>0</td>\n",
       "      <td>0</td>\n",
       "      <td>0</td>\n",
       "      <td>30</td>\n",
       "      <td>30</td>\n",
       "      <td>187.1</td>\n",
       "      <td>...</td>\n",
       "      <td>0.91</td>\n",
       "      <td>0.323</td>\n",
       "      <td>74.1</td>\n",
       "      <td>3.80</td>\n",
       "      <td>6.13</td>\n",
       "      <td>4.36</td>\n",
       "      <td>4.31</td>\n",
       "      <td>4.38</td>\n",
       "      <td>111000</td>\n",
       "      <td>85000</td>\n",
       "    </tr>\n",
       "  </tbody>\n",
       "</table>\n",
       "<p>5 rows × 22 columns</p>\n",
       "</div>"
      ],
      "text/plain": [
       "   선수명   팀명   승   패  세  홀드  블론  경기  선발     이닝  ...  홈런/9  BABIP  LOB%   ERA  \\\n",
       "0   켈리   SK  16   7  0   0   0  30  30  190.0  ...  0.76  0.342  73.7  3.60   \n",
       "1   소사   LG  11  11  1   0   0  30  29  185.1  ...  0.53  0.319  67.1  3.88   \n",
       "2  양현종  KIA  20   6  0   0   0  31  31  193.1  ...  0.79  0.332  72.1  3.44   \n",
       "3  차우찬   LG  10   7  0   0   0  28  28  175.2  ...  1.02  0.298  75.0  3.43   \n",
       "4  레일리   롯데  13   7  0   0   0  30  30  187.1  ...  0.91  0.323  74.1  3.80   \n",
       "\n",
       "   RA9-WAR   FIP  kFIP   WAR  연봉(2018)  연봉(2017)  \n",
       "0     6.91  3.69  3.44  6.62    140000     85000  \n",
       "1     6.80  3.52  3.41  6.08    120000     50000  \n",
       "2     6.54  3.94  3.82  5.64    230000    150000  \n",
       "3     6.11  4.20  4.03  4.63    100000    100000  \n",
       "4     6.13  4.36  4.31  4.38    111000     85000  \n",
       "\n",
       "[5 rows x 22 columns]"
      ]
     },
     "execution_count": 117,
     "metadata": {},
     "output_type": "execute_result"
    }
   ],
   "source": [
    "picher.head()"
   ]
  },
  {
   "cell_type": "code",
   "execution_count": 118,
   "id": "bee8d583",
   "metadata": {},
   "outputs": [
    {
     "name": "stdout",
     "output_type": "stream",
     "text": [
      "(152, 22)\n"
     ]
    }
   ],
   "source": [
    "print(picher.shape)"
   ]
  },
  {
   "cell_type": "markdown",
   "id": "1ce2c736",
   "metadata": {},
   "source": [
    "이번 예제에서 예측할 회귀 분석의 목표(Y값)는 데이터 '연봉(2018)'피처 이다. 다음 코드는 이를 히스토 그램 상자 그림(Box Plot)으로 시각화 한 것이다."
   ]
  },
  {
   "cell_type": "markdown",
   "id": "4fea61f3",
   "metadata": {},
   "source": [
    "- 예측할 대상인 '연봉'에 대한 정보"
   ]
  },
  {
   "cell_type": "code",
   "execution_count": 119,
   "id": "7fc28aaf",
   "metadata": {},
   "outputs": [
    {
     "data": {
      "text/plain": [
       "count       152.000000\n",
       "mean      18932.236842\n",
       "std       30940.732924\n",
       "min        2700.000000\n",
       "25%        4000.000000\n",
       "50%        7550.000000\n",
       "75%       18500.000000\n",
       "max      230000.000000\n",
       "Name: 연봉(2018), dtype: float64"
      ]
     },
     "execution_count": 119,
     "metadata": {},
     "output_type": "execute_result"
    }
   ],
   "source": [
    "picher['연봉(2018)'].describe()"
   ]
  },
  {
   "cell_type": "code",
   "execution_count": 120,
   "id": "c0e0782d",
   "metadata": {},
   "outputs": [
    {
     "data": {
      "text/plain": [
       "<AxesSubplot:>"
      ]
     },
     "execution_count": 120,
     "metadata": {},
     "output_type": "execute_result"
    },
    {
     "data": {
      "image/png": "[encoded data removed]",
      "text/plain": [
       "<Figure size 432x288 with 1 Axes>"
      ]
     },
     "metadata": {
      "needs_background": "light"
     },
     "output_type": "display_data"
    }
   ],
   "source": [
    "picher['연봉(2018)'].hist(bins=100) # 2018년 연봉 분포를 출력한다."
   ]
  },
  {
   "cell_type": "code",
   "execution_count": 121,
   "id": "efc7f5e9",
   "metadata": {},
   "outputs": [
    {
     "data": {
      "text/plain": [
       "<AxesSubplot:>"
      ]
     },
     "execution_count": 121,
     "metadata": {},
     "output_type": "execute_result"
    },
    {
     "data": {
      "image/png": "[encoded data removed]",
      "text/plain": [
       "<Figure size 432x288 with 1 Axes>"
      ]
     },
     "metadata": {
      "needs_background": "light"
     },
     "output_type": "display_data"
    }
   ],
   "source": [
    "picher.boxplot(column=['연봉(2018)']) # 연봉의 상자 그림을 출력한다."
   ]
  },
  {
   "cell_type": "markdown",
   "id": "a51439fa",
   "metadata": {},
   "source": [
    "히스토그램에서는 연봉의 분포를 파악할 수 있으며, 상자 그림에서는 연봉의 일반적인 범주를 파악 할 수 있다. 흔히 말하는 '수십억대 연봉'을 받는 프로 선수는 별로 많지 않으며, 5억 원 미만의 연보잉 일반적으로 보인다. 다음으로 각각의 피처들은 어떤 특성을 가지고 있는지 살펴보자. 아래의 실행 결과는 '선수명'이나 '팀명'과 같이 그래프로 표현할 수 없는 피처들을 제외한 뒤, 모든 수치형 피처의 분포를 시각화한 것이다. 이를 통해 몇몇 피처들은 매우 불균형한 분포를 가지고 있다는 것을 알 수 있다."
   ]
  },
  {
   "cell_type": "markdown",
   "id": "fc2da060",
   "metadata": {},
   "source": [
    "- 회귀 분석에 사용할 피처 살펴보기"
   ]
  },
  {
   "cell_type": "code",
   "execution_count": 122,
   "id": "e89f224e",
   "metadata": {},
   "outputs": [
    {
     "name": "stdout",
     "output_type": "stream",
     "text": [
      "Linux version\n"
     ]
    }
   ],
   "source": [
    "import platform\n",
    "\n",
    "from matplotlib import font_manager, rc\n",
    "plt.rcParams['axes.unicode_minus'] = False\n",
    "\n",
    "if platform.system() == 'Darwin':\n",
    "    rc('font', family='AppleGothic')\n",
    "    print('Mac version')\n",
    "elif platform.system() == 'Windows':\n",
    "    path = \"c:/Windows/Fonts/malgun.ttf\"\n",
    "    font_name = font_manager.FontProperties(fname=path).get_name()\n",
    "    rc('font', family=font_name)\n",
    "    print('Windows version')\n",
    "elif platform.system() == 'Linux':\n",
    "    path = \"/usr/share/fonts/NanumFont/NanumGothicBold.ttf\"\n",
    "    font_name = font_manager.FontProperties(fname=path).get_name()\n",
    "    plt.rc('font', family=font_name)\n",
    "    print('Linux version')\n",
    "else:\n",
    "    print('Unknown system... sorry~~~~')"
   ]
  },
  {
   "cell_type": "code",
   "execution_count": 123,
   "id": "c9a400fd",
   "metadata": {},
   "outputs": [
    {
     "data": {
      "image/png": "[encoded data removed]",
      "text/plain": [
       "<Figure size 1440x1152 with 1 Axes>"
      ]
     },
     "metadata": {
      "needs_background": "light"
     },
     "output_type": "display_data"
    },
    {
     "data": {
      "image/png": "[encoded data removed]",
      "text/plain": [
       "<Figure size 1440x1152 with 1 Axes>"
      ]
     },
     "metadata": {
      "needs_background": "light"
     },
     "output_type": "display_data"
    },
    {
     "data": {
      "image/png": "[encoded data removed]",
      "text/plain": [
       "<Figure size 1440x1152 with 1 Axes>"
      ]
     },
     "metadata": {
      "needs_background": "light"
     },
     "output_type": "display_data"
    },
    {
     "data": {
      "image/png": "[encoded data removed]",
      "text/plain": [
       "<Figure size 1440x1152 with 1 Axes>"
      ]
     },
     "metadata": {
      "needs_background": "light"
     },
     "output_type": "display_data"
    },
    {
     "data": {
      "image/png": "[encoded data removed]",
      "text/plain": [
       "<Figure size 1440x1152 with 1 Axes>"
      ]
     },
     "metadata": {
      "needs_background": "light"
     },
     "output_type": "display_data"
    },
    {
     "data": {
      "image/png": "[encoded data removed]",
      "text/plain": [
       "<Figure size 1440x1152 with 1 Axes>"
      ]
     },
     "metadata": {
      "needs_background": "light"
     },
     "output_type": "display_data"
    },
    {
     "data": {
      "image/png": "[encoded data removed]",
      "text/plain": [
       "<Figure size 1440x1152 with 1 Axes>"
      ]
     },
     "metadata": {
      "needs_background": "light"
     },
     "output_type": "display_data"
    },
    {
     "data": {
      "image/png": "[encoded data removed]",
      "text/plain": [
       "<Figure size 1440x1152 with 1 Axes>"
      ]
     },
     "metadata": {
      "needs_background": "light"
     },
     "output_type": "display_data"
    },
    {
     "data": {
      "image/png": "[encoded data removed]",
      "text/plain": [
       "<Figure size 1440x1152 with 1 Axes>"
      ]
     },
     "metadata": {
      "needs_background": "light"
     },
     "output_type": "display_data"
    },
    {
     "data": {
      "image/png": "[encoded data removed]",
      "text/plain": [
       "<Figure size 1440x1152 with 1 Axes>"
      ]
     },
     "metadata": {
      "needs_background": "light"
     },
     "output_type": "display_data"
    },
    {
     "data": {
      "image/png": "[encoded data removed]",
      "text/plain": [
       "<Figure size 1440x1152 with 1 Axes>"
      ]
     },
     "metadata": {
      "needs_background": "light"
     },
     "output_type": "display_data"
    },
    {
     "data": {
      "image/png": "[encoded data removed]",
      "text/plain": [
       "<Figure size 1440x1152 with 1 Axes>"
      ]
     },
     "metadata": {
      "needs_background": "light"
     },
     "output_type": "display_data"
    },
    {
     "data": {
      "image/png": "[encoded data removed]",
      "text/plain": [
       "<Figure size 1440x1152 with 1 Axes>"
      ]
     },
     "metadata": {
      "needs_background": "light"
     },
     "output_type": "display_data"
    },
    {
     "data": {
      "image/png": "[encoded data removed]",
      "text/plain": [
       "<Figure size 1440x1152 with 1 Axes>"
      ]
     },
     "metadata": {
      "needs_background": "light"
     },
     "output_type": "display_data"
    },
    {
     "data": {
      "image/png": "[encoded data removed]",
      "text/plain": [
       "<Figure size 1440x1152 with 1 Axes>"
      ]
     },
     "metadata": {
      "needs_background": "light"
     },
     "output_type": "display_data"
    },
    {
     "data": {
      "image/png": "[encoded data removed]",
      "text/plain": [
       "<Figure size 1440x1152 with 1 Axes>"
      ]
     },
     "metadata": {
      "needs_background": "light"
     },
     "output_type": "display_data"
    },
    {
     "data": {
      "image/png": "[encoded data removed]",
      "text/plain": [
       "<Figure size 1440x1152 with 1 Axes>"
      ]
     },
     "metadata": {
      "needs_background": "light"
     },
     "output_type": "display_data"
    },
    {
     "data": {
      "image/png": "[encoded data removed]",
      "text/plain": [
       "<Figure size 1440x1152 with 1 Axes>"
      ]
     },
     "metadata": {
      "needs_background": "light"
     },
     "output_type": "display_data"
    },
    {
     "data": {
      "image/png": "[encoded data removed]",
      "text/plain": [
       "<Figure size 1440x1152 with 1 Axes>"
      ]
     },
     "metadata": {
      "needs_background": "light"
     },
     "output_type": "display_data"
    },
    {
     "data": {
      "image/png": "[encoded data removed]",
      "text/plain": [
       "<Figure size 1440x1152 with 1 Axes>"
      ]
     },
     "metadata": {
      "needs_background": "light"
     },
     "output_type": "display_data"
    }
   ],
   "source": [
    "picher_feature_df = picher[['승', '패', '세', '홀드', '블론', '경기', '선발', '이닝', '삼진/9',\n",
    "       '볼넷/9', '홈런/9', 'BABIP', 'LOB%', 'ERA', 'RA9-WAR', 'FIP', 'kFIP', 'WAR',\n",
    "       '연봉(2018)', '연봉(2017)']]\n",
    "\n",
    "# 피처 각각에 대한 히스토그램을 출력한다.\n",
    "def plot_hist_each_column(df):\n",
    "    plt.rcParams['figure.figsize'] = [20, 16]\n",
    "    fig = plt.figure(1)\n",
    "    \n",
    "    # df의 열 개수 만큼의 subplot을 출력한다.\n",
    "    for i in range(len(df.columns)):\n",
    "        ax = fig.add_subplot(5,  5, i+1)\n",
    "        plt.hist(df[df.columns[i]], bins = 50)\n",
    "        ax.set_title(df.columns[i])\n",
    "        \n",
    "        plt.show()\n",
    "        \n",
    "plot_hist_each_column(picher_features_df)"
   ]
  },
  {
   "cell_type": "markdown",
   "id": "68889c02",
   "metadata": {},
   "source": [
    "또 한 가지 그래프를 통해 알 수 있는 것은 각 피처 간의 단위가 다르다는 것이다. 예를 들어 '홈런/9'라는 피처는 x축이 0~8사이의 값인 반면, '이닝'이라는 피처는 0~200 사이의 값을 포함하고 있다. 이러한 데이터는 피처의 정규화 혹은 스케일링이 되어있지 않은 데이터 이다."
   ]
  },
  {
   "cell_type": "markdown",
   "id": "914ac47b",
   "metadata": {},
   "source": [
    "### Step2 예측: 투수의 연봉 예측하기\n",
    "\n",
    "다음 코드에서는 여러 가지 피처 스케일링의 방법 중 표준화 방법을 적용하였다. 표준화는 정규분포에서 z-값을 구하는 과정과 동일하다. z-값은 ((X)-(X의평균) / X의 표준편차로 구한다."
   ]
  },
  {
   "cell_type": "markdown",
   "id": "ebba92da",
   "metadata": {},
   "source": [
    "- 피처들의 단위 맞춰주기 : 피처 스케일링"
   ]
  },
  {
   "cell_type": "code",
   "execution_count": 124,
   "id": "f9908e1f",
   "metadata": {},
   "outputs": [
    {
     "data": {
      "text/html": [
       "<div>\n",
       "<style scoped>\n",
       "    .dataframe tbody tr th:only-of-type {\n",
       "        vertical-align: middle;\n",
       "    }\n",
       "\n",
       "    .dataframe tbody tr th {\n",
       "        vertical-align: top;\n",
       "    }\n",
       "\n",
       "    .dataframe thead th {\n",
       "        text-align: right;\n",
       "    }\n",
       "</style>\n",
       "<table border=\"1\" class=\"dataframe\">\n",
       "  <thead>\n",
       "    <tr style=\"text-align: right;\">\n",
       "      <th></th>\n",
       "      <th>선수명</th>\n",
       "      <th>팀명</th>\n",
       "      <th>승</th>\n",
       "      <th>패</th>\n",
       "      <th>세</th>\n",
       "      <th>홀드</th>\n",
       "      <th>블론</th>\n",
       "      <th>경기</th>\n",
       "      <th>선발</th>\n",
       "      <th>이닝</th>\n",
       "      <th>...</th>\n",
       "      <th>홈런/9</th>\n",
       "      <th>BABIP</th>\n",
       "      <th>LOB%</th>\n",
       "      <th>ERA</th>\n",
       "      <th>RA9-WAR</th>\n",
       "      <th>FIP</th>\n",
       "      <th>kFIP</th>\n",
       "      <th>WAR</th>\n",
       "      <th>y</th>\n",
       "      <th>연봉(2017)</th>\n",
       "    </tr>\n",
       "  </thead>\n",
       "  <tbody>\n",
       "    <tr>\n",
       "      <th>0</th>\n",
       "      <td>켈리</td>\n",
       "      <td>SK</td>\n",
       "      <td>3.313623</td>\n",
       "      <td>1.227145</td>\n",
       "      <td>-0.306452</td>\n",
       "      <td>-0.585705</td>\n",
       "      <td>-0.543592</td>\n",
       "      <td>0.059433</td>\n",
       "      <td>2.452068</td>\n",
       "      <td>2.645175</td>\n",
       "      <td>...</td>\n",
       "      <td>-0.442382</td>\n",
       "      <td>0.016783</td>\n",
       "      <td>0.446615</td>\n",
       "      <td>-0.587056</td>\n",
       "      <td>3.174630</td>\n",
       "      <td>-0.971030</td>\n",
       "      <td>-1.058125</td>\n",
       "      <td>4.503142</td>\n",
       "      <td>3.912893</td>\n",
       "      <td>2.734705</td>\n",
       "    </tr>\n",
       "    <tr>\n",
       "      <th>1</th>\n",
       "      <td>소사</td>\n",
       "      <td>LG</td>\n",
       "      <td>2.019505</td>\n",
       "      <td>2.504721</td>\n",
       "      <td>-0.098502</td>\n",
       "      <td>-0.585705</td>\n",
       "      <td>-0.543592</td>\n",
       "      <td>0.059433</td>\n",
       "      <td>2.349505</td>\n",
       "      <td>2.547755</td>\n",
       "      <td>...</td>\n",
       "      <td>-0.668521</td>\n",
       "      <td>-0.241686</td>\n",
       "      <td>-0.122764</td>\n",
       "      <td>-0.519855</td>\n",
       "      <td>3.114968</td>\n",
       "      <td>-1.061888</td>\n",
       "      <td>-1.073265</td>\n",
       "      <td>4.094734</td>\n",
       "      <td>3.266495</td>\n",
       "      <td>1.337303</td>\n",
       "    </tr>\n",
       "    <tr>\n",
       "      <th>2</th>\n",
       "      <td>양현종</td>\n",
       "      <td>KIA</td>\n",
       "      <td>4.348918</td>\n",
       "      <td>0.907751</td>\n",
       "      <td>-0.306452</td>\n",
       "      <td>-0.585705</td>\n",
       "      <td>-0.543592</td>\n",
       "      <td>0.111056</td>\n",
       "      <td>2.554632</td>\n",
       "      <td>2.706808</td>\n",
       "      <td>...</td>\n",
       "      <td>-0.412886</td>\n",
       "      <td>-0.095595</td>\n",
       "      <td>0.308584</td>\n",
       "      <td>-0.625456</td>\n",
       "      <td>2.973948</td>\n",
       "      <td>-0.837415</td>\n",
       "      <td>-0.866361</td>\n",
       "      <td>3.761956</td>\n",
       "      <td>6.821679</td>\n",
       "      <td>5.329881</td>\n",
       "    </tr>\n",
       "    <tr>\n",
       "      <th>3</th>\n",
       "      <td>차우찬</td>\n",
       "      <td>LG</td>\n",
       "      <td>1.760682</td>\n",
       "      <td>1.227145</td>\n",
       "      <td>-0.306452</td>\n",
       "      <td>-0.585705</td>\n",
       "      <td>-0.543592</td>\n",
       "      <td>-0.043811</td>\n",
       "      <td>2.246942</td>\n",
       "      <td>2.350927</td>\n",
       "      <td>...</td>\n",
       "      <td>-0.186746</td>\n",
       "      <td>-0.477680</td>\n",
       "      <td>0.558765</td>\n",
       "      <td>-0.627856</td>\n",
       "      <td>2.740722</td>\n",
       "      <td>-0.698455</td>\n",
       "      <td>-0.760385</td>\n",
       "      <td>2.998081</td>\n",
       "      <td>2.620098</td>\n",
       "      <td>3.333592</td>\n",
       "    </tr>\n",
       "    <tr>\n",
       "      <th>4</th>\n",
       "      <td>레일리</td>\n",
       "      <td>롯데</td>\n",
       "      <td>2.537153</td>\n",
       "      <td>1.227145</td>\n",
       "      <td>-0.306452</td>\n",
       "      <td>-0.585705</td>\n",
       "      <td>-0.543592</td>\n",
       "      <td>0.059433</td>\n",
       "      <td>2.452068</td>\n",
       "      <td>2.587518</td>\n",
       "      <td>...</td>\n",
       "      <td>-0.294900</td>\n",
       "      <td>-0.196735</td>\n",
       "      <td>0.481122</td>\n",
       "      <td>-0.539055</td>\n",
       "      <td>2.751570</td>\n",
       "      <td>-0.612941</td>\n",
       "      <td>-0.619085</td>\n",
       "      <td>2.809003</td>\n",
       "      <td>2.975617</td>\n",
       "      <td>2.734705</td>\n",
       "    </tr>\n",
       "  </tbody>\n",
       "</table>\n",
       "<p>5 rows × 22 columns</p>\n",
       "</div>"
      ],
      "text/plain": [
       "   선수명   팀명         승         패         세        홀드        블론        경기  \\\n",
       "0   켈리   SK  3.313623  1.227145 -0.306452 -0.585705 -0.543592  0.059433   \n",
       "1   소사   LG  2.019505  2.504721 -0.098502 -0.585705 -0.543592  0.059433   \n",
       "2  양현종  KIA  4.348918  0.907751 -0.306452 -0.585705 -0.543592  0.111056   \n",
       "3  차우찬   LG  1.760682  1.227145 -0.306452 -0.585705 -0.543592 -0.043811   \n",
       "4  레일리   롯데  2.537153  1.227145 -0.306452 -0.585705 -0.543592  0.059433   \n",
       "\n",
       "         선발        이닝  ...      홈런/9     BABIP      LOB%       ERA   RA9-WAR  \\\n",
       "0  2.452068  2.645175  ... -0.442382  0.016783  0.446615 -0.587056  3.174630   \n",
       "1  2.349505  2.547755  ... -0.668521 -0.241686 -0.122764 -0.519855  3.114968   \n",
       "2  2.554632  2.706808  ... -0.412886 -0.095595  0.308584 -0.625456  2.973948   \n",
       "3  2.246942  2.350927  ... -0.186746 -0.477680  0.558765 -0.627856  2.740722   \n",
       "4  2.452068  2.587518  ... -0.294900 -0.196735  0.481122 -0.539055  2.751570   \n",
       "\n",
       "        FIP      kFIP       WAR         y  연봉(2017)  \n",
       "0 -0.971030 -1.058125  4.503142  3.912893  2.734705  \n",
       "1 -1.061888 -1.073265  4.094734  3.266495  1.337303  \n",
       "2 -0.837415 -0.866361  3.761956  6.821679  5.329881  \n",
       "3 -0.698455 -0.760385  2.998081  2.620098  3.333592  \n",
       "4 -0.612941 -0.619085  2.809003  2.975617  2.734705  \n",
       "\n",
       "[5 rows x 22 columns]"
      ]
     },
     "execution_count": 124,
     "metadata": {},
     "output_type": "execute_result"
    }
   ],
   "source": [
    "# 판다스 형태로 정의된 데이터를 출력할 때 scientific-notation이 아닌 float 모양으로 출력되게 해준다.\n",
    "\n",
    "pd.options.mode.chained_assignment = None\n",
    "\n",
    "# 피처 각각에 대한 스케일링을 수행하는 함수를 정의 한다.\n",
    "\n",
    "def standard_scaling(df, scale_columns):\n",
    "    for col in scale_columns:\n",
    "        series_mean = df[col].mean()\n",
    "        series_std = df[col].std()\n",
    "        df[col]= df[col].apply(lambda x: (x-series_mean)/series_std)\n",
    "    return df\n",
    "\n",
    "# 피처 각각에 대한 스케일링을 수행한다.\n",
    "\n",
    "scale_columns = ['승', '패', '세', '홀드', '블론', '경기', '선발', '이닝', '삼진/9',\n",
    "       '볼넷/9', '홈런/9', 'BABIP', 'LOB%', 'ERA', 'RA9-WAR', 'FIP', 'kFIP', 'WAR',\n",
    "       '연봉(2018)', '연봉(2017)']\n",
    "\n",
    "picher_df = standard_scaling(picher, scale_columns)\n",
    "picher_df = picher_df.rename(columns={'연봉(2018)':'y'})\n",
    "picher_df.head(5)"
   ]
  },
  {
   "cell_type": "markdown",
   "id": "cb056e71",
   "metadata": {},
   "source": [
    "연속형이 아닌 범주형 피처들은 어떻게 정규화 할 수 있을까요? 범주형 피처에는 **원-핫 인코딩**이라는 방법을 적용해야 한다. 판다스에서는 get_dummies()라는 함수로 간단하게 원-핫 인코딩을 적용 할 수 있다. 다음 실행 결과는 원-핫 인코딩의 적용 결과이다."
   ]
  },
  {
   "cell_type": "markdown",
   "id": "c62ca8e7",
   "metadata": {},
   "source": [
    "- 피처들의 단위 맞춰주기 : 원-핫 인코딩"
   ]
  },
  {
   "cell_type": "code",
   "execution_count": 125,
   "id": "9acc5657",
   "metadata": {},
   "outputs": [],
   "source": [
    "# 팀명 피처를 one-hot encoding으로 변환합니다.\n",
    "team_encoding = pd.get_dummies(picher_df['팀명'])\n",
    "picher_df = picher_df.drop('팀명', axis=1)\n",
    "picher_df = picher_df.join(team_encoding)"
   ]
  },
  {
   "cell_type": "code",
   "execution_count": 126,
   "id": "c1568e35",
   "metadata": {},
   "outputs": [
    {
     "data": {
      "text/html": [
       "<div>\n",
       "<style scoped>\n",
       "    .dataframe tbody tr th:only-of-type {\n",
       "        vertical-align: middle;\n",
       "    }\n",
       "\n",
       "    .dataframe tbody tr th {\n",
       "        vertical-align: top;\n",
       "    }\n",
       "\n",
       "    .dataframe thead th {\n",
       "        text-align: right;\n",
       "    }\n",
       "</style>\n",
       "<table border=\"1\" class=\"dataframe\">\n",
       "  <thead>\n",
       "    <tr style=\"text-align: right;\">\n",
       "      <th></th>\n",
       "      <th>KIA</th>\n",
       "      <th>KT</th>\n",
       "      <th>LG</th>\n",
       "      <th>NC</th>\n",
       "      <th>SK</th>\n",
       "      <th>두산</th>\n",
       "      <th>롯데</th>\n",
       "      <th>삼성</th>\n",
       "      <th>한화</th>\n",
       "    </tr>\n",
       "  </thead>\n",
       "  <tbody>\n",
       "    <tr>\n",
       "      <th>0</th>\n",
       "      <td>0</td>\n",
       "      <td>0</td>\n",
       "      <td>0</td>\n",
       "      <td>0</td>\n",
       "      <td>1</td>\n",
       "      <td>0</td>\n",
       "      <td>0</td>\n",
       "      <td>0</td>\n",
       "      <td>0</td>\n",
       "    </tr>\n",
       "    <tr>\n",
       "      <th>1</th>\n",
       "      <td>0</td>\n",
       "      <td>0</td>\n",
       "      <td>1</td>\n",
       "      <td>0</td>\n",
       "      <td>0</td>\n",
       "      <td>0</td>\n",
       "      <td>0</td>\n",
       "      <td>0</td>\n",
       "      <td>0</td>\n",
       "    </tr>\n",
       "    <tr>\n",
       "      <th>2</th>\n",
       "      <td>1</td>\n",
       "      <td>0</td>\n",
       "      <td>0</td>\n",
       "      <td>0</td>\n",
       "      <td>0</td>\n",
       "      <td>0</td>\n",
       "      <td>0</td>\n",
       "      <td>0</td>\n",
       "      <td>0</td>\n",
       "    </tr>\n",
       "    <tr>\n",
       "      <th>3</th>\n",
       "      <td>0</td>\n",
       "      <td>0</td>\n",
       "      <td>1</td>\n",
       "      <td>0</td>\n",
       "      <td>0</td>\n",
       "      <td>0</td>\n",
       "      <td>0</td>\n",
       "      <td>0</td>\n",
       "      <td>0</td>\n",
       "    </tr>\n",
       "    <tr>\n",
       "      <th>4</th>\n",
       "      <td>0</td>\n",
       "      <td>0</td>\n",
       "      <td>0</td>\n",
       "      <td>0</td>\n",
       "      <td>0</td>\n",
       "      <td>0</td>\n",
       "      <td>1</td>\n",
       "      <td>0</td>\n",
       "      <td>0</td>\n",
       "    </tr>\n",
       "  </tbody>\n",
       "</table>\n",
       "</div>"
      ],
      "text/plain": [
       "   KIA  KT  LG  NC  SK  두산  롯데  삼성  한화\n",
       "0    0   0   0   0   1   0   0   0   0\n",
       "1    0   0   1   0   0   0   0   0   0\n",
       "2    1   0   0   0   0   0   0   0   0\n",
       "3    0   0   1   0   0   0   0   0   0\n",
       "4    0   0   0   0   0   0   1   0   0"
      ]
     },
     "execution_count": 126,
     "metadata": {},
     "output_type": "execute_result"
    }
   ],
   "source": [
    "team_encoding.head(5)"
   ]
  },
  {
   "cell_type": "markdown",
   "id": "53e70d8e",
   "metadata": {},
   "source": [
    "이제 회귀 분석 모델을 학습시킬 준비가 거의 완료되었다. 한 가지 더 준비할 것은 모델의 **학습 데이터셋(학습 전용 데이터셋)과 모델의 테스트 데이터셋(테스트 전용 데이터셋)** 으로 데이터를 분리하는 것이다. 파이썬에서는 sklearn 이라는 train_test_split() 함수로 이를 수행할 수 있다. 다음 코드를 보자."
   ]
  },
  {
   "cell_type": "markdown",
   "id": "709200dd",
   "metadata": {},
   "source": [
    "- 회귀 분석을 위한 학습, 테스트 데이터셋 분리"
   ]
  },
  {
   "cell_type": "code",
   "execution_count": 127,
   "id": "b57cf38e",
   "metadata": {},
   "outputs": [],
   "source": [
    "from sklearn import linear_model\n",
    "from sklearn.model_selection import train_test_split\n",
    "from sklearn.metrics import mean_squared_error\n",
    "from math import sqrt\n",
    "\n",
    "# 학습 데이터와 테스트 데이터로 분리하기\n",
    "\n",
    "X = picher_df[picher_df.columns.difference(['선수명', 'y'])]\n",
    "y = picher_df['y']\n",
    "X_train, X_test, y_train, y_test, = train_test_split(X, y, test_size=0.2, random_state=19)"
   ]
  },
  {
   "cell_type": "markdown",
   "id": "106004c4",
   "metadata": {},
   "source": [
    "이제 회귀 분석을 수행하는 코드를 살펴보았다. 다음 코드에서 sklearn 라이브러리의 LinearRegression()으로 모델 오브젝트를 선언한 뒤, 해당 오브젝트에 model=lr.fit(X_train, y_train) 코드를 실행시키자. 그러면 아래의 결과처럼 학습이 완료된 회귀식의 계수를 출력 할 수 있다."
   ]
  },
  {
   "cell_type": "markdown",
   "id": "515e9fa2",
   "metadata": {},
   "source": [
    "- 회귀 분석 계수 학습 & 학습된 계수 출력"
   ]
  },
  {
   "cell_type": "code",
   "execution_count": 128,
   "id": "3e80bef5",
   "metadata": {},
   "outputs": [
    {
     "name": "stdout",
     "output_type": "stream",
     "text": [
      "[-0.04786627 -0.01346728 -3.04246951 -0.05044684  0.05080696 -0.02414453\n",
      " -0.0444572  -0.01692096  0.12795775  0.02903539  0.3320053   2.51036516\n",
      " -0.07867911 -0.02883312  0.01454106  0.2460238   0.04107999 -0.09083678\n",
      "  0.17442938 -0.15504813 -0.00810251  0.0076283   0.6182979   0.027602\n",
      "  0.04206816  0.11679881 -0.03022142  0.58643087]\n"
     ]
    }
   ],
   "source": [
    "# 회귀 분석 계수를 학습한다. (회귀 모델 학습)\n",
    "lr = linear_model.LinearRegression()\n",
    "model = lr.fit(X_train, y_train)\n",
    "\n",
    "# 학습된 계수를 출력한다.\n",
    "print(lr.coef_)"
   ]
  },
  {
   "cell_type": "markdown",
   "id": "d89bfc6b",
   "metadata": {},
   "source": [
    "### Step 3 평가: 예측 모델 평가하기\n",
    "\n",
    "회귀 분석은 statsmodel 라이브러리의 OLS 클래스로도 실행이 가능하다. OLS 클래스의 summary() 함수를 사용하면 다음의 실행 결과처럼 계수에 대한 자세한 분석 내용을 살펴볼 수 있다."
   ]
  },
  {
   "cell_type": "markdown",
   "id": "4cb5ad48",
   "metadata": {},
   "source": [
    "- 어떤 피처가 가장 영향력이 강한 피처 일까"
   ]
  },
  {
   "cell_type": "code",
   "execution_count": 129,
   "id": "167f22d7",
   "metadata": {},
   "outputs": [
    {
     "data": {
      "text/html": [
       "<table class=\"simpletable\">\n",
       "<caption>OLS Regression Results</caption>\n",
       "<tr>\n",
       "  <th>Dep. Variable:</th>            <td>y</td>        <th>  R-squared:         </th> <td>   0.928</td>\n",
       "</tr>\n",
       "<tr>\n",
       "  <th>Model:</th>                   <td>OLS</td>       <th>  Adj. R-squared:    </th> <td>   0.907</td>\n",
       "</tr>\n",
       "<tr>\n",
       "  <th>Method:</th>             <td>Least Squares</td>  <th>  F-statistic:       </th> <td>   44.19</td>\n",
       "</tr>\n",
       "<tr>\n",
       "  <th>Date:</th>             <td>Fri, 23 Apr 2021</td> <th>  Prob (F-statistic):</th> <td>7.70e-42</td>\n",
       "</tr>\n",
       "<tr>\n",
       "  <th>Time:</th>                 <td>14:46:18</td>     <th>  Log-Likelihood:    </th> <td>  3.3433</td>\n",
       "</tr>\n",
       "<tr>\n",
       "  <th>No. Observations:</th>      <td>   121</td>      <th>  AIC:               </th> <td>   49.31</td>\n",
       "</tr>\n",
       "<tr>\n",
       "  <th>Df Residuals:</th>          <td>    93</td>      <th>  BIC:               </th> <td>   127.6</td>\n",
       "</tr>\n",
       "<tr>\n",
       "  <th>Df Model:</th>              <td>    27</td>      <th>                     </th>     <td> </td>   \n",
       "</tr>\n",
       "<tr>\n",
       "  <th>Covariance Type:</th>      <td>nonrobust</td>    <th>                     </th>     <td> </td>   \n",
       "</tr>\n",
       "</table>\n",
       "<table class=\"simpletable\">\n",
       "<tr>\n",
       "      <td></td>        <th>coef</th>     <th>std err</th>      <th>t</th>      <th>P>|t|</th>  <th>[0.025</th>    <th>0.975]</th>  \n",
       "</tr>\n",
       "<tr>\n",
       "  <th>const</th>    <td>   -0.0085</td> <td>    0.023</td> <td>   -0.376</td> <td> 0.708</td> <td>   -0.053</td> <td>    0.036</td>\n",
       "</tr>\n",
       "<tr>\n",
       "  <th>BABIP</th>    <td>   -0.0479</td> <td>    0.042</td> <td>   -1.145</td> <td> 0.255</td> <td>   -0.131</td> <td>    0.035</td>\n",
       "</tr>\n",
       "<tr>\n",
       "  <th>ERA</th>      <td>   -0.0135</td> <td>    0.075</td> <td>   -0.179</td> <td> 0.858</td> <td>   -0.163</td> <td>    0.136</td>\n",
       "</tr>\n",
       "<tr>\n",
       "  <th>FIP</th>      <td>   -3.0425</td> <td>    3.048</td> <td>   -0.998</td> <td> 0.321</td> <td>   -9.094</td> <td>    3.009</td>\n",
       "</tr>\n",
       "<tr>\n",
       "  <th>KIA</th>      <td>   -0.0514</td> <td>    0.072</td> <td>   -0.716</td> <td> 0.476</td> <td>   -0.194</td> <td>    0.091</td>\n",
       "</tr>\n",
       "<tr>\n",
       "  <th>KT</th>       <td>    0.0499</td> <td>    0.069</td> <td>    0.723</td> <td> 0.471</td> <td>   -0.087</td> <td>    0.187</td>\n",
       "</tr>\n",
       "<tr>\n",
       "  <th>LG</th>       <td>   -0.0251</td> <td>    0.078</td> <td>   -0.323</td> <td> 0.747</td> <td>   -0.179</td> <td>    0.129</td>\n",
       "</tr>\n",
       "<tr>\n",
       "  <th>LOB%</th>     <td>   -0.0445</td> <td>    0.051</td> <td>   -0.879</td> <td> 0.382</td> <td>   -0.145</td> <td>    0.056</td>\n",
       "</tr>\n",
       "<tr>\n",
       "  <th>NC</th>       <td>   -0.0179</td> <td>    0.086</td> <td>   -0.208</td> <td> 0.836</td> <td>   -0.189</td> <td>    0.153</td>\n",
       "</tr>\n",
       "<tr>\n",
       "  <th>RA9-WAR</th>  <td>    0.1280</td> <td>    0.095</td> <td>    1.351</td> <td> 0.180</td> <td>   -0.060</td> <td>    0.316</td>\n",
       "</tr>\n",
       "<tr>\n",
       "  <th>SK</th>       <td>    0.0281</td> <td>    0.073</td> <td>    0.387</td> <td> 0.699</td> <td>   -0.116</td> <td>    0.172</td>\n",
       "</tr>\n",
       "<tr>\n",
       "  <th>WAR</th>      <td>    0.3320</td> <td>    0.082</td> <td>    4.057</td> <td> 0.000</td> <td>    0.169</td> <td>    0.495</td>\n",
       "</tr>\n",
       "<tr>\n",
       "  <th>kFIP</th>     <td>    2.5104</td> <td>    2.570</td> <td>    0.977</td> <td> 0.331</td> <td>   -2.594</td> <td>    7.615</td>\n",
       "</tr>\n",
       "<tr>\n",
       "  <th>경기</th>       <td>   -0.0787</td> <td>    0.095</td> <td>   -0.824</td> <td> 0.412</td> <td>   -0.268</td> <td>    0.111</td>\n",
       "</tr>\n",
       "<tr>\n",
       "  <th>두산</th>       <td>   -0.0298</td> <td>    0.084</td> <td>   -0.356</td> <td> 0.723</td> <td>   -0.196</td> <td>    0.136</td>\n",
       "</tr>\n",
       "<tr>\n",
       "  <th>롯데</th>       <td>    0.0136</td> <td>    0.083</td> <td>    0.164</td> <td> 0.870</td> <td>   -0.151</td> <td>    0.178</td>\n",
       "</tr>\n",
       "<tr>\n",
       "  <th>볼넷/9</th>     <td>    0.2460</td> <td>    0.203</td> <td>    1.213</td> <td> 0.228</td> <td>   -0.157</td> <td>    0.649</td>\n",
       "</tr>\n",
       "<tr>\n",
       "  <th>블론</th>       <td>    0.0411</td> <td>    0.040</td> <td>    1.023</td> <td> 0.309</td> <td>   -0.039</td> <td>    0.121</td>\n",
       "</tr>\n",
       "<tr>\n",
       "  <th>삼성</th>       <td>   -0.0918</td> <td>    0.080</td> <td>   -1.144</td> <td> 0.256</td> <td>   -0.251</td> <td>    0.068</td>\n",
       "</tr>\n",
       "<tr>\n",
       "  <th>삼진/9</th>     <td>    0.1744</td> <td>    0.235</td> <td>    0.741</td> <td> 0.461</td> <td>   -0.293</td> <td>    0.642</td>\n",
       "</tr>\n",
       "<tr>\n",
       "  <th>선발</th>       <td>   -0.1550</td> <td>    0.177</td> <td>   -0.874</td> <td> 0.384</td> <td>   -0.507</td> <td>    0.197</td>\n",
       "</tr>\n",
       "<tr>\n",
       "  <th>세</th>        <td>   -0.0081</td> <td>    0.042</td> <td>   -0.194</td> <td> 0.847</td> <td>   -0.091</td> <td>    0.075</td>\n",
       "</tr>\n",
       "<tr>\n",
       "  <th>승</th>        <td>    0.0076</td> <td>    0.072</td> <td>    0.107</td> <td> 0.915</td> <td>   -0.135</td> <td>    0.150</td>\n",
       "</tr>\n",
       "<tr>\n",
       "  <th>연봉(2017)</th> <td>    0.6183</td> <td>    0.041</td> <td>   15.055</td> <td> 0.000</td> <td>    0.537</td> <td>    0.700</td>\n",
       "</tr>\n",
       "<tr>\n",
       "  <th>이닝</th>       <td>    0.0276</td> <td>    0.214</td> <td>    0.129</td> <td> 0.898</td> <td>   -0.398</td> <td>    0.453</td>\n",
       "</tr>\n",
       "<tr>\n",
       "  <th>패</th>        <td>    0.0421</td> <td>    0.063</td> <td>    0.672</td> <td> 0.503</td> <td>   -0.082</td> <td>    0.166</td>\n",
       "</tr>\n",
       "<tr>\n",
       "  <th>한화</th>       <td>    0.1159</td> <td>    0.071</td> <td>    1.641</td> <td> 0.104</td> <td>   -0.024</td> <td>    0.256</td>\n",
       "</tr>\n",
       "<tr>\n",
       "  <th>홀드</th>       <td>   -0.0302</td> <td>    0.053</td> <td>   -0.571</td> <td> 0.569</td> <td>   -0.135</td> <td>    0.075</td>\n",
       "</tr>\n",
       "<tr>\n",
       "  <th>홈런/9</th>     <td>    0.5864</td> <td>    0.542</td> <td>    1.082</td> <td> 0.282</td> <td>   -0.490</td> <td>    1.663</td>\n",
       "</tr>\n",
       "</table>\n",
       "<table class=\"simpletable\">\n",
       "<tr>\n",
       "  <th>Omnibus:</th>       <td>28.069</td> <th>  Durbin-Watson:     </th> <td>   2.025</td>\n",
       "</tr>\n",
       "<tr>\n",
       "  <th>Prob(Omnibus):</th> <td> 0.000</td> <th>  Jarque-Bera (JB):  </th> <td> 194.274</td>\n",
       "</tr>\n",
       "<tr>\n",
       "  <th>Skew:</th>          <td>-0.405</td> <th>  Prob(JB):          </th> <td>6.52e-43</td>\n",
       "</tr>\n",
       "<tr>\n",
       "  <th>Kurtosis:</th>      <td> 9.155</td> <th>  Cond. No.          </th> <td>3.59e+16</td>\n",
       "</tr>\n",
       "</table><br/><br/>Notes:<br/>[1] Standard Errors assume that the covariance matrix of the errors is correctly specified.<br/>[2] The smallest eigenvalue is 6.16e-31. This might indicate that there are<br/>strong multicollinearity problems or that the design matrix is singular."
      ],
      "text/plain": [
       "<class 'statsmodels.iolib.summary.Summary'>\n",
       "\"\"\"\n",
       "                            OLS Regression Results                            \n",
       "==============================================================================\n",
       "Dep. Variable:                      y   R-squared:                       0.928\n",
       "Model:                            OLS   Adj. R-squared:                  0.907\n",
       "Method:                 Least Squares   F-statistic:                     44.19\n",
       "Date:                Fri, 23 Apr 2021   Prob (F-statistic):           7.70e-42\n",
       "Time:                        14:46:18   Log-Likelihood:                 3.3433\n",
       "No. Observations:                 121   AIC:                             49.31\n",
       "Df Residuals:                      93   BIC:                             127.6\n",
       "Df Model:                          27                                         \n",
       "Covariance Type:            nonrobust                                         \n",
       "==============================================================================\n",
       "                 coef    std err          t      P>|t|      [0.025      0.975]\n",
       "------------------------------------------------------------------------------\n",
       "const         -0.0085      0.023     -0.376      0.708      -0.053       0.036\n",
       "BABIP         -0.0479      0.042     -1.145      0.255      -0.131       0.035\n",
       "ERA           -0.0135      0.075     -0.179      0.858      -0.163       0.136\n",
       "FIP           -3.0425      3.048     -0.998      0.321      -9.094       3.009\n",
       "KIA           -0.0514      0.072     -0.716      0.476      -0.194       0.091\n",
       "KT             0.0499      0.069      0.723      0.471      -0.087       0.187\n",
       "LG            -0.0251      0.078     -0.323      0.747      -0.179       0.129\n",
       "LOB%          -0.0445      0.051     -0.879      0.382      -0.145       0.056\n",
       "NC            -0.0179      0.086     -0.208      0.836      -0.189       0.153\n",
       "RA9-WAR        0.1280      0.095      1.351      0.180      -0.060       0.316\n",
       "SK             0.0281      0.073      0.387      0.699      -0.116       0.172\n",
       "WAR            0.3320      0.082      4.057      0.000       0.169       0.495\n",
       "kFIP           2.5104      2.570      0.977      0.331      -2.594       7.615\n",
       "경기            -0.0787      0.095     -0.824      0.412      -0.268       0.111\n",
       "두산            -0.0298      0.084     -0.356      0.723      -0.196       0.136\n",
       "롯데             0.0136      0.083      0.164      0.870      -0.151       0.178\n",
       "볼넷/9           0.2460      0.203      1.213      0.228      -0.157       0.649\n",
       "블론             0.0411      0.040      1.023      0.309      -0.039       0.121\n",
       "삼성            -0.0918      0.080     -1.144      0.256      -0.251       0.068\n",
       "삼진/9           0.1744      0.235      0.741      0.461      -0.293       0.642\n",
       "선발            -0.1550      0.177     -0.874      0.384      -0.507       0.197\n",
       "세             -0.0081      0.042     -0.194      0.847      -0.091       0.075\n",
       "승              0.0076      0.072      0.107      0.915      -0.135       0.150\n",
       "연봉(2017)       0.6183      0.041     15.055      0.000       0.537       0.700\n",
       "이닝             0.0276      0.214      0.129      0.898      -0.398       0.453\n",
       "패              0.0421      0.063      0.672      0.503      -0.082       0.166\n",
       "한화             0.1159      0.071      1.641      0.104      -0.024       0.256\n",
       "홀드            -0.0302      0.053     -0.571      0.569      -0.135       0.075\n",
       "홈런/9           0.5864      0.542      1.082      0.282      -0.490       1.663\n",
       "==============================================================================\n",
       "Omnibus:                       28.069   Durbin-Watson:                   2.025\n",
       "Prob(Omnibus):                  0.000   Jarque-Bera (JB):              194.274\n",
       "Skew:                          -0.405   Prob(JB):                     6.52e-43\n",
       "Kurtosis:                       9.155   Cond. No.                     3.59e+16\n",
       "==============================================================================\n",
       "\n",
       "Notes:\n",
       "[1] Standard Errors assume that the covariance matrix of the errors is correctly specified.\n",
       "[2] The smallest eigenvalue is 6.16e-31. This might indicate that there are\n",
       "strong multicollinearity problems or that the design matrix is singular.\n",
       "\"\"\""
      ]
     },
     "execution_count": 129,
     "metadata": {},
     "output_type": "execute_result"
    }
   ],
   "source": [
    "import statsmodels.api as sm\n",
    "\n",
    "# statsmodel 라이브러리로 회귀 분석을 수행한다.\n",
    "X_train = sm.add_constant(X_train)\n",
    "model = sm.OLS(y_train, X_train).fit()\n",
    "model.summary()"
   ]
  },
  {
   "cell_type": "markdown",
   "id": "5e6c8c9e",
   "metadata": {},
   "source": [
    "위 실행 결과에서는 결정 계수(R-squared),혹은 수정 결정 계수(Adj, R-squared)라는 점수를 눈여겨볼 필요가 있다. 이 점수들은 회귀 분석이 얼마나 잘 되었는지 평가하는 지표이며, '회귀 분석으로 추정한 모델이 주어진 데이터를 얼마나 잘 설명하는가?'에 대한 점수이다. 이 점수들이 1에 가까울수록 데이터를 잘 설명하는 모델이다. 다음으로 F 통계량 (F-statistic)은 회귀식의 유의성 검정에 사용되는 값으로 P-value 인 Prob(F-statistc)수치와 함게 살펴봐야 한다. 일반적으로 P-value가 0.05 이하면 'F 통계량이 유의한 의미를 가진다' 라는 결론을 내려도 무방하며 이는 회귀 분석이 유의미한 결과를 가진다는 것이다. 또한 표의 P>t 라는 정보는 각 피처의 검정 통계량(t-statistics)이 얼마나 유의미한지에 대한 p-value를 나타낸는 것이다. "
   ]
  },
  {
   "cell_type": "markdown",
   "id": "4d945caf",
   "metadata": {},
   "source": [
    "- 어떤 피처가 가장 영향력이 강한 피처일까"
   ]
  },
  {
   "cell_type": "code",
   "execution_count": 130,
   "id": "8e23673f",
   "metadata": {},
   "outputs": [
    {
     "data": {
      "text/plain": [
       "[Text(0, 0, 'const'),\n",
       " Text(1, 0, 'BABIP'),\n",
       " Text(2, 0, 'ERA'),\n",
       " Text(3, 0, 'FIP'),\n",
       " Text(4, 0, 'KIA'),\n",
       " Text(5, 0, 'KT'),\n",
       " Text(6, 0, 'LG'),\n",
       " Text(7, 0, 'LOB%'),\n",
       " Text(8, 0, 'NC'),\n",
       " Text(9, 0, 'RA9-WAR'),\n",
       " Text(10, 0, 'SK'),\n",
       " Text(11, 0, 'WAR'),\n",
       " Text(12, 0, 'kFIP'),\n",
       " Text(13, 0, '경기'),\n",
       " Text(14, 0, '두산'),\n",
       " Text(15, 0, '롯데'),\n",
       " Text(16, 0, '볼넷/9'),\n",
       " Text(17, 0, '블론'),\n",
       " Text(18, 0, '삼성'),\n",
       " Text(19, 0, '삼진/9'),\n",
       " Text(20, 0, '선발'),\n",
       " Text(21, 0, '세'),\n",
       " Text(22, 0, '승'),\n",
       " Text(23, 0, '연봉(2017)'),\n",
       " Text(24, 0, '이닝'),\n",
       " Text(25, 0, '패'),\n",
       " Text(26, 0, '한화'),\n",
       " Text(27, 0, '홀드'),\n",
       " Text(28, 0, '홈런/9')]"
      ]
     },
     "execution_count": 130,
     "metadata": {},
     "output_type": "execute_result"
    },
    {
     "data": {
      "image/png": "[encoded data removed]",
      "text/plain": [
       "<Figure size 1440x1152 with 1 Axes>"
      ]
     },
     "metadata": {
      "needs_background": "light"
     },
     "output_type": "display_data"
    }
   ],
   "source": [
    "# 회귀 계수를 리스트로 반환한다.\n",
    "coefs = model.params.tolist()\n",
    "coefs_series = pd.Series(coefs)\n",
    "\n",
    "# 변수명을 리스트로 반환 한다.\n",
    "x_labels = model.params.index.tolist()\n",
    "\n",
    "# 회귀 계수를 출력\n",
    "\n",
    "ax = coefs_series.plot(kind='bar')\n",
    "ax.set_title('feature_coef_graph')\n",
    "ax.set_xlabel('x_features')\n",
    "ax.set_ylabel('coef')\n",
    "ax.set_xticklabels(x_labels)"
   ]
  },
  {
   "cell_type": "markdown",
   "id": "e4f50cf5",
   "metadata": {},
   "source": [
    "이에 대한 위 코드의 시각화 결과 FIP, WAR, 홈런, 작년 연봉 피처가 가장 영량력이 큰것으로 보인다. 다음으로 아래의 출력 결과는 수정 결정 계수(R2 score)를 sklean의 LineaarRegression 클래스로 출력해 보자."
   ]
  },
  {
   "cell_type": "markdown",
   "id": "abdcacd6",
   "metadata": {},
   "source": [
    " - 예측 모델의 평가하기 : R2 score"
   ]
  },
  {
   "cell_type": "code",
   "execution_count": 131,
   "id": "82d8a012",
   "metadata": {},
   "outputs": [
    {
     "name": "stdout",
     "output_type": "stream",
     "text": [
      "0.9276949405576704\n",
      "0.8860171644977818\n"
     ]
    }
   ],
   "source": [
    "# 학습 데이터와 테스트 데이터로 분리한다.\n",
    "\n",
    "X= picher_df[picher_df.columns.difference(['선수명', 'y'])]\n",
    "y = picher_df['y']\n",
    "X_train, X_test, y_train, y_test = train_test_split(X, y, test_size=0.2, random_state=19)\n",
    "\n",
    "# 회귀 분석 모델을 학습하자\n",
    "lr = linear_model.LinearRegression()\n",
    "model = lr.fit(X_train, y_train)\n",
    "\n",
    "# 회귀 분석 모델을 평가한다.\n",
    "print(model.score(X_train, y_train)) # train R2 score를 출력\n",
    "print(model.score(X_test, y_test)) # test R2 score를 출력"
   ]
  },
  {
   "cell_type": "markdown",
   "id": "560497ca",
   "metadata": {},
   "source": [
    "실행 결과의 각 값은 학습 데이터셋과 테스트 데이터셋에 대한 평가 점수를 의미하며, 이 두 점수는 최대한 벌어지지 않는 것이 좋다. 만약 학습 점수가 테스트 점수에 비해 높다면 과적합이 발생한 것이다. 모의고사에만 특화된 공부를 한 나머지, 실제 시험의 새로운 유형에 적응하지 못하는 경우라고 비유할 수 있다. 회귀 모델을 평가할 때는 RMSE score라는 측정 지표를 활용할 수도 있다. 이 점수는 실제값과 예측값의 차이를 절대적인 수치로 나타낸 것이다. 이 값이 높으면 높을수록 예측이 부정확하다는 것의 의미한다. 다음 코드는 RMSE score를 출력한 것이다."
   ]
  },
  {
   "cell_type": "markdown",
   "id": "a2090e32",
   "metadata": {},
   "source": [
    "- 예측 모델의 평가하기 : RMSE score"
   ]
  },
  {
   "cell_type": "code",
   "execution_count": 132,
   "id": "d24985cb",
   "metadata": {},
   "outputs": [
    {
     "name": "stdout",
     "output_type": "stream",
     "text": [
      "0.23537641149363747\n",
      "0.462519632997063\n"
     ]
    }
   ],
   "source": [
    "# 회귀 분석 모델을 평가한다\n",
    "y_predictions = lr.predict(X_train)\n",
    "print(sqrt(mean_squared_error(y_train, y_predictions))) # train RMSE score를 출력\n",
    "y_predictions = lr.predict(X_test)\n",
    "print(sqrt(mean_squared_error(y_test, y_predictions))) # test RMSE score를 출력"
   ]
  },
  {
   "cell_type": "markdown",
   "id": "60c6c087",
   "metadata": {},
   "source": [
    "이번에는 피처들의 상관 관계를 살펴보기 위해 heatmap 방식의 시각화를 사용하겠다. 이를 통해 승-이닝, kFIP-FIP, RA9_WAR-WAR 등의 피처 쌍에서 높은 연관성을 발견할 수 있다."
   ]
  },
  {
   "cell_type": "markdown",
   "id": "3fc6dff4",
   "metadata": {},
   "source": [
    "- 피처들의 상관 관계 분석하기"
   ]
  },
  {
   "cell_type": "code",
   "execution_count": 140,
   "id": "796da210",
   "metadata": {},
   "outputs": [
    {
     "ename": "KeyError",
     "evalue": "\"['연봉(2018)'] not in index\"",
     "output_type": "error",
     "traceback": [
      "\u001b[0;31m---------------------------------------------------------------------------\u001b[0m",
      "\u001b[0;31mKeyError\u001b[0m                                  Traceback (most recent call last)",
      "\u001b[0;32m<ipython-input-140-a5b2262db167>\u001b[0m in \u001b[0;36m<module>\u001b[0;34m\u001b[0m\n\u001b[1;32m      2\u001b[0m \u001b[0;34m\u001b[0m\u001b[0m\n\u001b[1;32m      3\u001b[0m \u001b[0;31m# 피처간의 상관계수 행렬을 계산한다.\u001b[0m\u001b[0;34m\u001b[0m\u001b[0;34m\u001b[0m\u001b[0;34m\u001b[0m\u001b[0m\n\u001b[0;32m----> 4\u001b[0;31m \u001b[0mcorr\u001b[0m \u001b[0;34m=\u001b[0m \u001b[0mpicher_df\u001b[0m\u001b[0;34m[\u001b[0m\u001b[0mscale_columns\u001b[0m\u001b[0;34m]\u001b[0m\u001b[0;34m.\u001b[0m\u001b[0mcorr\u001b[0m\u001b[0;34m(\u001b[0m\u001b[0mmethod\u001b[0m\u001b[0;34m=\u001b[0m\u001b[0;34m'pearson'\u001b[0m\u001b[0;34m)\u001b[0m\u001b[0;34m\u001b[0m\u001b[0;34m\u001b[0m\u001b[0m\n\u001b[0m\u001b[1;32m      5\u001b[0m show_cols = ['win', 'lose', 'save', 'hold', 'blon', 'match', 'start', \n\u001b[1;32m      6\u001b[0m              \u001b[0;34m'inning'\u001b[0m\u001b[0;34m,\u001b[0m \u001b[0;34m'strike3'\u001b[0m\u001b[0;34m,\u001b[0m \u001b[0;34m'ball4'\u001b[0m\u001b[0;34m,\u001b[0m \u001b[0;34m'homerun'\u001b[0m\u001b[0;34m,\u001b[0m \u001b[0;34m'BABIP'\u001b[0m\u001b[0;34m,\u001b[0m \u001b[0;34m'LOB'\u001b[0m\u001b[0;34m,\u001b[0m\u001b[0;34m\u001b[0m\u001b[0;34m\u001b[0m\u001b[0m\n",
      "\u001b[0;32m~/.local/lib/python3.6/site-packages/pandas/core/frame.py\u001b[0m in \u001b[0;36m__getitem__\u001b[0;34m(self, key)\u001b[0m\n\u001b[1;32m   2910\u001b[0m             \u001b[0;32mif\u001b[0m \u001b[0mis_iterator\u001b[0m\u001b[0;34m(\u001b[0m\u001b[0mkey\u001b[0m\u001b[0;34m)\u001b[0m\u001b[0;34m:\u001b[0m\u001b[0;34m\u001b[0m\u001b[0;34m\u001b[0m\u001b[0m\n\u001b[1;32m   2911\u001b[0m                 \u001b[0mkey\u001b[0m \u001b[0;34m=\u001b[0m \u001b[0mlist\u001b[0m\u001b[0;34m(\u001b[0m\u001b[0mkey\u001b[0m\u001b[0;34m)\u001b[0m\u001b[0;34m\u001b[0m\u001b[0;34m\u001b[0m\u001b[0m\n\u001b[0;32m-> 2912\u001b[0;31m             \u001b[0mindexer\u001b[0m \u001b[0;34m=\u001b[0m \u001b[0mself\u001b[0m\u001b[0;34m.\u001b[0m\u001b[0mloc\u001b[0m\u001b[0;34m.\u001b[0m\u001b[0m_get_listlike_indexer\u001b[0m\u001b[0;34m(\u001b[0m\u001b[0mkey\u001b[0m\u001b[0;34m,\u001b[0m \u001b[0maxis\u001b[0m\u001b[0;34m=\u001b[0m\u001b[0;36m1\u001b[0m\u001b[0;34m,\u001b[0m \u001b[0mraise_missing\u001b[0m\u001b[0;34m=\u001b[0m\u001b[0;32mTrue\u001b[0m\u001b[0;34m)\u001b[0m\u001b[0;34m[\u001b[0m\u001b[0;36m1\u001b[0m\u001b[0;34m]\u001b[0m\u001b[0;34m\u001b[0m\u001b[0;34m\u001b[0m\u001b[0m\n\u001b[0m\u001b[1;32m   2913\u001b[0m \u001b[0;34m\u001b[0m\u001b[0m\n\u001b[1;32m   2914\u001b[0m         \u001b[0;31m# take() does not accept boolean indexers\u001b[0m\u001b[0;34m\u001b[0m\u001b[0;34m\u001b[0m\u001b[0;34m\u001b[0m\u001b[0m\n",
      "\u001b[0;32m~/.local/lib/python3.6/site-packages/pandas/core/indexing.py\u001b[0m in \u001b[0;36m_get_listlike_indexer\u001b[0;34m(self, key, axis, raise_missing)\u001b[0m\n\u001b[1;32m   1252\u001b[0m             \u001b[0mkeyarr\u001b[0m\u001b[0;34m,\u001b[0m \u001b[0mindexer\u001b[0m\u001b[0;34m,\u001b[0m \u001b[0mnew_indexer\u001b[0m \u001b[0;34m=\u001b[0m \u001b[0max\u001b[0m\u001b[0;34m.\u001b[0m\u001b[0m_reindex_non_unique\u001b[0m\u001b[0;34m(\u001b[0m\u001b[0mkeyarr\u001b[0m\u001b[0;34m)\u001b[0m\u001b[0;34m\u001b[0m\u001b[0;34m\u001b[0m\u001b[0m\n\u001b[1;32m   1253\u001b[0m \u001b[0;34m\u001b[0m\u001b[0m\n\u001b[0;32m-> 1254\u001b[0;31m         \u001b[0mself\u001b[0m\u001b[0;34m.\u001b[0m\u001b[0m_validate_read_indexer\u001b[0m\u001b[0;34m(\u001b[0m\u001b[0mkeyarr\u001b[0m\u001b[0;34m,\u001b[0m \u001b[0mindexer\u001b[0m\u001b[0;34m,\u001b[0m \u001b[0maxis\u001b[0m\u001b[0;34m,\u001b[0m \u001b[0mraise_missing\u001b[0m\u001b[0;34m=\u001b[0m\u001b[0mraise_missing\u001b[0m\u001b[0;34m)\u001b[0m\u001b[0;34m\u001b[0m\u001b[0;34m\u001b[0m\u001b[0m\n\u001b[0m\u001b[1;32m   1255\u001b[0m         \u001b[0;32mreturn\u001b[0m \u001b[0mkeyarr\u001b[0m\u001b[0;34m,\u001b[0m \u001b[0mindexer\u001b[0m\u001b[0;34m\u001b[0m\u001b[0;34m\u001b[0m\u001b[0m\n\u001b[1;32m   1256\u001b[0m \u001b[0;34m\u001b[0m\u001b[0m\n",
      "\u001b[0;32m~/.local/lib/python3.6/site-packages/pandas/core/indexing.py\u001b[0m in \u001b[0;36m_validate_read_indexer\u001b[0;34m(self, key, indexer, axis, raise_missing)\u001b[0m\n\u001b[1;32m   1302\u001b[0m             \u001b[0;32mif\u001b[0m \u001b[0mraise_missing\u001b[0m\u001b[0;34m:\u001b[0m\u001b[0;34m\u001b[0m\u001b[0;34m\u001b[0m\u001b[0m\n\u001b[1;32m   1303\u001b[0m                 \u001b[0mnot_found\u001b[0m \u001b[0;34m=\u001b[0m \u001b[0mlist\u001b[0m\u001b[0;34m(\u001b[0m\u001b[0mset\u001b[0m\u001b[0;34m(\u001b[0m\u001b[0mkey\u001b[0m\u001b[0;34m)\u001b[0m \u001b[0;34m-\u001b[0m \u001b[0mset\u001b[0m\u001b[0;34m(\u001b[0m\u001b[0max\u001b[0m\u001b[0;34m)\u001b[0m\u001b[0;34m)\u001b[0m\u001b[0;34m\u001b[0m\u001b[0;34m\u001b[0m\u001b[0m\n\u001b[0;32m-> 1304\u001b[0;31m                 \u001b[0;32mraise\u001b[0m \u001b[0mKeyError\u001b[0m\u001b[0;34m(\u001b[0m\u001b[0;34mf\"{not_found} not in index\"\u001b[0m\u001b[0;34m)\u001b[0m\u001b[0;34m\u001b[0m\u001b[0;34m\u001b[0m\u001b[0m\n\u001b[0m\u001b[1;32m   1305\u001b[0m \u001b[0;34m\u001b[0m\u001b[0m\n\u001b[1;32m   1306\u001b[0m             \u001b[0;31m# we skip the warning on Categorical\u001b[0m\u001b[0;34m\u001b[0m\u001b[0;34m\u001b[0m\u001b[0;34m\u001b[0m\u001b[0m\n",
      "\u001b[0;31mKeyError\u001b[0m: \"['연봉(2018)'] not in index\""
     ]
    }
   ],
   "source": [
    "import seaborn as sns\n",
    "\n",
    "# 피처간의 상관계수 행렬을 계산한다.\n",
    "corr = picher_df[scale_columns].corr(method='pearson')\n",
    "show_cols = ['win', 'lose', 'save', 'hold', 'blon', 'match', 'start', \n",
    "             'inning', 'strike3', 'ball4', 'homerun', 'BABIP', 'LOB', \n",
    "             'ERA', 'RA9-WAR', 'FIP', 'kFIP', 'WAR', '2017']\n",
    "\n",
    "# corr 행렬 히트맵을 시각화한다.\n",
    "plt.rc('font', family='NanumGothicOTF')\n",
    "sns.set(font_scale=1.5)\n",
    "hm = sns.heatmap(corr.values,\n",
    "            cbar=True,\n",
    "            annot=True, \n",
    "            square=True,\n",
    "            fmt='.2f',\n",
    "            annot_kws={'size': 15},\n",
    "            yticklabels=show_cols,\n",
    "            xticklabels=show_cols)\n",
    "\n",
    "plt.tight_layout()\n",
    "plt.show()"
   ]
  },
  {
   "cell_type": "code",
   "execution_count": null,
   "id": "f0dd2c73",
   "metadata": {},
   "outputs": [],
   "source": []
  }
 ],
 "metadata": {
  "kernelspec": {
   "display_name": "Python 3",
   "language": "python",
   "name": "python3"
  },
  "language_info": {
   "codemirror_mode": {
    "name": "ipython",
    "version": 3
   },
   "file_extension": ".py",
   "mimetype": "text/x-python",
   "name": "python",
   "nbconvert_exporter": "python",
   "pygments_lexer": "ipython3",
   "version": "3.6.9"
  }
 },
 "nbformat": 4,
 "nbformat_minor": 5
}
