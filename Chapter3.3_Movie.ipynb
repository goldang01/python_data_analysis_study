{
 "cells": [
  {
   "cell_type": "markdown",
   "id": "7f2cc649",
   "metadata": {},
   "source": [
    "<center>\n",
    "<img src=\"http://image.yes24.com/goods/87039632/800x0\" width=\"200\" height=\"200\"><br>\n",
    "</center>\n",
    "\n",
    "\n",
    " - Github: [yoonkt200](https://github.com/yoonkt200/python-data-analysis)"
   ]
  },
  {
   "cell_type": "markdown",
   "id": "bc73106f",
   "metadata": {},
   "source": [
    "# Chapter 03 미래를 예측하는 데이터 분석\n",
    "\n",
    "#### 이 장의 핵심 개념\n",
    "- 지도 학습과 비지도 학습의 개념을 이해한다.\n",
    "- 회귀 분석으로 예측을 수행한다.\n",
    "- 시계열 데이터의 트렌드를 예측한다.\n",
    "- 수학적 기법을 활용하여 평점을 예측한다.\n",
    "\n",
    "### 3.3 미래에 볼 영화의 평점 예측하기\n",
    "\n",
    "데이터 분석을 통해 아직 사람들이 보지 않았지만 좋아할 만한 영화들을 추천할 수 있을까요? 넷플릭스 같은 서비스들은 이러한 것들을 평점 예측 기법으로 제공하고 있다. 이번 절에서는 이러한 평점 예측 기법을 알아보겠다.\n",
    "\n",
    "### Step1 탐색: MovieLens 데이터 살펴보기\n",
    "\n",
    "MovieLens 데이터는 총 3개의 데이터셋으로 분리되어 있으며 데이터셋을 구성하는 피처는 아래와 같다. 각 데이터는 '::' 구분자로 열을 구분하였기 때문에 read_csv() 함수를 사용할 때 delimiter='::'파라미터를 포함해야 한다. 3개의 데이터(rating_data, movie_data, user_data)를 각각 head()함수로 살펴본 결과는 다음과 같다.\n",
    "- MovieLens 데이터셋의 기본 정보 구하기"
   ]
  },
  {
   "cell_type": "code",
   "execution_count": 164,
   "id": "a5fc86d3",
   "metadata": {},
   "outputs": [
    {
     "name": "stderr",
     "output_type": "stream",
     "text": [
      "/home/ubuntu/.local/lib/python3.6/site-packages/ipykernel_launcher.py:19: ParserWarning: Falling back to the 'python' engine because the 'c' engine does not support regex separators (separators > 1 char and different from '\\s+' are interpreted as regex); you can avoid this warning by specifying engine='python'.\n",
      "/home/ubuntu/.local/lib/python3.6/site-packages/ipykernel_launcher.py:21: ParserWarning: Falling back to the 'python' engine because the 'c' engine does not support regex separators (separators > 1 char and different from '\\s+' are interpreted as regex); you can avoid this warning by specifying engine='python'.\n",
      "/home/ubuntu/.local/lib/python3.6/site-packages/ipykernel_launcher.py:23: ParserWarning: Falling back to the 'python' engine because the 'c' engine does not support regex separators (separators > 1 char and different from '\\s+' are interpreted as regex); you can avoid this warning by specifying engine='python'.\n"
     ]
    }
   ],
   "source": [
    "# -*- coding utf-8 -*-\n",
    "%matplotlib inline\n",
    "\n",
    "import time\n",
    "import operator\n",
    "\n",
    "import pandas as pd\n",
    "import numpy as np\n",
    "import matplotlib.pyplot as plt\n",
    "import seaborn as sns\n",
    "\n",
    "# Data Source : https://grouplens.org/datasets/movielens\n",
    "\n",
    "rating_file_path = \"./data/ml-1m/ratings.dat\"\n",
    "movie_file_path = \"./data/ml-1m/movies.dat\"\n",
    "user_file_path = \"./data/ml-1m/users.dat\"\n",
    "\n",
    "rating_data = pd.io.parsers.read_csv(rating_file_path, \n",
    "                                     names=['user_id', 'movie_id', 'rating', 'time'], delimiter='::')\n",
    "movie_data = pd.io.parsers.read_csv(movie_file_path, \n",
    "                                    names=['movie_id', 'title', 'genre'], delimiter='::')\n",
    "user_data = pd.io.parsers.read_csv(user_file_path, \n",
    "                                   names=['user_id', 'gender', 'age', 'occupation', 'zipcode'], delimiter='::')"
   ]
  },
  {
   "cell_type": "code",
   "execution_count": 165,
   "id": "712ad04a",
   "metadata": {},
   "outputs": [
    {
     "data": {
      "text/html": [
       "<div>\n",
       "<style scoped>\n",
       "    .dataframe tbody tr th:only-of-type {\n",
       "        vertical-align: middle;\n",
       "    }\n",
       "\n",
       "    .dataframe tbody tr th {\n",
       "        vertical-align: top;\n",
       "    }\n",
       "\n",
       "    .dataframe thead th {\n",
       "        text-align: right;\n",
       "    }\n",
       "</style>\n",
       "<table border=\"1\" class=\"dataframe\">\n",
       "  <thead>\n",
       "    <tr style=\"text-align: right;\">\n",
       "      <th></th>\n",
       "      <th>user_id</th>\n",
       "      <th>movie_id</th>\n",
       "      <th>rating</th>\n",
       "      <th>time</th>\n",
       "    </tr>\n",
       "  </thead>\n",
       "  <tbody>\n",
       "    <tr>\n",
       "      <th>0</th>\n",
       "      <td>1</td>\n",
       "      <td>1193</td>\n",
       "      <td>5</td>\n",
       "      <td>978300760</td>\n",
       "    </tr>\n",
       "    <tr>\n",
       "      <th>1</th>\n",
       "      <td>1</td>\n",
       "      <td>661</td>\n",
       "      <td>3</td>\n",
       "      <td>978302109</td>\n",
       "    </tr>\n",
       "    <tr>\n",
       "      <th>2</th>\n",
       "      <td>1</td>\n",
       "      <td>914</td>\n",
       "      <td>3</td>\n",
       "      <td>978301968</td>\n",
       "    </tr>\n",
       "    <tr>\n",
       "      <th>3</th>\n",
       "      <td>1</td>\n",
       "      <td>3408</td>\n",
       "      <td>4</td>\n",
       "      <td>978300275</td>\n",
       "    </tr>\n",
       "    <tr>\n",
       "      <th>4</th>\n",
       "      <td>1</td>\n",
       "      <td>2355</td>\n",
       "      <td>5</td>\n",
       "      <td>978824291</td>\n",
       "    </tr>\n",
       "  </tbody>\n",
       "</table>\n",
       "</div>"
      ],
      "text/plain": [
       "   user_id  movie_id  rating       time\n",
       "0        1      1193       5  978300760\n",
       "1        1       661       3  978302109\n",
       "2        1       914       3  978301968\n",
       "3        1      3408       4  978300275\n",
       "4        1      2355       5  978824291"
      ]
     },
     "execution_count": 165,
     "metadata": {},
     "output_type": "execute_result"
    }
   ],
   "source": [
    "rating_data.head()"
   ]
  },
  {
   "cell_type": "code",
   "execution_count": 166,
   "id": "e06bf9c4",
   "metadata": {},
   "outputs": [
    {
     "data": {
      "text/html": [
       "<div>\n",
       "<style scoped>\n",
       "    .dataframe tbody tr th:only-of-type {\n",
       "        vertical-align: middle;\n",
       "    }\n",
       "\n",
       "    .dataframe tbody tr th {\n",
       "        vertical-align: top;\n",
       "    }\n",
       "\n",
       "    .dataframe thead th {\n",
       "        text-align: right;\n",
       "    }\n",
       "</style>\n",
       "<table border=\"1\" class=\"dataframe\">\n",
       "  <thead>\n",
       "    <tr style=\"text-align: right;\">\n",
       "      <th></th>\n",
       "      <th>movie_id</th>\n",
       "      <th>title</th>\n",
       "      <th>genre</th>\n",
       "    </tr>\n",
       "  </thead>\n",
       "  <tbody>\n",
       "    <tr>\n",
       "      <th>0</th>\n",
       "      <td>1</td>\n",
       "      <td>Toy Story (1995)</td>\n",
       "      <td>Animation|Children's|Comedy</td>\n",
       "    </tr>\n",
       "    <tr>\n",
       "      <th>1</th>\n",
       "      <td>2</td>\n",
       "      <td>Jumanji (1995)</td>\n",
       "      <td>Adventure|Children's|Fantasy</td>\n",
       "    </tr>\n",
       "    <tr>\n",
       "      <th>2</th>\n",
       "      <td>3</td>\n",
       "      <td>Grumpier Old Men (1995)</td>\n",
       "      <td>Comedy|Romance</td>\n",
       "    </tr>\n",
       "    <tr>\n",
       "      <th>3</th>\n",
       "      <td>4</td>\n",
       "      <td>Waiting to Exhale (1995)</td>\n",
       "      <td>Comedy|Drama</td>\n",
       "    </tr>\n",
       "    <tr>\n",
       "      <th>4</th>\n",
       "      <td>5</td>\n",
       "      <td>Father of the Bride Part II (1995)</td>\n",
       "      <td>Comedy</td>\n",
       "    </tr>\n",
       "  </tbody>\n",
       "</table>\n",
       "</div>"
      ],
      "text/plain": [
       "   movie_id                               title                         genre\n",
       "0         1                    Toy Story (1995)   Animation|Children's|Comedy\n",
       "1         2                      Jumanji (1995)  Adventure|Children's|Fantasy\n",
       "2         3             Grumpier Old Men (1995)                Comedy|Romance\n",
       "3         4            Waiting to Exhale (1995)                  Comedy|Drama\n",
       "4         5  Father of the Bride Part II (1995)                        Comedy"
      ]
     },
     "execution_count": 166,
     "metadata": {},
     "output_type": "execute_result"
    }
   ],
   "source": [
    "movie_data.head()"
   ]
  },
  {
   "cell_type": "code",
   "execution_count": 167,
   "id": "83205504",
   "metadata": {},
   "outputs": [
    {
     "data": {
      "text/html": [
       "<div>\n",
       "<style scoped>\n",
       "    .dataframe tbody tr th:only-of-type {\n",
       "        vertical-align: middle;\n",
       "    }\n",
       "\n",
       "    .dataframe tbody tr th {\n",
       "        vertical-align: top;\n",
       "    }\n",
       "\n",
       "    .dataframe thead th {\n",
       "        text-align: right;\n",
       "    }\n",
       "</style>\n",
       "<table border=\"1\" class=\"dataframe\">\n",
       "  <thead>\n",
       "    <tr style=\"text-align: right;\">\n",
       "      <th></th>\n",
       "      <th>user_id</th>\n",
       "      <th>gender</th>\n",
       "      <th>age</th>\n",
       "      <th>occupation</th>\n",
       "      <th>zipcode</th>\n",
       "    </tr>\n",
       "  </thead>\n",
       "  <tbody>\n",
       "    <tr>\n",
       "      <th>0</th>\n",
       "      <td>1</td>\n",
       "      <td>F</td>\n",
       "      <td>1</td>\n",
       "      <td>10</td>\n",
       "      <td>48067</td>\n",
       "    </tr>\n",
       "    <tr>\n",
       "      <th>1</th>\n",
       "      <td>2</td>\n",
       "      <td>M</td>\n",
       "      <td>56</td>\n",
       "      <td>16</td>\n",
       "      <td>70072</td>\n",
       "    </tr>\n",
       "    <tr>\n",
       "      <th>2</th>\n",
       "      <td>3</td>\n",
       "      <td>M</td>\n",
       "      <td>25</td>\n",
       "      <td>15</td>\n",
       "      <td>55117</td>\n",
       "    </tr>\n",
       "    <tr>\n",
       "      <th>3</th>\n",
       "      <td>4</td>\n",
       "      <td>M</td>\n",
       "      <td>45</td>\n",
       "      <td>7</td>\n",
       "      <td>02460</td>\n",
       "    </tr>\n",
       "    <tr>\n",
       "      <th>4</th>\n",
       "      <td>5</td>\n",
       "      <td>M</td>\n",
       "      <td>25</td>\n",
       "      <td>20</td>\n",
       "      <td>55455</td>\n",
       "    </tr>\n",
       "  </tbody>\n",
       "</table>\n",
       "</div>"
      ],
      "text/plain": [
       "   user_id gender  age  occupation zipcode\n",
       "0        1      F    1          10   48067\n",
       "1        2      M   56          16   70072\n",
       "2        3      M   25          15   55117\n",
       "3        4      M   45           7   02460\n",
       "4        5      M   25          20   55455"
      ]
     },
     "execution_count": 167,
     "metadata": {},
     "output_type": "execute_result"
    }
   ],
   "source": [
    "user_data.head()"
   ]
  },
  {
   "cell_type": "markdown",
   "id": "fa17cf1d",
   "metadata": {},
   "source": [
    "### Step2 분석: 탐색적 데이터 분석하기\n",
    "\n",
    "탐색적 데이터 분석을 통해 영화 데이터를 살펴보자. 다음의 실행 결과는 영화의 개수와 연도별 탐색에 대한 출력 결과이다. 영화의 개수는 약 4,000여 개 정도라는 것을 알 수 있고, 1990년대 후반부터 2000년대 초반의 영화가 가장 많은 것을 알 수 있다. 영화의 연도 정보는 movie_data['title'].apply(lambda x:x[-5:-1]) 코드를 통해 추출한 것으로 영화의 제목 뒤에 따라붙는 연도 정보를 이용한 것이다.\n",
    "- 분석할 영화의 정보 탐색하기"
   ]
  },
  {
   "cell_type": "code",
   "execution_count": 168,
   "id": "0b1a3149",
   "metadata": {},
   "outputs": [
    {
     "name": "stdout",
     "output_type": "stream",
     "text": [
      "total number of movie in data: 3883\n"
     ]
    }
   ],
   "source": [
    "# 총 영화의 개수를 출력한다.\n",
    "print(\"total number of movie in data:\",len(movie_data['movie_id'].unique()))"
   ]
  },
  {
   "cell_type": "code",
   "execution_count": 169,
   "id": "371f733a",
   "metadata": {},
   "outputs": [],
   "source": [
    "# 연도별 영화 개수가 많은 top10 연도를 출력한다.\n",
    "movie_data['year'] = movie_data['title'].apply(lambda x:x[-5:-1])"
   ]
  },
  {
   "cell_type": "code",
   "execution_count": 170,
   "id": "e0ef3c91",
   "metadata": {},
   "outputs": [
    {
     "data": {
      "text/plain": [
       "1996    345\n",
       "1995    342\n",
       "1998    337\n",
       "1997    315\n",
       "1999    283\n",
       "1994    257\n",
       "1993    165\n",
       "2000    156\n",
       "1986    104\n",
       "1992    102\n",
       "Name: year, dtype: int64"
      ]
     },
     "execution_count": 170,
     "metadata": {},
     "output_type": "execute_result"
    }
   ],
   "source": [
    "movie_data['year'].value_counts().head(10)"
   ]
  },
  {
   "cell_type": "code",
   "execution_count": 171,
   "id": "ca9b31f9",
   "metadata": {},
   "outputs": [
    {
     "name": "stderr",
     "output_type": "stream",
     "text": [
      "/home/ubuntu/.local/lib/python3.6/site-packages/seaborn/_decorators.py:43: FutureWarning: Pass the following variables as keyword args: x, y. From version 0.12, the only valid positional argument will be `data`, and passing other arguments without an explicit keyword will result in an error or misinterpretation.\n",
      "  FutureWarning\n"
     ]
    },
    {
     "data": {
      "image/png": "[encoded data removed]",
      "text/plain": [
       "<Figure size 432x288 with 1 Axes>"
      ]
     },
     "metadata": {
      "needs_background": "light"
     },
     "output_type": "display_data"
    }
   ],
   "source": [
    "# 영화의 연대별 영화 수를 출력한다.\n",
    "\n",
    "movie_data['year_term'] = movie_data['title'].apply(lambda x: x[-5:-2]+\"0\")\n",
    "moview_year_term = movie_data['year_term'].value_counts().sort_index()\n",
    "           \n",
    "           \n",
    "sns.barplot(moview_year_term.index, moview_year_term.values, alpha = 0.8)\n",
    "plt.title('Movie data by years generation')\n",
    "plt.ylabel('Number of Movie', fontsize=12)\n",
    "plt.xlabel('Years', fontsize=12)\n",
    "plt.show()"
   ]
  },
  {
   "cell_type": "markdown",
   "id": "4f154b0c",
   "metadata": {},
   "source": [
    "다음으로 영화 데이터에서 가장 많이 등장한 장르가 무엇인지를 탐색해 보자. movie_data의 피처인 genre는 '드라마'l'코미디'l'액션'l처럼 'l'이라는 구분자를 포함하여 여러 장르를 하나의 문자열에 포함하고 있다. 따라서 데이터 등장하는 모든 개별 장르를 세기 위해서는 split() 함수로 genre 데이터를 분리해야한다. 각 장르마다의 등장 개수는 dictionary 자료로 저장한다. 실행코드는 다음과 같다.\n",
    "- 장르의 속성 탐색하기"
   ]
  },
  {
   "cell_type": "code",
   "execution_count": 172,
   "id": "c55ed166",
   "metadata": {},
   "outputs": [
    {
     "name": "stdout",
     "output_type": "stream",
     "text": [
      "{'Animation': 105, \"Children's\": 251, 'Comedy': 1200, 'Adventure': 283, 'Fantasy': 68, 'Romance': 471, 'Drama': 1603, 'Action': 503, 'Crime': 211, 'Thriller': 492, 'Horror': 343, 'Sci-Fi': 276, 'Documentary': 127, 'War': 143, 'Musical': 114, 'Mystery': 106, 'Film-Noir': 44, 'Western': 68}\n"
     ]
    }
   ],
   "source": [
    "\n",
    "# 가장 많이 등장한 장르의 속성을 추출한다. (예시 : Drama)\n",
    "unique_genre_dict = {}\n",
    "for index, row in movie_data.iterrows():\n",
    "    \n",
    "    # genre 피처를 ‘|’ 구분자로 분리한다.\n",
    "    genre_combination = row['genre']\n",
    "    parsed_genre = genre_combination.split(\"|\")\n",
    "    \n",
    "    # 구분자로 분리한 장르의 속성을 unique_genre_dict에 각각 계산하여 저장한다.\n",
    "    for genre in parsed_genre:\n",
    "        if genre in unique_genre_dict:\n",
    "            unique_genre_dict[genre] += 1\n",
    "        else:\n",
    "            unique_genre_dict[genre] = 1\n",
    "\n",
    "print(unique_genre_dict)\n"
   ]
  },
  {
   "cell_type": "code",
   "execution_count": 173,
   "id": "e060953f",
   "metadata": {},
   "outputs": [
    {
     "name": "stderr",
     "output_type": "stream",
     "text": [
      "/home/ubuntu/.local/lib/python3.6/site-packages/seaborn/_decorators.py:43: FutureWarning: Pass the following variables as keyword args: x, y. From version 0.12, the only valid positional argument will be `data`, and passing other arguments without an explicit keyword will result in an error or misinterpretation.\n",
      "  FutureWarning\n"
     ]
    },
    {
     "data": {
      "image/png": "[encoded data removed]",
      "text/plain": [
       "<Figure size 1440x1152 with 1 Axes>"
      ]
     },
     "metadata": {
      "needs_background": "light"
     },
     "output_type": "display_data"
    }
   ],
   "source": [
    "# unique_genre_dict를 이용하여 장르의 속성을 그래프로 출력한다.\n",
    "plt.rcParams['figure.figsize'] = [20, 16]\n",
    "sns.barplot(list(unique_genre_dict.keys()), list(unique_genre_dict.values()), alpha=0.8)\n",
    "plt.title('Popular genre in movies')\n",
    "plt.ylabel('Count of Genre', fontsize=12)\n",
    "plt.xlabel('Genre', fontsize=12)\n",
    "plt.show()"
   ]
  },
  {
   "cell_type": "markdown",
   "id": "651ec9c3",
   "metadata": {},
   "source": [
    "그리고 분석 대상이 되는 유저의 수를 탐색해보면 총 6,040 명으로 나타난다.\n",
    "- 분석할 유저의 정보 탐색하기"
   ]
  },
  {
   "cell_type": "code",
   "execution_count": 174,
   "id": "d4da6a2a",
   "metadata": {},
   "outputs": [
    {
     "name": "stdout",
     "output_type": "stream",
     "text": [
      "total number of user in data: 6040\n"
     ]
    }
   ],
   "source": [
    "# 유저의 수를 탐색 하자\n",
    "print(\"total number of user in data:\",len(user_data['user_id'].unique()))"
   ]
  },
  {
   "cell_type": "code",
   "execution_count": 175,
   "id": "60b28b33",
   "metadata": {
    "scrolled": true
   },
   "outputs": [
    {
     "name": "stderr",
     "output_type": "stream",
     "text": [
      "/home/ubuntu/.local/lib/python3.6/site-packages/seaborn/_decorators.py:43: FutureWarning: Pass the following variables as keyword args: x, y. From version 0.12, the only valid positional argument will be `data`, and passing other arguments without an explicit keyword will result in an error or misinterpretation.\n",
      "  FutureWarning\n"
     ]
    },
    {
     "data": {
      "image/png": "[encoded data removed]",
      "text/plain": [
       "<Figure size 288x288 with 1 Axes>"
      ]
     },
     "metadata": {
      "needs_background": "light"
     },
     "output_type": "display_data"
    }
   ],
   "source": [
    "# 유저의 성별 탐색\n",
    "plt.rcParams['figure.figsize']= [4,4]\n",
    "user_gender = user_data['gender'].value_counts()\n",
    "sns.barplot(user_gender.index, user_gender.values, alpha=0.8)\n",
    "\n",
    "\n",
    "plt.title('Gender ratio of user')\n",
    "plt.ylabel('Count', fontsize=12)\n",
    "plt.xlabel('Gender', fontsize=12)\n",
    "plt.show()"
   ]
  },
  {
   "cell_type": "code",
   "execution_count": 176,
   "id": "5eab1bb7",
   "metadata": {
    "scrolled": true
   },
   "outputs": [
    {
     "data": {
      "text/plain": [
       "25    2096\n",
       "35    1193\n",
       "18    1103\n",
       "45     550\n",
       "50     496\n",
       "56     380\n",
       "1      222\n",
       "Name: age, dtype: int64"
      ]
     },
     "execution_count": 176,
     "metadata": {},
     "output_type": "execute_result"
    }
   ],
   "source": [
    "# 유저의 연령대를 탐색합니다.\n",
    "user_data['age'].value_counts()"
   ]
  },
  {
   "cell_type": "code",
   "execution_count": 177,
   "id": "0fe8c371",
   "metadata": {},
   "outputs": [
    {
     "name": "stderr",
     "output_type": "stream",
     "text": [
      "/home/ubuntu/.local/lib/python3.6/site-packages/seaborn/_decorators.py:43: FutureWarning: Pass the following variables as keyword args: x, y. From version 0.12, the only valid positional argument will be `data`, and passing other arguments without an explicit keyword will result in an error or misinterpretation.\n",
      "  FutureWarning\n"
     ]
    },
    {
     "data": {
      "image/png": "[encoded data removed]",
      "text/plain": [
       "<Figure size 288x288 with 1 Axes>"
      ]
     },
     "metadata": {
      "needs_background": "light"
     },
     "output_type": "display_data"
    }
   ],
   "source": [
    "# 유저의 연령대 탐색하기\n",
    "def age_classification(age):\n",
    "    if age == 1:\n",
    "        return 'outlier'\n",
    "    else:\n",
    "        return str(age)[0] + \"0\"\n",
    "    \n",
    "user_data['ages'] = user_data['age'].apply(lambda x: age_classification(x))\n",
    "user_ages = user_data['ages'].value_counts()\n",
    "\n",
    "sns.barplot(user_ages.index, user_ages.values, alpha=0.8)\n",
    "\n",
    "plt.title('User ages')\n",
    "plt.ylabel('Count', fontsize=12)\n",
    "plt.xlabel('Ages', fontsize=12)\n",
    "plt.show()\n",
    "    \n"
   ]
  },
  {
   "cell_type": "markdown",
   "id": "14d70ae8",
   "metadata": {},
   "source": [
    "지금까지 user_data, movie_data 데이터의 특징을 살펴본 것은 '평점 예측'의 측면에서는 중요한 탐색이라고 볼 수 없었다. 하지만 rating 데이터는 평점 예측 데이터 분석에 중요한 데이터이기 때문에 조금 더 자세히 탐색을 수행해야 한다. 아래의 코드는 각 영화가 얼마나 많은 평가를 받았는지를 탐색한다. 실행 결과 그래프는 'movie_id'를 기준으로 groupby() 한뒤, 'rating'에 count() 함수를 적용한 결과이다. x축은 각 영화가 평가받은 횟수, y축은 각 영화가 평가 받은 횟수를 의미한다. 이를 통해 약 3800여 개의 영화 중 100개 미만의 평가를 받은 영화가 1,700여 개나 된다는 것을 알 수 있다. 이러한 영화들을 대상으로 한 '예상 평점'분석은 관람객에게 큰 의미가 있을 것이다.\n",
    "- 평점 데이터의 정보 탐색하기"
   ]
  },
  {
   "cell_type": "code",
   "execution_count": 178,
   "id": "cbf37e78",
   "metadata": {},
   "outputs": [
    {
     "data": {
      "image/png": "[encoded data removed]",
      "text/plain": [
       "<Figure size 576x576 with 1 Axes>"
      ]
     },
     "metadata": {
      "needs_background": "light"
     },
     "output_type": "display_data"
    }
   ],
   "source": [
    "# 각 영화가 평가 받은 횟수를 탐색한다.\n",
    "\n",
    "movie_rate_count = rating_data.groupby('movie_id')['rating'].count().values\n",
    "plt.rcParams['figure.figsize'] = [8,8]\n",
    "fig = plt.hist(movie_rate_count, bins=200)\n",
    "plt.ylabel('Count', fontsize=12)\n",
    "plt.xlabel(\"Movie's rated count\", fontsize=12)\n",
    "plt.show()"
   ]
  },
  {
   "cell_type": "code",
   "execution_count": 179,
   "id": "ae92bcae",
   "metadata": {},
   "outputs": [
    {
     "name": "stdout",
     "output_type": "stream",
     "text": [
      "total number of movie in data: 3883\n",
      "total number of movie rated below 100 : 1687\n"
     ]
    }
   ],
   "source": [
    "print(\"total number of movie in data:\",len(movie_data['movie_id'].unique()))\n",
    "print(\"total number of movie rated below 100 :\", len(movie_rate_count[movie_rate_count < 100]))"
   ]
  },
  {
   "cell_type": "markdown",
   "id": "903f5c09",
   "metadata": {},
   "source": [
    "다음은 각 영화의 평균 평점을 알아보자. 아래의 코드에서는 agg() 함수로 각 영화당 rating의 개수와 평균값을 계산한다. 평균값에 대한 시각화는 실행 결과와 같다. 대부분의 평점은 2점~4점 사이로 나타났으며, 이를 통해 대부분의 영화 평점은 2점~4점 사이의 값으로 예측될 것이라는 가설을 수립할 수 있다."
   ]
  },
  {
   "cell_type": "code",
   "execution_count": 180,
   "id": "c626986a",
   "metadata": {},
   "outputs": [],
   "source": [
    "# 영화별 평균 평점을 탐색해보자\n",
    "movie_grouped_rating_info = rating_data.groupby(\"movie_id\")['rating'].agg(['count','mean'])\n",
    "movie_grouped_rating_info.columns = ['rated_count', 'rating_mean']"
   ]
  },
  {
   "cell_type": "code",
   "execution_count": 181,
   "id": "d719e955",
   "metadata": {},
   "outputs": [
    {
     "data": {
      "text/html": [
       "<div>\n",
       "<style scoped>\n",
       "    .dataframe tbody tr th:only-of-type {\n",
       "        vertical-align: middle;\n",
       "    }\n",
       "\n",
       "    .dataframe tbody tr th {\n",
       "        vertical-align: top;\n",
       "    }\n",
       "\n",
       "    .dataframe thead th {\n",
       "        text-align: right;\n",
       "    }\n",
       "</style>\n",
       "<table border=\"1\" class=\"dataframe\">\n",
       "  <thead>\n",
       "    <tr style=\"text-align: right;\">\n",
       "      <th></th>\n",
       "      <th>rated_count</th>\n",
       "      <th>rating_mean</th>\n",
       "    </tr>\n",
       "    <tr>\n",
       "      <th>movie_id</th>\n",
       "      <th></th>\n",
       "      <th></th>\n",
       "    </tr>\n",
       "  </thead>\n",
       "  <tbody>\n",
       "    <tr>\n",
       "      <th>1</th>\n",
       "      <td>2077</td>\n",
       "      <td>4.146846</td>\n",
       "    </tr>\n",
       "    <tr>\n",
       "      <th>2</th>\n",
       "      <td>701</td>\n",
       "      <td>3.201141</td>\n",
       "    </tr>\n",
       "    <tr>\n",
       "      <th>3</th>\n",
       "      <td>478</td>\n",
       "      <td>3.016736</td>\n",
       "    </tr>\n",
       "    <tr>\n",
       "      <th>4</th>\n",
       "      <td>170</td>\n",
       "      <td>2.729412</td>\n",
       "    </tr>\n",
       "    <tr>\n",
       "      <th>5</th>\n",
       "      <td>296</td>\n",
       "      <td>3.006757</td>\n",
       "    </tr>\n",
       "  </tbody>\n",
       "</table>\n",
       "</div>"
      ],
      "text/plain": [
       "          rated_count  rating_mean\n",
       "movie_id                          \n",
       "1                2077     4.146846\n",
       "2                 701     3.201141\n",
       "3                 478     3.016736\n",
       "4                 170     2.729412\n",
       "5                 296     3.006757"
      ]
     },
     "execution_count": 181,
     "metadata": {},
     "output_type": "execute_result"
    }
   ],
   "source": [
    "movie_grouped_rating_info.head(5)"
   ]
  },
  {
   "cell_type": "code",
   "execution_count": 182,
   "id": "2b98a7cd",
   "metadata": {},
   "outputs": [
    {
     "data": {
      "text/plain": [
       "<AxesSubplot:>"
      ]
     },
     "execution_count": 182,
     "metadata": {},
     "output_type": "execute_result"
    },
    {
     "data": {
      "image/png": "[encoded data removed]",
      "text/plain": [
       "<Figure size 576x576 with 1 Axes>"
      ]
     },
     "metadata": {
      "needs_background": "light"
     },
     "output_type": "display_data"
    }
   ],
   "source": [
    "movie_grouped_rating_info['rating_mean'].hist(bins=150, grid=False)"
   ]
  },
  {
   "cell_type": "code",
   "execution_count": 183,
   "id": "30f046e2",
   "metadata": {},
   "outputs": [
    {
     "data": {
      "text/html": [
       "<div>\n",
       "<style scoped>\n",
       "    .dataframe tbody tr th:only-of-type {\n",
       "        vertical-align: middle;\n",
       "    }\n",
       "\n",
       "    .dataframe tbody tr th {\n",
       "        vertical-align: top;\n",
       "    }\n",
       "\n",
       "    .dataframe thead th {\n",
       "        text-align: right;\n",
       "    }\n",
       "</style>\n",
       "<table border=\"1\" class=\"dataframe\">\n",
       "  <thead>\n",
       "    <tr style=\"text-align: right;\">\n",
       "      <th></th>\n",
       "      <th>rating_mean</th>\n",
       "      <th>title</th>\n",
       "    </tr>\n",
       "  </thead>\n",
       "  <tbody>\n",
       "    <tr>\n",
       "      <th>1839</th>\n",
       "      <td>4.560510</td>\n",
       "      <td>Seven Samurai (The Magnificent Seven) (Shichin...</td>\n",
       "    </tr>\n",
       "    <tr>\n",
       "      <th>309</th>\n",
       "      <td>4.554558</td>\n",
       "      <td>Shawshank Redemption, The (1994)</td>\n",
       "    </tr>\n",
       "    <tr>\n",
       "      <th>802</th>\n",
       "      <td>4.524966</td>\n",
       "      <td>Godfather, The (1972)</td>\n",
       "    </tr>\n",
       "    <tr>\n",
       "      <th>708</th>\n",
       "      <td>4.520548</td>\n",
       "      <td>Close Shave, A (1995)</td>\n",
       "    </tr>\n",
       "    <tr>\n",
       "      <th>49</th>\n",
       "      <td>4.517106</td>\n",
       "      <td>Usual Suspects, The (1995)</td>\n",
       "    </tr>\n",
       "    <tr>\n",
       "      <th>513</th>\n",
       "      <td>4.510417</td>\n",
       "      <td>Schindler's List (1993)</td>\n",
       "    </tr>\n",
       "    <tr>\n",
       "      <th>1066</th>\n",
       "      <td>4.507937</td>\n",
       "      <td>Wrong Trousers, The (1993)</td>\n",
       "    </tr>\n",
       "    <tr>\n",
       "      <th>861</th>\n",
       "      <td>4.491489</td>\n",
       "      <td>Sunset Blvd. (a.k.a. Sunset Boulevard) (1950)</td>\n",
       "    </tr>\n",
       "    <tr>\n",
       "      <th>1108</th>\n",
       "      <td>4.477725</td>\n",
       "      <td>Raiders of the Lost Ark (1981)</td>\n",
       "    </tr>\n",
       "    <tr>\n",
       "      <th>843</th>\n",
       "      <td>4.476190</td>\n",
       "      <td>Rear Window (1954)</td>\n",
       "    </tr>\n",
       "  </tbody>\n",
       "</table>\n",
       "</div>"
      ],
      "text/plain": [
       "      rating_mean                                              title\n",
       "1839     4.560510  Seven Samurai (The Magnificent Seven) (Shichin...\n",
       "309      4.554558                   Shawshank Redemption, The (1994)\n",
       "802      4.524966                              Godfather, The (1972)\n",
       "708      4.520548                              Close Shave, A (1995)\n",
       "49       4.517106                         Usual Suspects, The (1995)\n",
       "513      4.510417                            Schindler's List (1993)\n",
       "1066     4.507937                         Wrong Trousers, The (1993)\n",
       "861      4.491489      Sunset Blvd. (a.k.a. Sunset Boulevard) (1950)\n",
       "1108     4.477725                     Raiders of the Lost Ark (1981)\n",
       "843      4.476190                                 Rear Window (1954)"
      ]
     },
     "execution_count": 183,
     "metadata": {},
     "output_type": "execute_result"
    }
   ],
   "source": [
    "# 100번 이상의 평가를 받은 영화 중, 평점이 높은 10개의 영화를 출력한다.\n",
    "merged_data = movie_grouped_rating_info.merge(movie_data, on=['movie_id'], how='left')\n",
    "merged_data[merged_data['rated_count'] > 100][['rating_mean', 'title']].nlargest(10, 'rating_mean')"
   ]
  },
  {
   "cell_type": "markdown",
   "id": "3067c637",
   "metadata": {},
   "source": [
    "- `동일한 방식으로, 유저 그룹 단위의 평점 속성을 분석 하기'\n",
    "    - 유저별로 평가한 영화 개수\n",
    "    - 유저별로 평가한 평균 영화 점수\n",
    "    - 유저별로 평가한 영화 점수의 편차"
   ]
  },
  {
   "cell_type": "code",
   "execution_count": 184,
   "id": "231fc17e",
   "metadata": {},
   "outputs": [],
   "source": [
    "# 유저별 영화 평가를 탐색한다.\n",
    "user_grouped_rating_info = rating_data.groupby('user_id')['rating'].agg(['count','mean', 'std'])\n",
    "user_grouped_rating_info.columns = ['rated_count', 'rating_mean', 'rating_std']"
   ]
  },
  {
   "cell_type": "code",
   "execution_count": 185,
   "id": "c8e8255c",
   "metadata": {},
   "outputs": [
    {
     "data": {
      "text/html": [
       "<div>\n",
       "<style scoped>\n",
       "    .dataframe tbody tr th:only-of-type {\n",
       "        vertical-align: middle;\n",
       "    }\n",
       "\n",
       "    .dataframe tbody tr th {\n",
       "        vertical-align: top;\n",
       "    }\n",
       "\n",
       "    .dataframe thead th {\n",
       "        text-align: right;\n",
       "    }\n",
       "</style>\n",
       "<table border=\"1\" class=\"dataframe\">\n",
       "  <thead>\n",
       "    <tr style=\"text-align: right;\">\n",
       "      <th></th>\n",
       "      <th>rated_count</th>\n",
       "      <th>rating_mean</th>\n",
       "      <th>rating_std</th>\n",
       "    </tr>\n",
       "    <tr>\n",
       "      <th>user_id</th>\n",
       "      <th></th>\n",
       "      <th></th>\n",
       "      <th></th>\n",
       "    </tr>\n",
       "  </thead>\n",
       "  <tbody>\n",
       "    <tr>\n",
       "      <th>1</th>\n",
       "      <td>53</td>\n",
       "      <td>4.188679</td>\n",
       "      <td>0.680967</td>\n",
       "    </tr>\n",
       "    <tr>\n",
       "      <th>2</th>\n",
       "      <td>129</td>\n",
       "      <td>3.713178</td>\n",
       "      <td>1.001513</td>\n",
       "    </tr>\n",
       "    <tr>\n",
       "      <th>3</th>\n",
       "      <td>51</td>\n",
       "      <td>3.901961</td>\n",
       "      <td>0.984985</td>\n",
       "    </tr>\n",
       "    <tr>\n",
       "      <th>4</th>\n",
       "      <td>21</td>\n",
       "      <td>4.190476</td>\n",
       "      <td>1.077917</td>\n",
       "    </tr>\n",
       "    <tr>\n",
       "      <th>5</th>\n",
       "      <td>198</td>\n",
       "      <td>3.146465</td>\n",
       "      <td>1.132699</td>\n",
       "    </tr>\n",
       "  </tbody>\n",
       "</table>\n",
       "</div>"
      ],
      "text/plain": [
       "         rated_count  rating_mean  rating_std\n",
       "user_id                                      \n",
       "1                 53     4.188679    0.680967\n",
       "2                129     3.713178    1.001513\n",
       "3                 51     3.901961    0.984985\n",
       "4                 21     4.190476    1.077917\n",
       "5                198     3.146465    1.132699"
      ]
     },
     "execution_count": 185,
     "metadata": {},
     "output_type": "execute_result"
    }
   ],
   "source": [
    "user_grouped_rating_info.head()"
   ]
  },
  {
   "cell_type": "code",
   "execution_count": 186,
   "id": "1a9a9356",
   "metadata": {},
   "outputs": [
    {
     "data": {
      "text/plain": [
       "<AxesSubplot:>"
      ]
     },
     "execution_count": 186,
     "metadata": {},
     "output_type": "execute_result"
    },
    {
     "data": {
      "image/png": "[encoded data removed]",
      "text/plain": [
       "<Figure size 576x576 with 1 Axes>"
      ]
     },
     "metadata": {
      "needs_background": "light"
     },
     "output_type": "display_data"
    }
   ],
   "source": [
    "# 유저별로 평가한 영화 개수의 분포를 출력한다\n",
    "user_grouped_rating_info['rated_count'].hist(bins=150, grid=False)"
   ]
  },
  {
   "cell_type": "code",
   "execution_count": 187,
   "id": "e58f4ea1",
   "metadata": {},
   "outputs": [
    {
     "data": {
      "text/plain": [
       "<AxesSubplot:>"
      ]
     },
     "execution_count": 187,
     "metadata": {},
     "output_type": "execute_result"
    },
    {
     "data": {
      "image/png": "[encoded data removed]",
      "text/plain": [
       "<Figure size 576x576 with 1 Axes>"
      ]
     },
     "metadata": {
      "needs_background": "light"
     },
     "output_type": "display_data"
    }
   ],
   "source": [
    "# 유저별로 평가한 영화 점수 평균의 분포를 그래프로 출력한다.\n",
    "user_grouped_rating_info['rating_mean'].hist(bins=150, grid=False)"
   ]
  },
  {
   "cell_type": "code",
   "execution_count": 188,
   "id": "4a9729cf",
   "metadata": {},
   "outputs": [
    {
     "data": {
      "text/plain": [
       "<AxesSubplot:>"
      ]
     },
     "execution_count": 188,
     "metadata": {},
     "output_type": "execute_result"
    },
    {
     "data": {
      "image/png": "[encoded data removed]",
      "text/plain": [
       "<Figure size 576x576 with 1 Axes>"
      ]
     },
     "metadata": {
      "needs_background": "light"
     },
     "output_type": "display_data"
    }
   ],
   "source": [
    "# 유저별로 평가한 영화 점수 편차의 분포를 그래프로 출력한다.\n",
    "user_grouped_rating_info['rating_std'].hist(bins=150, grid=False)"
   ]
  },
  {
   "cell_type": "markdown",
   "id": "e98cb514",
   "metadata": {},
   "source": [
    "이제 이번 절의 진짜 목적인 영화 평점 예측을 수행해보자. 현재 분석 중인 MovieLens 데이터는 U I R (user item rating) 데이터셋 이다. 이러한 데이터는 행렬로 나타내기에 매우 용이하며, 다음의 실행 결과처럼 시각화할 수 있다. 행렬 그래프의 행과 열은 각각 user와 movie를 의미하며 점을 표현하는 컬러는 Rating 값을 의미한다.\n",
    "- user-movie 형태의 표로 살펴보기"
   ]
  },
  {
   "cell_type": "code",
   "execution_count": 189,
   "id": "0e5e2208",
   "metadata": {
    "scrolled": true
   },
   "outputs": [
    {
     "data": {
      "text/html": [
       "<div>\n",
       "<style scoped>\n",
       "    .dataframe tbody tr th:only-of-type {\n",
       "        vertical-align: middle;\n",
       "    }\n",
       "\n",
       "    .dataframe tbody tr th {\n",
       "        vertical-align: top;\n",
       "    }\n",
       "\n",
       "    .dataframe thead th {\n",
       "        text-align: right;\n",
       "    }\n",
       "</style>\n",
       "<table border=\"1\" class=\"dataframe\">\n",
       "  <thead>\n",
       "    <tr style=\"text-align: right;\">\n",
       "      <th></th>\n",
       "      <th>user_id</th>\n",
       "      <th>movie_id</th>\n",
       "      <th>rating</th>\n",
       "      <th>time</th>\n",
       "    </tr>\n",
       "  </thead>\n",
       "  <tbody>\n",
       "    <tr>\n",
       "      <th>0</th>\n",
       "      <td>1</td>\n",
       "      <td>1193</td>\n",
       "      <td>5</td>\n",
       "      <td>978300760</td>\n",
       "    </tr>\n",
       "    <tr>\n",
       "      <th>1</th>\n",
       "      <td>1</td>\n",
       "      <td>661</td>\n",
       "      <td>3</td>\n",
       "      <td>978302109</td>\n",
       "    </tr>\n",
       "    <tr>\n",
       "      <th>2</th>\n",
       "      <td>1</td>\n",
       "      <td>914</td>\n",
       "      <td>3</td>\n",
       "      <td>978301968</td>\n",
       "    </tr>\n",
       "    <tr>\n",
       "      <th>3</th>\n",
       "      <td>1</td>\n",
       "      <td>3408</td>\n",
       "      <td>4</td>\n",
       "      <td>978300275</td>\n",
       "    </tr>\n",
       "    <tr>\n",
       "      <th>4</th>\n",
       "      <td>1</td>\n",
       "      <td>2355</td>\n",
       "      <td>5</td>\n",
       "      <td>978824291</td>\n",
       "    </tr>\n",
       "  </tbody>\n",
       "</table>\n",
       "</div>"
      ],
      "text/plain": [
       "   user_id  movie_id  rating       time\n",
       "0        1      1193       5  978300760\n",
       "1        1       661       3  978302109\n",
       "2        1       914       3  978301968\n",
       "3        1      3408       4  978300275\n",
       "4        1      2355       5  978824291"
      ]
     },
     "execution_count": 189,
     "metadata": {},
     "output_type": "execute_result"
    }
   ],
   "source": [
    "rating_data.head()"
   ]
  },
  {
   "cell_type": "code",
   "execution_count": 190,
   "id": "65361d30",
   "metadata": {},
   "outputs": [],
   "source": [
    "# unstack() 함수로 user_id, movie_id를 축으로 하는 데이터를 생성한다.\n",
    "rating_table = rating_data[['user_id', 'movie_id', 'rating']].set_index(['user_id','movie_id']).unstack()"
   ]
  },
  {
   "cell_type": "code",
   "execution_count": 191,
   "id": "6e96a69d",
   "metadata": {},
   "outputs": [
    {
     "data": {
      "text/html": [
       "<div>\n",
       "<style scoped>\n",
       "    .dataframe tbody tr th:only-of-type {\n",
       "        vertical-align: middle;\n",
       "    }\n",
       "\n",
       "    .dataframe tbody tr th {\n",
       "        vertical-align: top;\n",
       "    }\n",
       "\n",
       "    .dataframe thead tr th {\n",
       "        text-align: left;\n",
       "    }\n",
       "\n",
       "    .dataframe thead tr:last-of-type th {\n",
       "        text-align: right;\n",
       "    }\n",
       "</style>\n",
       "<table border=\"1\" class=\"dataframe\">\n",
       "  <thead>\n",
       "    <tr>\n",
       "      <th></th>\n",
       "      <th colspan=\"21\" halign=\"left\">rating</th>\n",
       "    </tr>\n",
       "    <tr>\n",
       "      <th>movie_id</th>\n",
       "      <th>1</th>\n",
       "      <th>2</th>\n",
       "      <th>3</th>\n",
       "      <th>4</th>\n",
       "      <th>5</th>\n",
       "      <th>6</th>\n",
       "      <th>7</th>\n",
       "      <th>8</th>\n",
       "      <th>9</th>\n",
       "      <th>10</th>\n",
       "      <th>...</th>\n",
       "      <th>3943</th>\n",
       "      <th>3944</th>\n",
       "      <th>3945</th>\n",
       "      <th>3946</th>\n",
       "      <th>3947</th>\n",
       "      <th>3948</th>\n",
       "      <th>3949</th>\n",
       "      <th>3950</th>\n",
       "      <th>3951</th>\n",
       "      <th>3952</th>\n",
       "    </tr>\n",
       "    <tr>\n",
       "      <th>user_id</th>\n",
       "      <th></th>\n",
       "      <th></th>\n",
       "      <th></th>\n",
       "      <th></th>\n",
       "      <th></th>\n",
       "      <th></th>\n",
       "      <th></th>\n",
       "      <th></th>\n",
       "      <th></th>\n",
       "      <th></th>\n",
       "      <th></th>\n",
       "      <th></th>\n",
       "      <th></th>\n",
       "      <th></th>\n",
       "      <th></th>\n",
       "      <th></th>\n",
       "      <th></th>\n",
       "      <th></th>\n",
       "      <th></th>\n",
       "      <th></th>\n",
       "      <th></th>\n",
       "    </tr>\n",
       "  </thead>\n",
       "  <tbody>\n",
       "    <tr>\n",
       "      <th>1</th>\n",
       "      <td>5.0</td>\n",
       "      <td>NaN</td>\n",
       "      <td>NaN</td>\n",
       "      <td>NaN</td>\n",
       "      <td>NaN</td>\n",
       "      <td>NaN</td>\n",
       "      <td>NaN</td>\n",
       "      <td>NaN</td>\n",
       "      <td>NaN</td>\n",
       "      <td>NaN</td>\n",
       "      <td>...</td>\n",
       "      <td>NaN</td>\n",
       "      <td>NaN</td>\n",
       "      <td>NaN</td>\n",
       "      <td>NaN</td>\n",
       "      <td>NaN</td>\n",
       "      <td>NaN</td>\n",
       "      <td>NaN</td>\n",
       "      <td>NaN</td>\n",
       "      <td>NaN</td>\n",
       "      <td>NaN</td>\n",
       "    </tr>\n",
       "    <tr>\n",
       "      <th>2</th>\n",
       "      <td>NaN</td>\n",
       "      <td>NaN</td>\n",
       "      <td>NaN</td>\n",
       "      <td>NaN</td>\n",
       "      <td>NaN</td>\n",
       "      <td>NaN</td>\n",
       "      <td>NaN</td>\n",
       "      <td>NaN</td>\n",
       "      <td>NaN</td>\n",
       "      <td>NaN</td>\n",
       "      <td>...</td>\n",
       "      <td>NaN</td>\n",
       "      <td>NaN</td>\n",
       "      <td>NaN</td>\n",
       "      <td>NaN</td>\n",
       "      <td>NaN</td>\n",
       "      <td>NaN</td>\n",
       "      <td>NaN</td>\n",
       "      <td>NaN</td>\n",
       "      <td>NaN</td>\n",
       "      <td>NaN</td>\n",
       "    </tr>\n",
       "    <tr>\n",
       "      <th>3</th>\n",
       "      <td>NaN</td>\n",
       "      <td>NaN</td>\n",
       "      <td>NaN</td>\n",
       "      <td>NaN</td>\n",
       "      <td>NaN</td>\n",
       "      <td>NaN</td>\n",
       "      <td>NaN</td>\n",
       "      <td>NaN</td>\n",
       "      <td>NaN</td>\n",
       "      <td>NaN</td>\n",
       "      <td>...</td>\n",
       "      <td>NaN</td>\n",
       "      <td>NaN</td>\n",
       "      <td>NaN</td>\n",
       "      <td>NaN</td>\n",
       "      <td>NaN</td>\n",
       "      <td>NaN</td>\n",
       "      <td>NaN</td>\n",
       "      <td>NaN</td>\n",
       "      <td>NaN</td>\n",
       "      <td>NaN</td>\n",
       "    </tr>\n",
       "    <tr>\n",
       "      <th>4</th>\n",
       "      <td>NaN</td>\n",
       "      <td>NaN</td>\n",
       "      <td>NaN</td>\n",
       "      <td>NaN</td>\n",
       "      <td>NaN</td>\n",
       "      <td>NaN</td>\n",
       "      <td>NaN</td>\n",
       "      <td>NaN</td>\n",
       "      <td>NaN</td>\n",
       "      <td>NaN</td>\n",
       "      <td>...</td>\n",
       "      <td>NaN</td>\n",
       "      <td>NaN</td>\n",
       "      <td>NaN</td>\n",
       "      <td>NaN</td>\n",
       "      <td>NaN</td>\n",
       "      <td>NaN</td>\n",
       "      <td>NaN</td>\n",
       "      <td>NaN</td>\n",
       "      <td>NaN</td>\n",
       "      <td>NaN</td>\n",
       "    </tr>\n",
       "    <tr>\n",
       "      <th>5</th>\n",
       "      <td>NaN</td>\n",
       "      <td>NaN</td>\n",
       "      <td>NaN</td>\n",
       "      <td>NaN</td>\n",
       "      <td>NaN</td>\n",
       "      <td>2.0</td>\n",
       "      <td>NaN</td>\n",
       "      <td>NaN</td>\n",
       "      <td>NaN</td>\n",
       "      <td>NaN</td>\n",
       "      <td>...</td>\n",
       "      <td>NaN</td>\n",
       "      <td>NaN</td>\n",
       "      <td>NaN</td>\n",
       "      <td>NaN</td>\n",
       "      <td>NaN</td>\n",
       "      <td>NaN</td>\n",
       "      <td>NaN</td>\n",
       "      <td>NaN</td>\n",
       "      <td>NaN</td>\n",
       "      <td>NaN</td>\n",
       "    </tr>\n",
       "    <tr>\n",
       "      <th>6</th>\n",
       "      <td>4.0</td>\n",
       "      <td>NaN</td>\n",
       "      <td>NaN</td>\n",
       "      <td>NaN</td>\n",
       "      <td>NaN</td>\n",
       "      <td>NaN</td>\n",
       "      <td>NaN</td>\n",
       "      <td>NaN</td>\n",
       "      <td>NaN</td>\n",
       "      <td>NaN</td>\n",
       "      <td>...</td>\n",
       "      <td>NaN</td>\n",
       "      <td>NaN</td>\n",
       "      <td>NaN</td>\n",
       "      <td>NaN</td>\n",
       "      <td>NaN</td>\n",
       "      <td>NaN</td>\n",
       "      <td>NaN</td>\n",
       "      <td>NaN</td>\n",
       "      <td>NaN</td>\n",
       "      <td>NaN</td>\n",
       "    </tr>\n",
       "    <tr>\n",
       "      <th>7</th>\n",
       "      <td>NaN</td>\n",
       "      <td>NaN</td>\n",
       "      <td>NaN</td>\n",
       "      <td>NaN</td>\n",
       "      <td>NaN</td>\n",
       "      <td>4.0</td>\n",
       "      <td>NaN</td>\n",
       "      <td>NaN</td>\n",
       "      <td>NaN</td>\n",
       "      <td>NaN</td>\n",
       "      <td>...</td>\n",
       "      <td>NaN</td>\n",
       "      <td>NaN</td>\n",
       "      <td>NaN</td>\n",
       "      <td>NaN</td>\n",
       "      <td>NaN</td>\n",
       "      <td>NaN</td>\n",
       "      <td>NaN</td>\n",
       "      <td>NaN</td>\n",
       "      <td>NaN</td>\n",
       "      <td>NaN</td>\n",
       "    </tr>\n",
       "    <tr>\n",
       "      <th>8</th>\n",
       "      <td>4.0</td>\n",
       "      <td>NaN</td>\n",
       "      <td>NaN</td>\n",
       "      <td>3.0</td>\n",
       "      <td>NaN</td>\n",
       "      <td>NaN</td>\n",
       "      <td>NaN</td>\n",
       "      <td>NaN</td>\n",
       "      <td>NaN</td>\n",
       "      <td>NaN</td>\n",
       "      <td>...</td>\n",
       "      <td>NaN</td>\n",
       "      <td>NaN</td>\n",
       "      <td>NaN</td>\n",
       "      <td>NaN</td>\n",
       "      <td>NaN</td>\n",
       "      <td>NaN</td>\n",
       "      <td>NaN</td>\n",
       "      <td>NaN</td>\n",
       "      <td>NaN</td>\n",
       "      <td>NaN</td>\n",
       "    </tr>\n",
       "    <tr>\n",
       "      <th>9</th>\n",
       "      <td>5.0</td>\n",
       "      <td>NaN</td>\n",
       "      <td>NaN</td>\n",
       "      <td>NaN</td>\n",
       "      <td>NaN</td>\n",
       "      <td>NaN</td>\n",
       "      <td>NaN</td>\n",
       "      <td>NaN</td>\n",
       "      <td>NaN</td>\n",
       "      <td>NaN</td>\n",
       "      <td>...</td>\n",
       "      <td>NaN</td>\n",
       "      <td>NaN</td>\n",
       "      <td>NaN</td>\n",
       "      <td>NaN</td>\n",
       "      <td>NaN</td>\n",
       "      <td>3.0</td>\n",
       "      <td>NaN</td>\n",
       "      <td>NaN</td>\n",
       "      <td>NaN</td>\n",
       "      <td>NaN</td>\n",
       "    </tr>\n",
       "    <tr>\n",
       "      <th>10</th>\n",
       "      <td>5.0</td>\n",
       "      <td>5.0</td>\n",
       "      <td>NaN</td>\n",
       "      <td>NaN</td>\n",
       "      <td>NaN</td>\n",
       "      <td>NaN</td>\n",
       "      <td>4.0</td>\n",
       "      <td>NaN</td>\n",
       "      <td>NaN</td>\n",
       "      <td>NaN</td>\n",
       "      <td>...</td>\n",
       "      <td>NaN</td>\n",
       "      <td>NaN</td>\n",
       "      <td>NaN</td>\n",
       "      <td>NaN</td>\n",
       "      <td>NaN</td>\n",
       "      <td>4.0</td>\n",
       "      <td>NaN</td>\n",
       "      <td>NaN</td>\n",
       "      <td>NaN</td>\n",
       "      <td>NaN</td>\n",
       "    </tr>\n",
       "  </tbody>\n",
       "</table>\n",
       "<p>10 rows × 3706 columns</p>\n",
       "</div>"
      ],
      "text/plain": [
       "         rating                                               ...            \\\n",
       "movie_id   1    2    3    4    5    6    7    8    9    10    ... 3943 3944   \n",
       "user_id                                                       ...             \n",
       "1           5.0  NaN  NaN  NaN  NaN  NaN  NaN  NaN  NaN  NaN  ...  NaN  NaN   \n",
       "2           NaN  NaN  NaN  NaN  NaN  NaN  NaN  NaN  NaN  NaN  ...  NaN  NaN   \n",
       "3           NaN  NaN  NaN  NaN  NaN  NaN  NaN  NaN  NaN  NaN  ...  NaN  NaN   \n",
       "4           NaN  NaN  NaN  NaN  NaN  NaN  NaN  NaN  NaN  NaN  ...  NaN  NaN   \n",
       "5           NaN  NaN  NaN  NaN  NaN  2.0  NaN  NaN  NaN  NaN  ...  NaN  NaN   \n",
       "6           4.0  NaN  NaN  NaN  NaN  NaN  NaN  NaN  NaN  NaN  ...  NaN  NaN   \n",
       "7           NaN  NaN  NaN  NaN  NaN  4.0  NaN  NaN  NaN  NaN  ...  NaN  NaN   \n",
       "8           4.0  NaN  NaN  3.0  NaN  NaN  NaN  NaN  NaN  NaN  ...  NaN  NaN   \n",
       "9           5.0  NaN  NaN  NaN  NaN  NaN  NaN  NaN  NaN  NaN  ...  NaN  NaN   \n",
       "10          5.0  5.0  NaN  NaN  NaN  NaN  4.0  NaN  NaN  NaN  ...  NaN  NaN   \n",
       "\n",
       "                                                  \n",
       "movie_id 3945 3946 3947 3948 3949 3950 3951 3952  \n",
       "user_id                                           \n",
       "1         NaN  NaN  NaN  NaN  NaN  NaN  NaN  NaN  \n",
       "2         NaN  NaN  NaN  NaN  NaN  NaN  NaN  NaN  \n",
       "3         NaN  NaN  NaN  NaN  NaN  NaN  NaN  NaN  \n",
       "4         NaN  NaN  NaN  NaN  NaN  NaN  NaN  NaN  \n",
       "5         NaN  NaN  NaN  NaN  NaN  NaN  NaN  NaN  \n",
       "6         NaN  NaN  NaN  NaN  NaN  NaN  NaN  NaN  \n",
       "7         NaN  NaN  NaN  NaN  NaN  NaN  NaN  NaN  \n",
       "8         NaN  NaN  NaN  NaN  NaN  NaN  NaN  NaN  \n",
       "9         NaN  NaN  NaN  3.0  NaN  NaN  NaN  NaN  \n",
       "10        NaN  NaN  NaN  4.0  NaN  NaN  NaN  NaN  \n",
       "\n",
       "[10 rows x 3706 columns]"
      ]
     },
     "execution_count": 191,
     "metadata": {},
     "output_type": "execute_result"
    }
   ],
   "source": [
    "rating_table.head(10)"
   ]
  },
  {
   "cell_type": "code",
   "execution_count": 192,
   "id": "a353b1a8",
   "metadata": {},
   "outputs": [
    {
     "data": {
      "image/png": "[encoded data removed]",
      "text/plain": [
       "<Figure size 720x720 with 1 Axes>"
      ]
     },
     "metadata": {
      "needs_background": "light"
     },
     "output_type": "display_data"
    }
   ],
   "source": [
    "# user- movie 표를 시각화 한다\n",
    "plt.rcParams['figure.figsize'] = [10,10]\n",
    "plt.imshow(rating_table)\n",
    "plt.grid(False)\n",
    "plt.xlabel(\"Movie\")\n",
    "plt.ylabel(\"User\")\n",
    "plt.title(\"User-movie Matrix\")\n",
    "plt.show()"
   ]
  },
  {
   "cell_type": "markdown",
   "id": "134db21a",
   "metadata": {},
   "source": [
    "### Step 3 예측: 수학적 기법을 활용해 평점 예측하기\n",
    "\n",
    "행렬 완성은 '행렬 분해' 방법을 이용합니다. 우선 SVD를 사용하기 위해 surprise 라이브러리를 설치한다."
   ]
  },
  {
   "cell_type": "code",
   "execution_count": 193,
   "id": "1c0ba994",
   "metadata": {},
   "outputs": [],
   "source": [
    "#!pip3 install surprise"
   ]
  },
  {
   "cell_type": "markdown",
   "id": "13798c4d",
   "metadata": {},
   "source": [
    "##### 빈칸을 포함한 user-item 행렬 생성"
   ]
  },
  {
   "cell_type": "code",
   "execution_count": 194,
   "id": "f62274bc",
   "metadata": {},
   "outputs": [],
   "source": [
    "from surprise import SVD, Dataset, Reader, accuracy\n",
    "from surprise.model_selection import train_test_split\n",
    "\n",
    "np.set_printoptions(suppress=True)\n",
    "\n",
    "reader = Reader(rating_scale=(1, 5))"
   ]
  },
  {
   "cell_type": "code",
   "execution_count": 195,
   "id": "38826dea",
   "metadata": {},
   "outputs": [
    {
     "data": {
      "text/html": [
       "<div>\n",
       "<style scoped>\n",
       "    .dataframe tbody tr th:only-of-type {\n",
       "        vertical-align: middle;\n",
       "    }\n",
       "\n",
       "    .dataframe tbody tr th {\n",
       "        vertical-align: top;\n",
       "    }\n",
       "\n",
       "    .dataframe thead th {\n",
       "        text-align: right;\n",
       "    }\n",
       "</style>\n",
       "<table border=\"1\" class=\"dataframe\">\n",
       "  <thead>\n",
       "    <tr style=\"text-align: right;\">\n",
       "      <th></th>\n",
       "      <th>item_id</th>\n",
       "      <th>user_id</th>\n",
       "      <th>rating</th>\n",
       "    </tr>\n",
       "  </thead>\n",
       "  <tbody>\n",
       "    <tr>\n",
       "      <th>0</th>\n",
       "      <td>1</td>\n",
       "      <td>a</td>\n",
       "      <td>2</td>\n",
       "    </tr>\n",
       "    <tr>\n",
       "      <th>1</th>\n",
       "      <td>2</td>\n",
       "      <td>a</td>\n",
       "      <td>4</td>\n",
       "    </tr>\n",
       "    <tr>\n",
       "      <th>2</th>\n",
       "      <td>3</td>\n",
       "      <td>a</td>\n",
       "      <td>4</td>\n",
       "    </tr>\n",
       "    <tr>\n",
       "      <th>3</th>\n",
       "      <td>1</td>\n",
       "      <td>b</td>\n",
       "      <td>2</td>\n",
       "    </tr>\n",
       "    <tr>\n",
       "      <th>4</th>\n",
       "      <td>2</td>\n",
       "      <td>b</td>\n",
       "      <td>5</td>\n",
       "    </tr>\n",
       "    <tr>\n",
       "      <th>5</th>\n",
       "      <td>3</td>\n",
       "      <td>b</td>\n",
       "      <td>4</td>\n",
       "    </tr>\n",
       "    <tr>\n",
       "      <th>6</th>\n",
       "      <td>2</td>\n",
       "      <td>c</td>\n",
       "      <td>5</td>\n",
       "    </tr>\n",
       "  </tbody>\n",
       "</table>\n",
       "</div>"
      ],
      "text/plain": [
       "   item_id user_id  rating\n",
       "0        1       a       2\n",
       "1        2       a       4\n",
       "2        3       a       4\n",
       "3        1       b       2\n",
       "4        2       b       5\n",
       "5        3       b       4\n",
       "6        2       c       5"
      ]
     },
     "execution_count": 195,
     "metadata": {},
     "output_type": "execute_result"
    }
   ],
   "source": [
    "# 데이터 프레임을 생성합니다.\n",
    "ratings_dict = {'item_id': [1,2,3,1,2,3,2],\n",
    "                'user_id': ['a','a','a','b','b','b','c'],\n",
    "                'rating': [2,4,4,2,5,4,5]}\n",
    "df = pd.DataFrame(ratings_dict)\n",
    "df.head(10)"
   ]
  },
  {
   "cell_type": "code",
   "execution_count": 196,
   "id": "b831bd51",
   "metadata": {},
   "outputs": [
    {
     "data": {
      "text/html": [
       "<div>\n",
       "<style scoped>\n",
       "    .dataframe tbody tr th:only-of-type {\n",
       "        vertical-align: middle;\n",
       "    }\n",
       "\n",
       "    .dataframe tbody tr th {\n",
       "        vertical-align: top;\n",
       "    }\n",
       "\n",
       "    .dataframe thead tr th {\n",
       "        text-align: left;\n",
       "    }\n",
       "\n",
       "    .dataframe thead tr:last-of-type th {\n",
       "        text-align: right;\n",
       "    }\n",
       "</style>\n",
       "<table border=\"1\" class=\"dataframe\">\n",
       "  <thead>\n",
       "    <tr>\n",
       "      <th></th>\n",
       "      <th colspan=\"3\" halign=\"left\">rating</th>\n",
       "    </tr>\n",
       "    <tr>\n",
       "      <th>item_id</th>\n",
       "      <th>1</th>\n",
       "      <th>2</th>\n",
       "      <th>3</th>\n",
       "    </tr>\n",
       "    <tr>\n",
       "      <th>user_id</th>\n",
       "      <th></th>\n",
       "      <th></th>\n",
       "      <th></th>\n",
       "    </tr>\n",
       "  </thead>\n",
       "  <tbody>\n",
       "    <tr>\n",
       "      <th>a</th>\n",
       "      <td>2.0</td>\n",
       "      <td>4.0</td>\n",
       "      <td>4.0</td>\n",
       "    </tr>\n",
       "    <tr>\n",
       "      <th>b</th>\n",
       "      <td>2.0</td>\n",
       "      <td>5.0</td>\n",
       "      <td>4.0</td>\n",
       "    </tr>\n",
       "    <tr>\n",
       "      <th>c</th>\n",
       "      <td>0.0</td>\n",
       "      <td>5.0</td>\n",
       "      <td>0.0</td>\n",
       "    </tr>\n",
       "  </tbody>\n",
       "</table>\n",
       "</div>"
      ],
      "text/plain": [
       "        rating          \n",
       "item_id      1    2    3\n",
       "user_id                 \n",
       "a          2.0  4.0  4.0\n",
       "b          2.0  5.0  4.0\n",
       "c          0.0  5.0  0.0"
      ]
     },
     "execution_count": 196,
     "metadata": {},
     "output_type": "execute_result"
    }
   ],
   "source": [
    "# 데이터 프레임을 행렬로 변환하여 확인합니다.\n",
    "df_matrix_table = df[['user_id', 'item_id', 'rating']].set_index([\"user_id\", \"item_id\"]).unstack().fillna(0)\n",
    "df_matrix_table.head(10)"
   ]
  },
  {
   "cell_type": "markdown",
   "id": "fbbbb707",
   "metadata": {},
   "source": [
    "라이브러리 사용법은 아래의 코드와 같다. 먼저 평점의 범위가 1~5인 Reader 객체를 생성한다. 그리고 load_from_df() 함수와 build_full_transer() 함수를 이용하여 rating 데이터를 surprise 라이브러리의 데이터셋 형태로 변환해 준다. 마지막으로 SVD라는 클래스를 선안한 뒤, model.fit(train_data)로 행렬 완성 모델을 학습한다. 일반적인 성능의 컴퓨터에서는 약 1분에서 5분 사이의 시간이 소요된다.\n",
    "###  MovieLens 데이터에 SVD 적용하기\n",
    "- SVD를 이용한 빈칸 채우기 학습"
   ]
  },
  {
   "cell_type": "code",
   "execution_count": 197,
   "id": "e4044cef",
   "metadata": {
    "scrolled": true
   },
   "outputs": [],
   "source": [
    "# SVD 사용을 위한 데이터셋을 생성합니다.\n",
    "data = Dataset.load_from_df(df=df[[\"user_id\", \"item_id\", \"rating\"]], reader=reader)\n",
    "train_data = data.build_full_trainset()"
   ]
  },
  {
   "cell_type": "code",
   "execution_count": 198,
   "id": "712d34bc",
   "metadata": {},
   "outputs": [
    {
     "data": {
      "text/plain": [
       "<surprise.prediction_algorithms.matrix_factorization.SVD at 0x7f14530ddd30>"
      ]
     },
     "execution_count": 198,
     "metadata": {},
     "output_type": "execute_result"
    }
   ],
   "source": [
    "# SVD 모델을 학습합니다.\n",
    "model = SVD(n_factors=8,\n",
    "            lr_all=0.005,\n",
    "            reg_all=0.02,\n",
    "            n_epochs=10)\n",
    "model.fit(train_data)"
   ]
  },
  {
   "cell_type": "code",
   "execution_count": 199,
   "id": "ce78d579",
   "metadata": {},
   "outputs": [
    {
     "name": "stdout",
     "output_type": "stream",
     "text": [
      "Item id 1 | predicted rating : 3.5961246991475844\n",
      "Item id 3 | predicted rating : 3.8424999438701466\n"
     ]
    }
   ],
   "source": [
    "# 학습한 모델을 기반으로 빈공간의 점수를 예측합니다.\n",
    "\n",
    "\"\"\"\n",
    "build_anti_testset() : \n",
    "\n",
    "학습에 사용된 matrix에서 0으로 평가되어 있는(rating이 0인 지점) 부분의 데이터.\n",
    "user 혹은 item은 학습에 반드시 등장한 적이 있어야 한다는 전제조건을 통해 추출.\n",
    "\"\"\"\n",
    "\n",
    "# test_data : 학습에 사용된 유저, 혹은 아이템이지만 점수는 매겨지지 않은 데이터입니다.\n",
    "test_data = train_data.build_anti_testset()\n",
    "predictions = model.test(test_data)\n",
    "\n",
    "# 아래의 결과는 빈공간(test_data)의 점수를 예측한 결과입니다.\n",
    "for _, iid, _, predicted_rating, _ in predictions:\n",
    "    print(\"Item id\", iid, \"|\", \"predicted rating :\", predicted_rating)"
   ]
  },
  {
   "cell_type": "code",
   "execution_count": 200,
   "id": "c5db862f",
   "metadata": {},
   "outputs": [
    {
     "name": "stdout",
     "output_type": "stream",
     "text": [
      "Item id 1 | real rating : 2.0 | predicted rating : 3.4827550241241987\n",
      "Item id 2 | real rating : 4.0 | predicted rating : 3.8096961319968576\n",
      "Item id 3 | real rating : 4.0 | predicted rating : 3.670559479737659\n",
      "Item id 1 | real rating : 2.0 | predicted rating : 3.514820395255833\n",
      "Item id 2 | real rating : 5.0 | predicted rating : 3.8610319678943497\n",
      "Item id 3 | real rating : 4.0 | predicted rating : 3.6958593187978486\n",
      "Item id 2 | real rating : 5.0 | predicted rating : 3.8924106949113804\n"
     ]
    }
   ],
   "source": [
    "\"\"\"\n",
    "build_testset() : \n",
    "\n",
    "학습에 사용된 matrix에서 0으로 평가되어 있는(rating이 0인 지점) 부분의 데이터.\n",
    "user 혹은 item은 학습에 반드시 등장한 적이 있어야 한다는 전제조건을 통해 추출.\n",
    "\"\"\"\n",
    "test_data = train_data.build_testset()\n",
    "predictions = model.test(test_data)\n",
    "\n",
    "# 원래부터 비어있지 않았던 행렬의 값들을 출력한 것입니다. real rating은 원래 값, predicted rating은 행렬 완성 후 예측된 값입니다.\n",
    "for _, iid, r_ui, predicted_rating, _ in predictions:\n",
    "    print(\"Item id\", iid, \"|\", \"real rating :\", r_ui, \"|\", \"predicted rating :\", predicted_rating)"
   ]
  },
  {
   "cell_type": "markdown",
   "id": "b2297b74",
   "metadata": {},
   "source": [
    "### [아직 평가하지 않은 영화의 점수 예측하기]\n",
    "##### MovieLens 데이터에 SVD 적용하기"
   ]
  },
  {
   "cell_type": "code",
   "execution_count": 201,
   "id": "57dfd2b2",
   "metadata": {},
   "outputs": [
    {
     "name": "stdout",
     "output_type": "stream",
     "text": [
      "training time of model: 83.75 seconds\n"
     ]
    }
   ],
   "source": [
    "# SVD 라이브러리를 사용하기 위한 학습 데이터를 생성합니다.\n",
    "reader = Reader(rating_scale=(1, 5))\n",
    "data = Dataset.load_from_df(rating_data[['user_id', 'movie_id', 'rating']], reader)\n",
    "train_data = data.build_full_trainset()\n",
    "\n",
    "# SVD 모델을 학습합니다.\n",
    "train_start = time.time()\n",
    "model = SVD(n_factors=8,\n",
    "            lr_all=0.005,\n",
    "            reg_all=0.02,\n",
    "            n_epochs=100)\n",
    "model.fit(train_data)\n",
    "train_end = time.time()\n",
    "print(\"training time of model: %.2f seconds\" % (train_end - train_start))"
   ]
  },
  {
   "cell_type": "markdown",
   "id": "ab441483",
   "metadata": {},
   "source": [
    "다음으로 학습한 모델의 평점 예측 결과를 살펴보기 위해 한 명의 데이터를 선정 한다. 예제에서는 user_id가 4인 유저를 선정했다.\n",
    "- 영화의 점수를 예측할 타겟 유저 선정하기"
   ]
  },
  {
   "cell_type": "code",
   "execution_count": 202,
   "id": "84dbb9b3",
   "metadata": {},
   "outputs": [
    {
     "data": {
      "text/html": [
       "<div>\n",
       "<style scoped>\n",
       "    .dataframe tbody tr th:only-of-type {\n",
       "        vertical-align: middle;\n",
       "    }\n",
       "\n",
       "    .dataframe tbody tr th {\n",
       "        vertical-align: top;\n",
       "    }\n",
       "\n",
       "    .dataframe thead th {\n",
       "        text-align: right;\n",
       "    }\n",
       "</style>\n",
       "<table border=\"1\" class=\"dataframe\">\n",
       "  <thead>\n",
       "    <tr style=\"text-align: right;\">\n",
       "      <th></th>\n",
       "      <th>user_id</th>\n",
       "      <th>movie_id</th>\n",
       "      <th>rating</th>\n",
       "      <th>time</th>\n",
       "    </tr>\n",
       "  </thead>\n",
       "  <tbody>\n",
       "    <tr>\n",
       "      <th>233</th>\n",
       "      <td>4</td>\n",
       "      <td>3468</td>\n",
       "      <td>5</td>\n",
       "      <td>978294008</td>\n",
       "    </tr>\n",
       "    <tr>\n",
       "      <th>234</th>\n",
       "      <td>4</td>\n",
       "      <td>1210</td>\n",
       "      <td>3</td>\n",
       "      <td>978293924</td>\n",
       "    </tr>\n",
       "    <tr>\n",
       "      <th>235</th>\n",
       "      <td>4</td>\n",
       "      <td>2951</td>\n",
       "      <td>4</td>\n",
       "      <td>978294282</td>\n",
       "    </tr>\n",
       "    <tr>\n",
       "      <th>236</th>\n",
       "      <td>4</td>\n",
       "      <td>1214</td>\n",
       "      <td>4</td>\n",
       "      <td>978294260</td>\n",
       "    </tr>\n",
       "    <tr>\n",
       "      <th>237</th>\n",
       "      <td>4</td>\n",
       "      <td>1036</td>\n",
       "      <td>4</td>\n",
       "      <td>978294282</td>\n",
       "    </tr>\n",
       "  </tbody>\n",
       "</table>\n",
       "</div>"
      ],
      "text/plain": [
       "     user_id  movie_id  rating       time\n",
       "233        4      3468       5  978294008\n",
       "234        4      1210       3  978293924\n",
       "235        4      2951       4  978294282\n",
       "236        4      1214       4  978294260\n",
       "237        4      1036       4  978294282"
      ]
     },
     "execution_count": 202,
     "metadata": {},
     "output_type": "execute_result"
    }
   ],
   "source": [
    "# user_id가 4인 유저의 영화 평가 데이터\n",
    "target_user_id = 4\n",
    "target_user_data = rating_data[rating_data['user_id']==target_user_id]\n",
    "target_user_data.head(5)"
   ]
  },
  {
   "cell_type": "markdown",
   "id": "c53ed7a9",
   "metadata": {},
   "source": [
    "4번 유저가 평가한 영화의 목록을 추출하는 방법은 다음과 같다. 아래 출력 결과는 유저의 영화 관람 스토리를 {movie_id:rating}형태로 추출한 것이다."
   ]
  },
  {
   "cell_type": "code",
   "execution_count": 203,
   "id": "47661da8",
   "metadata": {},
   "outputs": [
    {
     "name": "stdout",
     "output_type": "stream",
     "text": [
      "{3468: 5, 1210: 3, 2951: 4, 1214: 4, 1036: 4, 260: 5, 2028: 5, 480: 4, 1196: 2, 1198: 5, 1954: 5, 1097: 4, 3418: 4, 3702: 4, 2366: 4, 1387: 5, 3527: 1, 1201: 5, 2692: 5, 2947: 5, 1240: 5}\n"
     ]
    }
   ],
   "source": [
    "# user_id 4인 유저가 평가한 영화 히스토리 정보를 추출한다.\n",
    "target_user_movie_rating_dict = {}\n",
    "\n",
    "for index, row in target_user_data.iterrows():\n",
    "    movie_id = row['movie_id']\n",
    "    target_user_movie_rating_dict[movie_id] = row['rating']\n",
    "    \n",
    "print(target_user_movie_rating_dict)"
   ]
  },
  {
   "cell_type": "markdown",
   "id": "e487f065",
   "metadata": {},
   "source": [
    "이제 예측 모델에 4번 유저의 정보를 입력하여 '아직 보지 않은 영화들의 평점'을 예측해보자. 이를 위해 model.test() 함수를 사용한다. 이 함수의 입력 데이터인 test_data는 (target_user_id,movie_id,rating) 형태의 리스트여야 합니다. 다음 코드에서는 4번 유저가 아직 보지 않은 영화의 리스트로 test_data를 구성했다. model.tset(test_data)를 실행하면 4번 유저가 아직 보지 않은 영화들의 예측 평점을 반환 한다.\n",
    "\n",
    "- 타겟 유저가 보지 않은 영화 중, 예상 평점이 높은 10개 선정"
   ]
  },
  {
   "cell_type": "code",
   "execution_count": 204,
   "id": "5c949481",
   "metadata": {},
   "outputs": [],
   "source": [
    "# 타겟 유저(user_id가 4인 유저)가 보지 않은 영화 정보를 테스트 데이터로 생성한다.\n",
    "test_data = []\n",
    "for index, row in movie_data.iterrows():\n",
    "    movied_id = row['movie_id']\n",
    "    rating = 0\n",
    "    if movie_id in target_user_movie_rating_dict:\n",
    "        continue\n",
    "    test_data.append((target_user_id, movie_id, rating))"
   ]
  },
  {
   "cell_type": "code",
   "execution_count": 205,
   "id": "e1886aa2",
   "metadata": {},
   "outputs": [],
   "source": [
    "# 타겟 유저의 평점 점수를 예측한다.\n",
    "target_user_predictions = model.test(test_data)"
   ]
  },
  {
   "cell_type": "code",
   "execution_count": 206,
   "id": "d2ab437d",
   "metadata": {},
   "outputs": [],
   "source": [
    "# 타겟 유저의 평점 점수를 예측합니다.\n",
    "target_user_predictions = model.test(test_data)\n",
    "\n",
    "# 예측된 점수 중, 타겟 유저의 영화별 점수를 target_user_movie_predict_dict로 저장합니다.\n",
    "def get_user_predicted_ratings(predictions, user_id, user_history):\n",
    "    target_user_movie_predict_dict = {}\n",
    "    for uid, mid, rating, predicted_rating, _ in predictions:\n",
    "        if user_id == uid:\n",
    "            if mid not in user_history:\n",
    "                target_user_movie_predict_dict[mid] = predicted_rating\n",
    "    return target_user_movie_predict_dict\n",
    "\n",
    "target_user_movie_predict_dict = get_user_predicted_ratings(predictions=target_user_predictions, \n",
    "                                                            user_id=target_user_id, \n",
    "                                                            user_history=target_user_movie_rating_dict)"
   ]
  },
  {
   "cell_type": "code",
   "execution_count": 207,
   "id": "6bb7460c",
   "metadata": {},
   "outputs": [],
   "source": [
    "# target_user_movie_predict_dict에서 예측된 점수 중, 타겟 유저의 Top 10 영화를 선정합니다.\n",
    "target_user_top10_predicted = sorted(target_user_movie_predict_dict.items(), \n",
    "                                     key=operator.itemgetter(1), reverse=True)[:10]"
   ]
  },
  {
   "cell_type": "code",
   "execution_count": 208,
   "id": "7aa2bb8a",
   "metadata": {
    "scrolled": true
   },
   "outputs": [
    {
     "data": {
      "text/plain": [
       "[]"
      ]
     },
     "execution_count": 208,
     "metadata": {},
     "output_type": "execute_result"
    }
   ],
   "source": [
    "# 예측된 Top 10 영화\n",
    "target_user_top10_predicted"
   ]
  },
  {
   "cell_type": "markdown",
   "id": "10d2db6f",
   "metadata": {},
   "source": [
    "그리고 다음의 실행 결과는 Top 10영화의 제목을 매칭하여 출력한 것이다."
   ]
  },
  {
   "cell_type": "code",
   "execution_count": 209,
   "id": "3ffc2703",
   "metadata": {},
   "outputs": [],
   "source": [
    "#  타이틀 정보로 출력하기 위해 movie_id 마다 movie_title을 딕셔너리 형태로 저장한다.\n",
    "\n",
    "movie_dict = {}\n",
    "for index, row in movie_data.iterrows():\n",
    "    movie_id = row['movie_id']\n",
    "    movie_title = row['title']\n",
    "    movie_dict[movie_id] = movie_title\n"
   ]
  },
  {
   "cell_type": "code",
   "execution_count": 210,
   "id": "655b281e",
   "metadata": {},
   "outputs": [],
   "source": [
    "# 앞서 계산한 Top 10 영화에 movie_title을 매핑하여 출력한다.\n",
    "for predicted in target_user_top10_predicted:\n",
    "    movie_id = predicted[0]\n",
    "    predicted_rating = predicted[1]\n",
    "    print(movie_dict[movie_id], \":\", predicted_rating)"
   ]
  },
  {
   "cell_type": "markdown",
   "id": "93d198aa",
   "metadata": {},
   "source": [
    "### Step 4 평가: 예측 모델 평가하기\n",
    "\n",
    "이제 우리가 스스로 의문을 가져야 할 때이다. '과연 이 예측이 얼마나 정확한 예측일까?' 라는 의문 이다. 이를 해소하기 위해서 모델이 얼마나 정확하게 행렬을 완성했는지 평가해야 한다. 행렬완성의 가장 보편적인 평가 방법은 RSME를 계산하는 것이다. SVD 모델에서 RMSE를 출력하는 코드는 다음과 같다. 데이터를 학습 데이터셋과 테스트 데이터셋으로 분리한 뒤, 학습 데이터셋을 사용하여 SVD 모델을 학습한다. 그리고 테스트 데이터로 predictions라는 예측값을 생성하여 RMSE를 계산한다.\n",
    "- 예측 모델의 평가 방법 RMSE 계산하기"
   ]
  },
  {
   "cell_type": "code",
   "execution_count": 215,
   "id": "2492333c",
   "metadata": {},
   "outputs": [
    {
     "name": "stdout",
     "output_type": "stream",
     "text": [
      "training time of model: 74.99 seconds\n",
      "RMSE of test dataset in SVD model:\n",
      "RMSE: 0.8607\n"
     ]
    },
    {
     "data": {
      "text/plain": [
       "0.8607081066416387"
      ]
     },
     "execution_count": 215,
     "metadata": {},
     "output_type": "execute_result"
    }
   ],
   "source": [
    "# SVD 라이브러리를 사용하기 위한 학습 데이터를 생성합니다. 학습 데이터와 테스트 데이터를 8:2로 분할합니다.\n",
    "reader = Reader(rating_scale=(1, 5))\n",
    "data = Dataset.load_from_df(rating_data[['user_id', 'movie_id', 'rating']], reader)\n",
    "train_data, test_data = train_test_split(data, test_size=0.2)\n",
    "\n",
    "# SVD 모델을 학습합니다.\n",
    "train_start = time.time()\n",
    "model = SVD(n_factors=8,\n",
    "            lr_all=0.005,\n",
    "            reg_all=0.02,\n",
    "            n_epochs=100)\n",
    "model.fit(train_data)\n",
    "train_end = time.time()\n",
    "print(\"training time of model: %.2f seconds\" % (train_end - train_start))\n",
    "\n",
    "predictions = model.test(test_data)\n",
    "\n",
    "# 테스트 데이터의 RMSE를 출력합니다.\n",
    "print(\"RMSE of test dataset in SVD model:\")\n",
    "accuracy.rmse(predictions)"
   ]
  },
  {
   "cell_type": "markdown",
   "id": "8c7cfc9e",
   "metadata": {},
   "source": [
    "SVD 예제에서 하이퍼 파라미터를 바꿔가며 RMSE를 출력하기\n",
    "- RMSE를 이용해 적당한 하이퍼 파라미터 n_factors 찾기\n",
    "- 하이퍼 파라미터 n_factors 설정 변화에 따른 RMSE 그래프를 출력해보자"
   ]
  },
  {
   "cell_type": "code",
   "execution_count": 220,
   "id": "230a532a",
   "metadata": {},
   "outputs": [
    {
     "name": "stdout",
     "output_type": "stream",
     "text": [
      "training time of model: 62.46 seconds\n",
      "RMSE of test dataset in SVD model, n_factors=1\n",
      "RMSE: 0.8824\n",
      "------------------------------------\n",
      "training time of model: 63.06 seconds\n",
      "RMSE of test dataset in SVD model, n_factors=2\n",
      "RMSE: 0.8740\n",
      "------------------------------------\n",
      "training time of model: 65.01 seconds\n",
      "RMSE of test dataset in SVD model, n_factors=3\n",
      "RMSE: 0.8662\n",
      "------------------------------------\n",
      "training time of model: 66.95 seconds\n",
      "RMSE of test dataset in SVD model, n_factors=4\n",
      "RMSE: 0.8633\n",
      "------------------------------------\n",
      "training time of model: 68.33 seconds\n",
      "RMSE of test dataset in SVD model, n_factors=5\n",
      "RMSE: 0.8600\n",
      "------------------------------------\n",
      "training time of model: 71.82 seconds\n",
      "RMSE of test dataset in SVD model, n_factors=6\n",
      "RMSE: 0.8604\n",
      "------------------------------------\n",
      "training time of model: 72.70 seconds\n",
      "RMSE of test dataset in SVD model, n_factors=7\n",
      "RMSE: 0.8579\n",
      "------------------------------------\n",
      "training time of model: 74.74 seconds\n",
      "RMSE of test dataset in SVD model, n_factors=8\n",
      "RMSE: 0.8612\n",
      "------------------------------------\n",
      "training time of model: 76.07 seconds\n",
      "RMSE of test dataset in SVD model, n_factors=9\n",
      "RMSE: 0.8596\n",
      "------------------------------------\n",
      "training time of model: 78.28 seconds\n",
      "RMSE of test dataset in SVD model, n_factors=10\n",
      "RMSE: 0.8629\n",
      "------------------------------------\n",
      "training time of model: 80.35 seconds\n",
      "RMSE of test dataset in SVD model, n_factors=11\n",
      "RMSE: 0.8632\n",
      "------------------------------------\n",
      "training time of model: 82.95 seconds\n",
      "RMSE of test dataset in SVD model, n_factors=12\n",
      "RMSE: 0.8671\n",
      "------------------------------------\n",
      "training time of model: 85.14 seconds\n",
      "RMSE of test dataset in SVD model, n_factors=13\n",
      "RMSE: 0.8687\n",
      "------------------------------------\n",
      "training time of model: 86.98 seconds\n",
      "RMSE of test dataset in SVD model, n_factors=14\n",
      "RMSE: 0.8692\n",
      "------------------------------------\n",
      "searching n_factors is finish.\n"
     ]
    }
   ],
   "source": [
    "rmse_list_by_factors = []\n",
    "ttime_list_by_factors = []\n",
    "for n in range(1, 15):    \n",
    "    train_start = time.time()\n",
    "    model = SVD(n_factors=n,\n",
    "                lr_all=0.005,\n",
    "                reg_all=0.02,\n",
    "                n_epochs=100)\n",
    "    model.fit(train_data)\n",
    "    train_end = time.time()\n",
    "    print(\"training time of model: %.2f seconds\" % (train_end - train_start))\n",
    "    print(\"RMSE of test dataset in SVD model, n_factors=\" + str(n))\n",
    "    predictions = model.test(test_data)\n",
    "    rmse_result = accuracy.rmse(predictions)\n",
    "    rmse_list_by_factors.append(rmse_result)\n",
    "    ttime_list_by_factors.append((train_end - train_start))\n",
    "    print(\"------------------------------------\")\n",
    "print(\"searching n_factors is finish.\")"
   ]
  },
  {
   "cell_type": "code",
   "execution_count": 221,
   "id": "9f10791f",
   "metadata": {
    "scrolled": true
   },
   "outputs": [
    {
     "data": {
      "image/png": "[encoded data removed]",
      "text/plain": [
       "<Figure size 720x720 with 1 Axes>"
      ]
     },
     "metadata": {
      "needs_background": "light"
     },
     "output_type": "display_data"
    }
   ],
   "source": [
    "plt.plot(range(1, 15), rmse_list_by_factors, alpha=0.8)\n",
    "plt.title('RMSE by n_factors of SVD')\n",
    "plt.ylabel('RMSE', fontsize=12)\n",
    "plt.xlabel('n_factors', fontsize=12)\n",
    "plt.show()"
   ]
  },
  {
   "cell_type": "code",
   "execution_count": 224,
   "id": "2dcafb35",
   "metadata": {},
   "outputs": [
    {
     "data": {
      "image/png": "[encoded data removed]",
      "text/plain": [
       "<Figure size 720x720 with 1 Axes>"
      ]
     },
     "metadata": {
      "needs_background": "light"
     },
     "output_type": "display_data"
    }
   ],
   "source": [
    "plt.plot(range(1, 15), ttime_list_by_factors, alpha=0.8)\n",
    "plt.title('Training time by n_factors of SVD')\n",
    "plt.ylabel('Training time', fontsize=12)\n",
    "plt.xlabel('n_factors', fontsize=12)\n",
    "plt.show()"
   ]
  },
  {
   "cell_type": "markdown",
   "id": "a9ae2abe",
   "metadata": {},
   "source": [
    "이번에는 4번 유저의 예측 평점을 비교하는 시각화 그래프를 출력해보자. 아래의 코드는 4번 유저가 영화를 아직 보지 않았다는 가정하에 실제로 보았던 21개 영화의 가상 예측 평점을 계산한 것이다.\n",
    "- 실제 평점과의 비교 시각화하기: 평점 예측 단계"
   ]
  },
  {
   "cell_type": "code",
   "execution_count": 228,
   "id": "7e8bc515",
   "metadata": {},
   "outputs": [
    {
     "data": {
      "text/plain": [
       "{260: 4.537198337069769,\n",
       " 480: 3.4946726617949846,\n",
       " 1036: 4.00623619455274,\n",
       " 1097: 4.315993442619498,\n",
       " 1196: 4.252908518950018,\n",
       " 1198: 4.607904199850213,\n",
       " 1201: 4.759822672785717,\n",
       " 1210: 3.9977319353027356,\n",
       " 1214: 4.305181209985389,\n",
       " 1240: 4.207257710258249,\n",
       " 1387: 4.451799860740832,\n",
       " 1954: 4.582529762599411,\n",
       " 2028: 4.76545513999188,\n",
       " 2366: 4.133991472731983,\n",
       " 2692: 4.361234067675388,\n",
       " 2947: 4.418766843392606,\n",
       " 2951: 4.293422823862237,\n",
       " 3418: 3.874635034176257,\n",
       " 3468: 4.9574906988509335,\n",
       " 3527: 3.2037015058084495,\n",
       " 3702: 3.948956266915021}"
      ]
     },
     "execution_count": 228,
     "metadata": {},
     "output_type": "execute_result"
    }
   ],
   "source": [
    "# 타겟 유저 정보를 테스트 데이터로 생성\n",
    "test_data = []\n",
    "for index, row in movie_data.iterrows():\n",
    "    movie_id = row['movie_id']\n",
    "    if movie_id in target_user_movie_rating_dict:\n",
    "        rating = target_user_movie_rating_dict[movie_id]\n",
    "        test_data.append((target_user_id, movie_id, rating))\n",
    "        \n",
    "    \n",
    "        \n",
    "# 타겟 유저의 평점 점수를 예측한다.\n",
    "target_user_predictions = model.test(test_data)\n",
    "\n",
    "# 예측된 점수 중, 타겟 유저의 영화별 점수를 target_user_movie_predict_dict로 저장한다.\n",
    "def get_user_predicted_ratings(predictions, user_id, user_history):\n",
    "    target_user_movie_predict_dict = {}\n",
    "    for uid, mid, rating, predicted_rating, _ in predictions:\n",
    "        if user_id == uid:\n",
    "            if mid in user_history:\n",
    "                target_user_movie_predict_dict[mid] = predicted_rating\n",
    "    return target_user_movie_predict_dict\n",
    "            \n",
    "# target_user_movie_predict_dict에서 예측된 점수 중, 타겟 유저의 Top 영화를 선정한다.\n",
    "\n",
    "target_user_movie_predict_dict = get_user_predicted_ratings(predictions=target_user_predictions,\n",
    "                                                           user_id=target_user_id,\n",
    "                                                           user_history=target_user_movie_rating_dict)\n",
    "target_user_movie_predict_dict"
   ]
  },
  {
   "cell_type": "markdown",
   "id": "9b34725a",
   "metadata": {},
   "source": [
    "4번 유저가 실제로 관람했던 21개 영화에 대한 가상 예측 평점, 실제 평점, 그리고 영화의 제목을 하나로 출력한 결과는 다음과 같다.\n",
    "- 실제 평점과의 비교 시각화 하기"
   ]
  },
  {
   "cell_type": "code",
   "execution_count": 232,
   "id": "b960115f",
   "metadata": {},
   "outputs": [
    {
     "name": "stdout",
     "output_type": "stream",
     "text": [
      "movie 1 : Star Wars: Episode IV - A New Hope (1977) - 5 / 4.54\n",
      "movie 2 : Jurassic Park (1993) - 4 / 3.49\n",
      "movie 3 : Die Hard (1988) - 4 / 4.01\n",
      "movie 4 : E.T. the Extra-Terrestrial (1982) - 4 / 4.32\n",
      "movie 5 : Star Wars: Episode V - The Empire Strikes Back (1980) - 2 / 4.25\n",
      "movie 6 : Raiders of the Lost Ark (1981) - 5 / 4.61\n",
      "movie 7 : Good, The Bad and The Ugly, The (1966) - 5 / 4.76\n",
      "movie 8 : Star Wars: Episode VI - Return of the Jedi (1983) - 3 / 4.0\n",
      "movie 9 : Alien (1979) - 4 / 4.31\n",
      "movie 10 : Terminator, The (1984) - 5 / 4.21\n",
      "movie 11 : Jaws (1975) - 5 / 4.45\n",
      "movie 12 : Rocky (1976) - 5 / 4.58\n",
      "movie 13 : Saving Private Ryan (1998) - 5 / 4.77\n",
      "movie 14 : King Kong (1933) - 4 / 4.13\n",
      "movie 15 : Run Lola Run (Lola rennt) (1998) - 5 / 4.36\n",
      "movie 16 : Goldfinger (1964) - 5 / 4.42\n",
      "movie 17 : Fistful of Dollars, A (1964) - 4 / 4.29\n",
      "movie 18 : Thelma & Louise (1991) - 4 / 3.87\n",
      "movie 19 : Hustler, The (1961) - 5 / 4.96\n",
      "movie 20 : Predator (1987) - 1 / 3.2\n",
      "movie 21 : Mad Max (1979) - 4 / 3.95\n"
     ]
    }
   ],
   "source": [
    "# 예측 점수와 실제 점수를 영화 타이틀에 매핑한다.\n",
    "\n",
    "origin_rating_list = []\n",
    "predicted_rating_list = []\n",
    "movie_title_list = []\n",
    "idx = 0\n",
    "\n",
    "for movie_id, predicted_rating in target_user_movie_predict_dict.items():\n",
    "    idx = idx + 1\n",
    "    predicted_rating = round(predicted_rating, 2)\n",
    "    origin_rating = target_user_movie_rating_dict[movie_id]\n",
    "    movie_title = movie_dict[movie_id]\n",
    "    print(\"movie\", str(idx), \":\", movie_title, \"-\", origin_rating, \"/\", predicted_rating)\n",
    "    origin_rating_list.append(origin_rating)\n",
    "    predicted_rating_list.append(predicted_rating)\n",
    "    movie_title_list.append(str(idx))\n"
   ]
  },
  {
   "cell_type": "markdown",
   "id": "92db0bbd",
   "metadata": {},
   "source": [
    "아래의 그래프는 지금까지의 분석 결과를 시각화 한 것이다. 약 1~2개의 정도의 영화를 제외하면 실제 평점과 가장 예측 평점이 크게 다르지 않은 것을 알 수 있다.\n",
    "\n",
    "- 실제 평점과의 비교 시각화 하기"
   ]
  },
  {
   "cell_type": "code",
   "execution_count": 234,
   "id": "23397688",
   "metadata": {},
   "outputs": [
    {
     "data": {
      "image/png": "[encoded data removed]",
      "text/plain": [
       "<Figure size 720x432 with 1 Axes>"
      ]
     },
     "metadata": {
      "needs_background": "light"
     },
     "output_type": "display_data"
    }
   ],
   "source": [
    "# 실제 점수와 예측 점수를 리스트로 추출하기\n",
    "origin = origin_rating_list\n",
    "predicted = predicted_rating_list\n",
    "\n",
    "# 영화의 개수만큼 막대 그래프의 index 개수를 생성하기\n",
    "plt.rcParams['figure.figsize'] = (10,6)\n",
    "index = np.arange(len(movie_title_list))\n",
    "bar_width = 0.2\n",
    "\n",
    "# 실제 점수와 예측 점수를 bar 그래프로 출력한다.\n",
    "\n",
    "rects1 = plt.bar(index, origin, bar_width,\n",
    "                color = 'orange',\n",
    "                label = 'Origin')\n",
    "\n",
    "rects2 = plt.bar(index + bar_width, predicted, bar_width,\n",
    "                color='green',\n",
    "                label='Predicted')\n",
    "\n",
    "plt.xticks(index, movie_title_list)\n",
    "plt.legend()\n",
    "plt.show()"
   ]
  },
  {
   "cell_type": "markdown",
   "id": "dafeb3e2",
   "metadata": {},
   "source": [
    "- 출처:이것이 데이터 분석이다 with 파이썬"
   ]
  },
  {
   "cell_type": "code",
   "execution_count": null,
   "id": "633bd0eb",
   "metadata": {},
   "outputs": [],
   "source": []
  }
 ],
 "metadata": {
  "kernelspec": {
   "display_name": "Python 3",
   "language": "python",
   "name": "python3"
  },
  "language_info": {
   "codemirror_mode": {
    "name": "ipython",
    "version": 3
   },
   "file_extension": ".py",
   "mimetype": "text/x-python",
   "name": "python",
   "nbconvert_exporter": "python",
   "pygments_lexer": "ipython3",
   "version": "3.6.9"
  }
 },
 "nbformat": 4,
 "nbformat_minor": 5
}
