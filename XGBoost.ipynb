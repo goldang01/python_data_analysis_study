{
 "cells": [
  {
   "cell_type": "markdown",
   "id": "e1cc9c38",
   "metadata": {},
   "source": [
    "### 현존 머신러닝 모델중 가장 우월한 XGBoost 모델\n",
    "\n",
    "#### XGBoost에 대해 알아보자\n",
    "\n",
    "- Boosting 이란?\n",
    "    - 여러 개의 약한 의사결정나무(Decision Tree)를 조합해서 사용하는 앙상블(Ensemble) 기법 중 하나\n",
    "    - 즉, 약한 예측 모형들의 학습 에러에 가중치를 두고, 순차적으로 다음 학습 모델에 반영하여 강한 예측모형을 만든다.\n",
    "    \n",
    "    \n",
    "- XGBoost 란?\n",
    "    - XGBoost는 Extreme Gradient Boosting의 약자이다. 해석하면 극한 변화도(경사도) 부스팅\n",
    "    - Boosting 기법을 이용하여 구현한 알고리즘은 Gradient Boost 가 대표적\n",
    "    - 이 알고리즘을 병렬 학습이 지원되도록 구현한 라이브러리가 XGBoost 이다.\n",
    "    - Regression, Classification 문제를 모두 지원하며, 성능과 자원 효율이 좋아서, 인기 있게 사용되는 알고리즘 이다.\n",
    "    \n",
    "\n",
    "- XGBoost의 장점\n",
    "    - GBM 대비 빠른 수행시간\n",
    "    - 병렬 처리로 학습, 분류 속도가 빠르다.\n",
    "    - 과적합 규제(Regularization)\n",
    "    - 표준 GBM 경우 과적합 규제기능이 없으나, XGBoost는 자체에 과적합 규제 기능으로 강한 내구성 지닌다.\n",
    "    - 분류와 회귀영역에서 뛰어난 예측 성능 발휘\n",
    "    - 즉, CART(Classification and regression tree) 앙상블 모델을 사용\n",
    "    - Early Stopping(조기 종료) 기능이 있음\n",
    "    - 다양한 옵션을 제공하며 Customizing이 용이하다.\n",
    "    - Missing Values : 결측치를 내부적으로 처리해준다. 실제로 kaggle에 적용해보는 과정에서 편리함\n"
   ]
  },
  {
   "cell_type": "markdown",
   "id": "c1238450",
   "metadata": {},
   "source": [
    "#### Sample  code. XGBClassifier"
   ]
  },
  {
   "cell_type": "code",
   "execution_count": null,
   "id": "7124b2f1",
   "metadata": {},
   "outputs": [],
   "source": [
    "import xgboost as xgb\n",
    "from xgboost import XGBClassifier\n",
    "\n",
    "# Extreme Gradient Boosting (xgboost) 모델 사용\n",
    "\n",
    "# 1. 모델 선언\n",
    "xgb  = XGBClassifier()\n",
    "\n",
    "# 2. 모델 훈련 fit()함수\n",
    "xgb.fit(X_train, Y_train)\n",
    "\n",
    "# 3. 모델 예측 predict()함수\n",
    "Y_pred = xgb.predict(X_test)\n",
    "\n",
    "# 4. score()\n",
    "xgb.score(X_train, Y_train)"
   ]
  },
  {
   "cell_type": "markdown",
   "id": "d31c58b9",
   "metadata": {},
   "source": [
    "- Reference\n",
    "    - [unhochoi[ML] XGBoost 개념 이해](https://wooono.tistory.com/97)\n",
    "    - [[peter_yun][Kaggle에 적용해보는 XGBoost]](https://medium.com/@peteryun/ml-kaggle%EC%97%90-%EC%A0%81%EC%9A%A9%ED%95%B4%EB%B3%B4%EB%8A%94-xgboost-f1650342ba93)"
   ]
  }
 ],
 "metadata": {
  "kernelspec": {
   "display_name": "Python 3",
   "language": "python",
   "name": "python3"
  },
  "language_info": {
   "codemirror_mode": {
    "name": "ipython",
    "version": 3
   },
   "file_extension": ".py",
   "mimetype": "text/x-python",
   "name": "python",
   "nbconvert_exporter": "python",
   "pygments_lexer": "ipython3",
   "version": "3.6.9"
  }
 },
 "nbformat": 4,
 "nbformat_minor": 5
}
