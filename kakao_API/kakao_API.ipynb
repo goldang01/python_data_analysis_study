{
 "cells": [
  {
   "cell_type": "markdown",
   "id": "41bf02ec",
   "metadata": {},
   "source": [
    "- 카카오 API를 이용해 주소에서 위경도를 통해 주소를 추출해보자.우선, 카카오에서 제공하는 API를 사용하기 위해 Kakao Developers에서 api키를 발급 받아야 한다. API key를 발급받자. **REST API키**"
   ]
  },
  {
   "cell_type": "markdown",
   "id": "0a23d6f9",
   "metadata": {},
   "source": [
    "<center>\n",
    "<img src=\"https://img1.daumcdn.net/thumb/R1280x0/?scode=mtistory2&fname=https%3A%2F%2Fblog.kakaocdn.net%2Fdn%2FUNRpG%2Fbtq4ct5TUpE%2FnSYkkK7AXtoR6EKsbkUKLK%2Fimg.png\" width=\"600\" height=\"400\"><br>\n",
    "</center>"
   ]
  },
  {
   "cell_type": "markdown",
   "id": "01a72c16",
   "metadata": {},
   "source": [
    "- 카카오 Developer 주소: [Kakao Developers](https://developers.kakao.com/console/app)\n",
    "- 참고: [미완성의신](https://unfinishedgod.netlify.app/2021/04/28/python-%EC%B9%B4%EC%B9%B4%EC%98%A4-api%EB%A5%BC-%EC%82%AC%EC%9A%A9%ED%95%9C-%EC%A3%BC%EC%86%8C-%EC%9C%84%EA%B2%BD%EB%8F%84-%EC%B6%94%EC%B6%9C/)\n",
    "\n",
    "먼저 필요한 모듈을 import 한다. requests는 HTTP를 호출할 때 사용하는 라이브러리이다."
   ]
  },
  {
   "cell_type": "code",
   "execution_count": 110,
   "id": "133f25d9",
   "metadata": {},
   "outputs": [],
   "source": [
    "import json\n",
    "import requests\n",
    "import folium\n",
    "import pandas as pd"
   ]
  },
  {
   "cell_type": "markdown",
   "id": "400c5fc4",
   "metadata": {},
   "source": [
    "#### 1. API 셋팅하기\n",
    "\n",
    "이곳에서 사용할 API키는 REST API 키를 참고 하도록 하자. 이번에 사용할 API이다."
   ]
  },
  {
   "cell_type": "code",
   "execution_count": 120,
   "id": "c7a1ff1e",
   "metadata": {},
   "outputs": [],
   "source": [
    "api_key = 'a6fcb08aec1b4dc8cf2869322294ab95'"
   ]
  },
  {
   "cell_type": "markdown",
   "id": "0c7c9978",
   "metadata": {},
   "source": [
    "#### 2. 지리정보 API를 사용해 주소에서 위경도에서 추출\n",
    "이제 GET()함수를 통해 다음과 같이 API를 호출 해주자. 주소는 남산을 택했으며 \"남산\" 주소를 검색 결과 “서울 중구 회현동1가”로 나오게 되어 이곳의 위경도를 추출하려고 한다. API문서에서는 다음에 위치 한다."
   ]
  },
  {
   "cell_type": "markdown",
   "id": "8177a311",
   "metadata": {},
   "source": [
    "- 개발가이드: [주소 검색](https://developers.kakao.com/docs/latest/ko/local/dev-guide#address-coord)"
   ]
  },
  {
   "cell_type": "code",
   "execution_count": 121,
   "id": "a2f38477",
   "metadata": {},
   "outputs": [],
   "source": [
    "def addr_to_lat_lon(addr):\n",
    "    url = 'https://dapi.kakao.com/v2/local/search/address.json?query={address}'.format(address=addr)\n",
    "    headers = {\"Authorization\": \"KakaoAK \" + api_key}\n",
    "    result = json.loads(str(requests.get(url, headers=headers).text))\n",
    "    match_first = result['documents'][0]['address']\n",
    "    return float(match_first['x']), float(match_first['y'])"
   ]
  },
  {
   "cell_type": "markdown",
   "id": "25234dfc",
   "metadata": {},
   "source": [
    "이렇게 만든 addr_to_lat_lon 함수를 이용해 남산의 위경도를 추출하자."
   ]
  },
  {
   "cell_type": "code",
   "execution_count": 122,
   "id": "6da47ce1",
   "metadata": {},
   "outputs": [],
   "source": [
    "df = addr_to_lat_lon(\"서울 중구 회현동1가\")"
   ]
  },
  {
   "cell_type": "code",
   "execution_count": 123,
   "id": "6dad1585",
   "metadata": {},
   "outputs": [
    {
     "data": {
      "text/plain": [
       "(126.981204133005, 37.5555892070291)"
      ]
     },
     "execution_count": 123,
     "metadata": {},
     "output_type": "execute_result"
    }
   ],
   "source": [
    "df"
   ]
  },
  {
   "cell_type": "code",
   "execution_count": 124,
   "id": "c4af0d89",
   "metadata": {},
   "outputs": [
    {
     "data": {
      "text/plain": [
       "126.981204133005"
      ]
     },
     "execution_count": 124,
     "metadata": {},
     "output_type": "execute_result"
    }
   ],
   "source": [
    "df[0]"
   ]
  },
  {
   "cell_type": "code",
   "execution_count": 125,
   "id": "43583169",
   "metadata": {},
   "outputs": [
    {
     "data": {
      "text/plain": [
       "37.5555892070291"
      ]
     },
     "execution_count": 125,
     "metadata": {},
     "output_type": "execute_result"
    }
   ],
   "source": [
    "df[1]"
   ]
  },
  {
   "cell_type": "markdown",
   "id": "30190562",
   "metadata": {},
   "source": [
    "#### 3. 지리정보 API를 사용해 위경도에서 주소 추출하기\n",
    "이번엔 반대로 위경도를 이용해 주소를 추출해보자. "
   ]
  },
  {
   "cell_type": "markdown",
   "id": "6d1a0842",
   "metadata": {},
   "source": [
    "- 개발가이드: [좌표로 주소 변환](https://developers.kakao.com/docs/latest/ko/local/dev-guide#coord-to-address)"
   ]
  },
  {
   "cell_type": "code",
   "execution_count": 126,
   "id": "9a866736",
   "metadata": {},
   "outputs": [],
   "source": [
    "def lat_lon_to_addr(lon,lat):\n",
    "    url = 'https://dapi.kakao.com/v2/local/geo/coord2regioncode.json?x={longitude}&y={latitude}'.format(longitude=lon,latitude=lat)\n",
    "    headers = {\"Authorization\": \"KakaoAK \" + api_key}\n",
    "    result = json.loads(str(requests.get(url, headers=headers).text))\n",
    "    match_first = result['documents'][0]['address_name']\n",
    "    return str(match_first)"
   ]
  },
  {
   "cell_type": "markdown",
   "id": "3077f6b4",
   "metadata": {},
   "source": [
    "이렇게 만든 lat_lon_to_addr 함수를 이용해 남산의 위경도를 추출하면 다음과 같이 주소가 출력된다."
   ]
  },
  {
   "cell_type": "code",
   "execution_count": 127,
   "id": "46c50851",
   "metadata": {},
   "outputs": [
    {
     "data": {
      "text/plain": [
       "'서울특별시 중구 회현동1가'"
      ]
     },
     "execution_count": 127,
     "metadata": {},
     "output_type": "execute_result"
    }
   ],
   "source": [
    "lat_lon_to_addr(126.981204133005, 37.5555892070291)"
   ]
  },
  {
   "cell_type": "code",
   "execution_count": 128,
   "id": "5ad68fd5",
   "metadata": {},
   "outputs": [
    {
     "data": {
      "text/html": [
       "<div style=\"width:100%;\"><div style=\"position:relative;width:100%;height:0;padding-bottom:60%;\"><span style=\"color:#565656\">Make this Notebook Trusted to load map: File -> Trust Notebook</span><iframe src=\"about:blank\" style=\"position:absolute;width:100%;height:100%;left:0;top:0;border:none !important;\" data-html=%3C%21DOCTYPE%20html%3E%0A%3Chead%3E%20%20%20%20%0A%20%20%20%20%3Cmeta%20http-equiv%3D%22content-type%22%20content%3D%22text/html%3B%20charset%3DUTF-8%22%20/%3E%0A%20%20%20%20%0A%20%20%20%20%20%20%20%20%3Cscript%3E%0A%20%20%20%20%20%20%20%20%20%20%20%20L_NO_TOUCH%20%3D%20false%3B%0A%20%20%20%20%20%20%20%20%20%20%20%20L_DISABLE_3D%20%3D%20false%3B%0A%20%20%20%20%20%20%20%20%3C/script%3E%0A%20%20%20%20%0A%20%20%20%20%3Cstyle%3Ehtml%2C%20body%20%7Bwidth%3A%20100%25%3Bheight%3A%20100%25%3Bmargin%3A%200%3Bpadding%3A%200%3B%7D%3C/style%3E%0A%20%20%20%20%3Cstyle%3E%23map%20%7Bposition%3Aabsolute%3Btop%3A0%3Bbottom%3A0%3Bright%3A0%3Bleft%3A0%3B%7D%3C/style%3E%0A%20%20%20%20%3Cscript%20src%3D%22https%3A//cdn.jsdelivr.net/npm/leaflet%401.6.0/dist/leaflet.js%22%3E%3C/script%3E%0A%20%20%20%20%3Cscript%20src%3D%22https%3A//code.jquery.com/jquery-1.12.4.min.js%22%3E%3C/script%3E%0A%20%20%20%20%3Cscript%20src%3D%22https%3A//maxcdn.bootstrapcdn.com/bootstrap/3.2.0/js/bootstrap.min.js%22%3E%3C/script%3E%0A%20%20%20%20%3Cscript%20src%3D%22https%3A//cdnjs.cloudflare.com/ajax/libs/Leaflet.awesome-markers/2.0.2/leaflet.awesome-markers.js%22%3E%3C/script%3E%0A%20%20%20%20%3Clink%20rel%3D%22stylesheet%22%20href%3D%22https%3A//cdn.jsdelivr.net/npm/leaflet%401.6.0/dist/leaflet.css%22/%3E%0A%20%20%20%20%3Clink%20rel%3D%22stylesheet%22%20href%3D%22https%3A//maxcdn.bootstrapcdn.com/bootstrap/3.2.0/css/bootstrap.min.css%22/%3E%0A%20%20%20%20%3Clink%20rel%3D%22stylesheet%22%20href%3D%22https%3A//maxcdn.bootstrapcdn.com/bootstrap/3.2.0/css/bootstrap-theme.min.css%22/%3E%0A%20%20%20%20%3Clink%20rel%3D%22stylesheet%22%20href%3D%22https%3A//maxcdn.bootstrapcdn.com/font-awesome/4.6.3/css/font-awesome.min.css%22/%3E%0A%20%20%20%20%3Clink%20rel%3D%22stylesheet%22%20href%3D%22https%3A//cdnjs.cloudflare.com/ajax/libs/Leaflet.awesome-markers/2.0.2/leaflet.awesome-markers.css%22/%3E%0A%20%20%20%20%3Clink%20rel%3D%22stylesheet%22%20href%3D%22https%3A//cdn.jsdelivr.net/gh/python-visualization/folium/folium/templates/leaflet.awesome.rotate.min.css%22/%3E%0A%20%20%20%20%0A%20%20%20%20%20%20%20%20%20%20%20%20%3Cmeta%20name%3D%22viewport%22%20content%3D%22width%3Ddevice-width%2C%0A%20%20%20%20%20%20%20%20%20%20%20%20%20%20%20%20initial-scale%3D1.0%2C%20maximum-scale%3D1.0%2C%20user-scalable%3Dno%22%20/%3E%0A%20%20%20%20%20%20%20%20%20%20%20%20%3Cstyle%3E%0A%20%20%20%20%20%20%20%20%20%20%20%20%20%20%20%20%23map_cee08c8b192d492c8fd4b866807b9105%20%7B%0A%20%20%20%20%20%20%20%20%20%20%20%20%20%20%20%20%20%20%20%20position%3A%20relative%3B%0A%20%20%20%20%20%20%20%20%20%20%20%20%20%20%20%20%20%20%20%20width%3A%20100.0%25%3B%0A%20%20%20%20%20%20%20%20%20%20%20%20%20%20%20%20%20%20%20%20height%3A%20100.0%25%3B%0A%20%20%20%20%20%20%20%20%20%20%20%20%20%20%20%20%20%20%20%20left%3A%200.0%25%3B%0A%20%20%20%20%20%20%20%20%20%20%20%20%20%20%20%20%20%20%20%20top%3A%200.0%25%3B%0A%20%20%20%20%20%20%20%20%20%20%20%20%20%20%20%20%7D%0A%20%20%20%20%20%20%20%20%20%20%20%20%3C/style%3E%0A%20%20%20%20%20%20%20%20%0A%3C/head%3E%0A%3Cbody%3E%20%20%20%20%0A%20%20%20%20%0A%20%20%20%20%20%20%20%20%20%20%20%20%3Cdiv%20class%3D%22folium-map%22%20id%3D%22map_cee08c8b192d492c8fd4b866807b9105%22%20%3E%3C/div%3E%0A%20%20%20%20%20%20%20%20%0A%3C/body%3E%0A%3Cscript%3E%20%20%20%20%0A%20%20%20%20%0A%20%20%20%20%20%20%20%20%20%20%20%20var%20map_cee08c8b192d492c8fd4b866807b9105%20%3D%20L.map%28%0A%20%20%20%20%20%20%20%20%20%20%20%20%20%20%20%20%22map_cee08c8b192d492c8fd4b866807b9105%22%2C%0A%20%20%20%20%20%20%20%20%20%20%20%20%20%20%20%20%7B%0A%20%20%20%20%20%20%20%20%20%20%20%20%20%20%20%20%20%20%20%20center%3A%20%5B37.5555892070291%2C%20126.981204133005%5D%2C%0A%20%20%20%20%20%20%20%20%20%20%20%20%20%20%20%20%20%20%20%20crs%3A%20L.CRS.EPSG3857%2C%0A%20%20%20%20%20%20%20%20%20%20%20%20%20%20%20%20%20%20%20%20zoom%3A%2014%2C%0A%20%20%20%20%20%20%20%20%20%20%20%20%20%20%20%20%20%20%20%20zoomControl%3A%20true%2C%0A%20%20%20%20%20%20%20%20%20%20%20%20%20%20%20%20%20%20%20%20preferCanvas%3A%20false%2C%0A%20%20%20%20%20%20%20%20%20%20%20%20%20%20%20%20%7D%0A%20%20%20%20%20%20%20%20%20%20%20%20%29%3B%0A%0A%20%20%20%20%20%20%20%20%20%20%20%20%0A%0A%20%20%20%20%20%20%20%20%0A%20%20%20%20%0A%20%20%20%20%20%20%20%20%20%20%20%20var%20tile_layer_6ce5514999884d248d17370f3af2068d%20%3D%20L.tileLayer%28%0A%20%20%20%20%20%20%20%20%20%20%20%20%20%20%20%20%22https%3A//%7Bs%7D.tile.openstreetmap.org/%7Bz%7D/%7Bx%7D/%7By%7D.png%22%2C%0A%20%20%20%20%20%20%20%20%20%20%20%20%20%20%20%20%7B%22attribution%22%3A%20%22Data%20by%20%5Cu0026copy%3B%20%5Cu003ca%20href%3D%5C%22http%3A//openstreetmap.org%5C%22%5Cu003eOpenStreetMap%5Cu003c/a%5Cu003e%2C%20under%20%5Cu003ca%20href%3D%5C%22http%3A//www.openstreetmap.org/copyright%5C%22%5Cu003eODbL%5Cu003c/a%5Cu003e.%22%2C%20%22detectRetina%22%3A%20false%2C%20%22maxNativeZoom%22%3A%2018%2C%20%22maxZoom%22%3A%2018%2C%20%22minZoom%22%3A%200%2C%20%22noWrap%22%3A%20false%2C%20%22opacity%22%3A%201%2C%20%22subdomains%22%3A%20%22abc%22%2C%20%22tms%22%3A%20false%7D%0A%20%20%20%20%20%20%20%20%20%20%20%20%29.addTo%28map_cee08c8b192d492c8fd4b866807b9105%29%3B%0A%20%20%20%20%20%20%20%20%0A%20%20%20%20%0A%20%20%20%20%20%20%20%20%20%20%20%20var%20circle_marker_1bc845c2a15c4d17be5d359613da51d0%20%3D%20L.circleMarker%28%0A%20%20%20%20%20%20%20%20%20%20%20%20%20%20%20%20%5B37.5555892070291%2C%20126.981204133005%5D%2C%0A%20%20%20%20%20%20%20%20%20%20%20%20%20%20%20%20%7B%22bubblingMouseEvents%22%3A%20true%2C%20%22color%22%3A%20%22%233186cc%22%2C%20%22dashArray%22%3A%20null%2C%20%22dashOffset%22%3A%20null%2C%20%22fill%22%3A%20true%2C%20%22fillColor%22%3A%20%22%233186cc%22%2C%20%22fillOpacity%22%3A%200.2%2C%20%22fillRule%22%3A%20%22evenodd%22%2C%20%22lineCap%22%3A%20%22round%22%2C%20%22lineJoin%22%3A%20%22round%22%2C%20%22opacity%22%3A%201.0%2C%20%22radius%22%3A%2010%2C%20%22stroke%22%3A%20true%2C%20%22weight%22%3A%203%7D%0A%20%20%20%20%20%20%20%20%20%20%20%20%29.addTo%28map_cee08c8b192d492c8fd4b866807b9105%29%3B%0A%20%20%20%20%20%20%20%20%0A%3C/script%3E onload=\"this.contentDocument.open();this.contentDocument.write(    decodeURIComponent(this.getAttribute('data-html')));this.contentDocument.close();\" allowfullscreen webkitallowfullscreen mozallowfullscreen></iframe></div></div>"
      ],
      "text/plain": [
       "<folium.folium.Map at 0x7f0b87ac8748>"
      ]
     },
     "execution_count": 128,
     "metadata": {},
     "output_type": "execute_result"
    }
   ],
   "source": [
    "map = folium.Map(location=[df[1], df[0]], zoom_start=14)\n",
    "\n",
    "# for n in crime_anal_raw.index:\n",
    "#     folium.CircleMarker([crime_anal_raw['lat'][n], crime_anal_raw['lng'][n]],\n",
    "#                        radius = crime_anal_raw['검거'][n]*10,\n",
    "#                        color='#3186cc', fill_color='#3186cc').add_to(map)\n",
    "\n",
    "folium.CircleMarker(\n",
    "    [df[1], df[0]],\n",
    "    radius = 10,\n",
    "    color='#3186cc', \n",
    "    fill_color='#3186cc').add_to(map)    \n",
    "map"
   ]
  }
 ],
 "metadata": {
  "kernelspec": {
   "display_name": "Python 3",
   "language": "python",
   "name": "python3"
  },
  "language_info": {
   "codemirror_mode": {
    "name": "ipython",
    "version": 3
   },
   "file_extension": ".py",
   "mimetype": "text/x-python",
   "name": "python",
   "nbconvert_exporter": "python",
   "pygments_lexer": "ipython3",
   "version": "3.6.9"
  }
 },
 "nbformat": 4,
 "nbformat_minor": 5
}
