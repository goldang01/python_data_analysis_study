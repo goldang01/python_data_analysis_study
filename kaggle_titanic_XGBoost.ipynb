{
 "cells": [
  {
   "cell_type": "markdown",
   "id": "e474f6fc",
   "metadata": {},
   "source": [
    "<center>\n",
    "<img src=\"https://ww.namu.la/s/fb53cf6ba580a2c71eed4432a49f1cfda915107c5eabd4461bfa110cc273f84286fa3af9ecb0770c1f5af47176019ef397385a58d57fe43e52237c0557f0599fdb6f1c9ba224709d18d417793830750276973b3432c37ec5a0816b788c0917f8c04bd938c3d0d4ce795e7247e66eb005\" width=\"300\" height=\"300\"><br>\n",
    "</center>\n"
   ]
  },
  {
   "cell_type": "markdown",
   "id": "016fd4f8",
   "metadata": {},
   "source": [
    "# 타이타닉 호에서 탑승했던 사람들의 정보를 바탕으로 생존자 가려내기\n",
    "타이타닉의 생존자 그룹과 비생존자 그룹을 0~4단계 Step으로 살펴보자. 입문자용으로 쉽게 접근 할 수 있도록 작성해보았다.\n",
    "본 커널은 다음 참고자료를 통해 구성해 보았다. kaggle 제출하는 목적도 포함이기 때문에 제출하는 방법도 출처를 남겼습니다.\n",
    "\n",
    "- 책(이것이 데이터 분석이다 with 파이썬)\n",
    "- [Chapter 4 . titanic 생존자 가려내기](https://seethefuture.tistory.com/50?category=858770)\n",
    "- [[수비니움의 캐글 따라하기] 타이타닉 : Beginner Ver.](https://www.kaggle.com/subinium/subinium-tutorial-titanic-beginner)\n",
    "- [[skyepodium.log] 캐글은 처음이라](https://velog.io/@skyepodium/%EC%BA%90%EA%B8%80-%EC%82%AC%EC%9A%A9%EB%B2%95%EC%97%90-%EB%8C%80%ED%95%B4-%EC%95%8C%EC%95%84%EB%B3%B4%EC%9E%90) kaggle 제출법\n",
    "\n",
    "\n",
    "\n",
    "- Step 0 도메인 지식 : 분석하기에 도움을 주는 도메인 지식을 간단히 살펴본다.\n",
    "- Step 1 탐색: 타이타닉 데이터 살펴보기 (생존에 영향을 주는 피처 시각화로 도메인 지식과 비교해보자)\n",
    "- Step 2 데이터처리: 결측치 처리하기\n",
    "- Step 3 데이터나누기\n",
    "- Step 4 머신러닝 알고리즘 적용하기 (로지스틱 회귀, SVC, 랜덤 포레스트, K-최근접 이웃 알고리즘)\n",
    "- Step 5 kaggle 제출하기\n",
    "\n",
    "### Step 0 도메인 지식\n",
    "​\n",
    "타이타닉 생존자 분석하기에 앞서 도움을 주는 도메인지식이 있다. 간단하게 요약해보자 한다.\n",
    "- 1912년 시대적 배경에는  “Lady First”라는 개념이 존재 했다. 어린이와 여자부터 우선적으로 구조 했다고 한다.  “Lady First”라는 개념이 없었다면 급박한 상황에서 구명정으로 달려들때 힘센 남성이 구명정을 차지할 가능성이 높아 생존에 유리했을 것이다.\n",
    "​\n",
    "- 타이타닉호에는 쉽게말해 사회적위치가 높은 사람, 부자, 일반인, 가난한 이민자 등 여러 부류 사람들이 있었고, 객실도 1등실~3등실이 있었다.\n",
    "​\n",
    "- 3등실은 여러 구역이 철창으로 막혀 제한되어 있었고 배가 미로처럼 복잡했기 때문에 탈출에 지장을 빚었으며, 3등실은 승객들 중에는 영어를 잘 하지 못하는 승객들도 많았다.\n",
    "\n",
    "​\n",
    "### Step 1 탐색: 타이타닉 데이터 살펴보기\n",
    "타이타닉 데이터셋의 구성은 다음과 같다.\n",
    "​\n",
    "​\n",
    "train 셋은 예측하기 위해 임의로 만들어 놓은 원본 데이터들을 큰 비율로 모아놓은 데이터이다.\n",
    "test 셋은 train셋에서 분석을 위한 스크립트를 생성해서 실제로 맞는지 확인하기 위한 데이터 셋이다.\n",
    "​\n",
    "​\n",
    "이 두 셋은 모두 공통된 컬럼을 가지고 있으며, 그럼 컬럼들이 어떻게 이루어져 있는지 확인해보겠다.\n",
    "(train셋,test셋 :  검증하기위해Survived 만 따로 생성됨)\n",
    "​\n",
    "​\n",
    "​\n",
    "​\n",
    "분석에 사용할 데이터는 총 2개의 파일로 구성되어있다. 하나는 분류 모델의 학습을 위한 학습 데이터셋, 그리고 나머지 하나는 테스트를 위한 테스트 데이터셋이다. \n",
    "​\n",
    "​\n",
    "- 타이타닉 데이터셋의 기본 정보 구하기\n",
    "​\n",
    "먼저 필요한 라이브러리를 import하고, 데이터(train.csv, test.csv) 파일을 pd.read_csv 를 이용해서 불러오자."
   ]
  },
  {
   "cell_type": "code",
   "execution_count": 48,
   "id": "bb8b15d8",
   "metadata": {},
   "outputs": [],
   "source": [
    "# 필요한 라이브러리 불러오기\n",
    "\n",
    "## 데이터 분석 관련\n",
    "import pandas as pd\n",
    "from pandas import Series, DataFrame\n",
    "import numpy as np\n",
    "\n",
    "## 데이터 시각화 관련\n",
    "import matplotlib.pyplot as plt\n",
    "import seaborn as sns\n",
    "sns.set_style('whitegrid') # matplotlib의 스타일에 관련한 함\n",
    "## 그래프 출력에 필요한 Python 명령어\n",
    "%matplotlib inline \n",
    "\n",
    "## Scikit-Learn의 다양한 머신러닝 모듈\n",
    "## 분류 알고리즘 중에서 선형회귀, 서포트벡터머신, 랜덤포레스트, K-최근접이웃 알고리즘을 사용\n",
    "from sklearn.linear_model import LogisticRegression\n",
    "from sklearn.svm import SVC, LinearSVC\n",
    "from sklearn.ensemble import RandomForestClassifier\n",
    "from sklearn.neighbors import KNeighborsClassifier\n"
   ]
  },
  {
   "cell_type": "code",
   "execution_count": 49,
   "id": "c8486555",
   "metadata": {},
   "outputs": [],
   "source": [
    "train = pd.read_csv('./kaggle_titanic/train.csv')\n",
    "test = pd.read_csv('./kaggle_titanic/test.csv')"
   ]
  },
  {
   "cell_type": "markdown",
   "id": "d30367bb",
   "metadata": {},
   "source": [
    "데이터가 제대로 불러와졌는지를 확인을 위해 train.head()를 실행시켜보자. 불러온 train이라는 dataframe 중에서 앞의 5개의 열을 출력시킬 수 있다."
   ]
  },
  {
   "cell_type": "code",
   "execution_count": 50,
   "id": "fcd29a36",
   "metadata": {},
   "outputs": [
    {
     "data": {
      "text/html": [
       "<div>\n",
       "<style scoped>\n",
       "    .dataframe tbody tr th:only-of-type {\n",
       "        vertical-align: middle;\n",
       "    }\n",
       "\n",
       "    .dataframe tbody tr th {\n",
       "        vertical-align: top;\n",
       "    }\n",
       "\n",
       "    .dataframe thead th {\n",
       "        text-align: right;\n",
       "    }\n",
       "</style>\n",
       "<table border=\"1\" class=\"dataframe\">\n",
       "  <thead>\n",
       "    <tr style=\"text-align: right;\">\n",
       "      <th></th>\n",
       "      <th>PassengerId</th>\n",
       "      <th>Survived</th>\n",
       "      <th>Pclass</th>\n",
       "      <th>Name</th>\n",
       "      <th>Sex</th>\n",
       "      <th>Age</th>\n",
       "      <th>SibSp</th>\n",
       "      <th>Parch</th>\n",
       "      <th>Ticket</th>\n",
       "      <th>Fare</th>\n",
       "      <th>Cabin</th>\n",
       "      <th>Embarked</th>\n",
       "    </tr>\n",
       "  </thead>\n",
       "  <tbody>\n",
       "    <tr>\n",
       "      <th>0</th>\n",
       "      <td>1</td>\n",
       "      <td>0</td>\n",
       "      <td>3</td>\n",
       "      <td>Braund, Mr. Owen Harris</td>\n",
       "      <td>male</td>\n",
       "      <td>22.0</td>\n",
       "      <td>1</td>\n",
       "      <td>0</td>\n",
       "      <td>A/5 21171</td>\n",
       "      <td>7.2500</td>\n",
       "      <td>NaN</td>\n",
       "      <td>S</td>\n",
       "    </tr>\n",
       "    <tr>\n",
       "      <th>1</th>\n",
       "      <td>2</td>\n",
       "      <td>1</td>\n",
       "      <td>1</td>\n",
       "      <td>Cumings, Mrs. John Bradley (Florence Briggs Th...</td>\n",
       "      <td>female</td>\n",
       "      <td>38.0</td>\n",
       "      <td>1</td>\n",
       "      <td>0</td>\n",
       "      <td>PC 17599</td>\n",
       "      <td>71.2833</td>\n",
       "      <td>C85</td>\n",
       "      <td>C</td>\n",
       "    </tr>\n",
       "    <tr>\n",
       "      <th>2</th>\n",
       "      <td>3</td>\n",
       "      <td>1</td>\n",
       "      <td>3</td>\n",
       "      <td>Heikkinen, Miss. Laina</td>\n",
       "      <td>female</td>\n",
       "      <td>26.0</td>\n",
       "      <td>0</td>\n",
       "      <td>0</td>\n",
       "      <td>STON/O2. 3101282</td>\n",
       "      <td>7.9250</td>\n",
       "      <td>NaN</td>\n",
       "      <td>S</td>\n",
       "    </tr>\n",
       "    <tr>\n",
       "      <th>3</th>\n",
       "      <td>4</td>\n",
       "      <td>1</td>\n",
       "      <td>1</td>\n",
       "      <td>Futrelle, Mrs. Jacques Heath (Lily May Peel)</td>\n",
       "      <td>female</td>\n",
       "      <td>35.0</td>\n",
       "      <td>1</td>\n",
       "      <td>0</td>\n",
       "      <td>113803</td>\n",
       "      <td>53.1000</td>\n",
       "      <td>C123</td>\n",
       "      <td>S</td>\n",
       "    </tr>\n",
       "    <tr>\n",
       "      <th>4</th>\n",
       "      <td>5</td>\n",
       "      <td>0</td>\n",
       "      <td>3</td>\n",
       "      <td>Allen, Mr. William Henry</td>\n",
       "      <td>male</td>\n",
       "      <td>35.0</td>\n",
       "      <td>0</td>\n",
       "      <td>0</td>\n",
       "      <td>373450</td>\n",
       "      <td>8.0500</td>\n",
       "      <td>NaN</td>\n",
       "      <td>S</td>\n",
       "    </tr>\n",
       "  </tbody>\n",
       "</table>\n",
       "</div>"
      ],
      "text/plain": [
       "   PassengerId  Survived  Pclass  \\\n",
       "0            1         0       3   \n",
       "1            2         1       1   \n",
       "2            3         1       3   \n",
       "3            4         1       1   \n",
       "4            5         0       3   \n",
       "\n",
       "                                                Name     Sex   Age  SibSp  \\\n",
       "0                            Braund, Mr. Owen Harris    male  22.0      1   \n",
       "1  Cumings, Mrs. John Bradley (Florence Briggs Th...  female  38.0      1   \n",
       "2                             Heikkinen, Miss. Laina  female  26.0      0   \n",
       "3       Futrelle, Mrs. Jacques Heath (Lily May Peel)  female  35.0      1   \n",
       "4                           Allen, Mr. William Henry    male  35.0      0   \n",
       "\n",
       "   Parch            Ticket     Fare Cabin Embarked  \n",
       "0      0         A/5 21171   7.2500   NaN        S  \n",
       "1      0          PC 17599  71.2833   C85        C  \n",
       "2      0  STON/O2. 3101282   7.9250   NaN        S  \n",
       "3      0            113803  53.1000  C123        S  \n",
       "4      0            373450   8.0500   NaN        S  "
      ]
     },
     "execution_count": 50,
     "metadata": {},
     "output_type": "execute_result"
    }
   ],
   "source": [
    "train.head()"
   ]
  },
  {
   "cell_type": "code",
   "execution_count": 51,
   "id": "7b7a63a7",
   "metadata": {},
   "outputs": [
    {
     "name": "stdout",
     "output_type": "stream",
     "text": [
      "<class 'pandas.core.frame.DataFrame'>\n",
      "RangeIndex: 891 entries, 0 to 890\n",
      "Data columns (total 12 columns):\n",
      " #   Column       Non-Null Count  Dtype  \n",
      "---  ------       --------------  -----  \n",
      " 0   PassengerId  891 non-null    int64  \n",
      " 1   Survived     891 non-null    int64  \n",
      " 2   Pclass       891 non-null    int64  \n",
      " 3   Name         891 non-null    object \n",
      " 4   Sex          891 non-null    object \n",
      " 5   Age          714 non-null    float64\n",
      " 6   SibSp        891 non-null    int64  \n",
      " 7   Parch        891 non-null    int64  \n",
      " 8   Ticket       891 non-null    object \n",
      " 9   Fare         891 non-null    float64\n",
      " 10  Cabin        204 non-null    object \n",
      " 11  Embarked     889 non-null    object \n",
      "dtypes: float64(2), int64(5), object(5)\n",
      "memory usage: 83.7+ KB\n",
      "None\n",
      "-----------------------------------------\n",
      "<class 'pandas.core.frame.DataFrame'>\n",
      "RangeIndex: 418 entries, 0 to 417\n",
      "Data columns (total 11 columns):\n",
      " #   Column       Non-Null Count  Dtype  \n",
      "---  ------       --------------  -----  \n",
      " 0   PassengerId  418 non-null    int64  \n",
      " 1   Pclass       418 non-null    int64  \n",
      " 2   Name         418 non-null    object \n",
      " 3   Sex          418 non-null    object \n",
      " 4   Age          332 non-null    float64\n",
      " 5   SibSp        418 non-null    int64  \n",
      " 6   Parch        418 non-null    int64  \n",
      " 7   Ticket       418 non-null    object \n",
      " 8   Fare         417 non-null    float64\n",
      " 9   Cabin        91 non-null     object \n",
      " 10  Embarked     418 non-null    object \n",
      "dtypes: float64(2), int64(4), object(5)\n",
      "memory usage: 36.0+ KB\n",
      "None\n"
     ]
    }
   ],
   "source": [
    "print(train.info())\n",
    "print(\"-----------------------------------------\")\n",
    "print(test.info())"
   ]
  },
  {
   "cell_type": "markdown",
   "id": "fb74f624",
   "metadata": {},
   "source": [
    "위 결과에서 각각의 데이터 개수는 891개, 418개인 것을 확인할 수 있다. 특성은 각각 12개 11개입니다. 그 이유는 학습 데이터는 생존 여부를 알고 있기 때문이다. 결측치도 확인 할 수 있지만 아래의 코드로 자세히 살펴보자."
   ]
  },
  {
   "cell_type": "markdown",
   "id": "180a7aba",
   "metadata": {},
   "source": [
    "- 결측치가 정확히 몇개 인지 확인해 보자"
   ]
  },
  {
   "cell_type": "code",
   "execution_count": 52,
   "id": "0427f535",
   "metadata": {},
   "outputs": [
    {
     "data": {
      "text/plain": [
       "PassengerId      0\n",
       "Survived         0\n",
       "Pclass           0\n",
       "Name             0\n",
       "Sex              0\n",
       "Age            177\n",
       "SibSp            0\n",
       "Parch            0\n",
       "Ticket           0\n",
       "Fare             0\n",
       "Cabin          687\n",
       "Embarked         2\n",
       "dtype: int64"
      ]
     },
     "execution_count": 52,
     "metadata": {},
     "output_type": "execute_result"
    }
   ],
   "source": [
    "train.isnull().sum()"
   ]
  },
  {
   "cell_type": "code",
   "execution_count": 53,
   "id": "51a83ac3",
   "metadata": {},
   "outputs": [
    {
     "data": {
      "text/plain": [
       "PassengerId      0\n",
       "Pclass           0\n",
       "Name             0\n",
       "Sex              0\n",
       "Age             86\n",
       "SibSp            0\n",
       "Parch            0\n",
       "Ticket           0\n",
       "Fare             1\n",
       "Cabin          327\n",
       "Embarked         0\n",
       "dtype: int64"
      ]
     },
     "execution_count": 53,
     "metadata": {},
     "output_type": "execute_result"
    }
   ],
   "source": [
    "test.isnull().sum()"
   ]
  },
  {
   "cell_type": "markdown",
   "id": "be4ed0d4",
   "metadata": {},
   "source": [
    "여기서 주의깊게 봐야할 부분은 다음과 같다.\n",
    "#### 결측값이 존재하는 피처를 전처리하는 방법\n",
    "\n",
    "- 결측이 존재하는 데이터들을 삭제하는 방법\n",
    "- 평균값, 혹은 중앙값이나 최빈값 등의 임의의 수치로 채워 넣는 방법\n",
    "\n"
   ]
  },
  {
   "cell_type": "markdown",
   "id": "1cd304fe",
   "metadata": {},
   "source": [
    "간단하게 변수들에 대해서 알아보자.\n",
    "\n",
    "- PassengerId : 승객 번호\n",
    "\n",
    "- Survived: 생존 여부(0은 사망, 1은 생존; train 데이터에서만 제공),( 예측하고자 하는 변수, 종속변수 이다. )\n",
    "\n",
    "- Pclass: 승선권 클래스 (1에 가까울 수록 높음)\n",
    "\n",
    "- Name: 승객이름\n",
    "\n",
    "- Sex: 승객 성별\n",
    "\n",
    "- Sibsp: 자매, 배우자와 같이 승선해있는 사람의 수를 말한다\n",
    "\n",
    "- Parch: 타이타닉에 탑승 한 부모 / 아이들의 수 (일부 어린이는 유모와 동행했기 때문에 그들은 parch = 0)\n",
    "\n",
    "- Ticket: 티켓번호\n",
    "\n",
    "- Fare: 여객 요금\n",
    "\n",
    "- Cabin: 선실 번호\n",
    "\n",
    "- Embarked: 승선한 장소를 말한다. C = Cherbourg, Q = Queenstown, S = Southampton\n",
    "\n",
    "\n",
    "Cavin, Name은 지금 당장 분석에 활용 할 수 없어 뒤쪽에서 버릴 것이다.(머신러닝에서 사용할 수 있게 숫자 변환하는 것이 까다롭기때문) Tiket은 큰 의미를 가지고 있지 않다.PassengerId은 승객의 고유번호로 의미가 없다. \n",
    "\n",
    "\n",
    "\n",
    "- 불필요한 피처 제거하기 (PassengerId, Name, Tiket, Cabin) 결과물은'PassengerId', 'Survived' 요소가 필요하므로 학습데이터에서만 삭제합니다.\n"
   ]
  },
  {
   "cell_type": "code",
   "execution_count": 54,
   "id": "217749c5",
   "metadata": {},
   "outputs": [],
   "source": [
    "#  train 데이터셋에서 'PassengerId',Name', 'Ticket' ',Cabin'피처를 제거한다.\n",
    "train = train.drop(['PassengerId','Name', 'Ticket','Cabin'], axis = 1 )\n",
    "test = test.drop(['Name', 'Ticket','Cabin'], axis= 1)"
   ]
  },
  {
   "cell_type": "code",
   "execution_count": 55,
   "id": "1de3000b",
   "metadata": {},
   "outputs": [
    {
     "data": {
      "text/html": [
       "<div>\n",
       "<style scoped>\n",
       "    .dataframe tbody tr th:only-of-type {\n",
       "        vertical-align: middle;\n",
       "    }\n",
       "\n",
       "    .dataframe tbody tr th {\n",
       "        vertical-align: top;\n",
       "    }\n",
       "\n",
       "    .dataframe thead th {\n",
       "        text-align: right;\n",
       "    }\n",
       "</style>\n",
       "<table border=\"1\" class=\"dataframe\">\n",
       "  <thead>\n",
       "    <tr style=\"text-align: right;\">\n",
       "      <th></th>\n",
       "      <th>Survived</th>\n",
       "      <th>Pclass</th>\n",
       "      <th>Sex</th>\n",
       "      <th>Age</th>\n",
       "      <th>SibSp</th>\n",
       "      <th>Parch</th>\n",
       "      <th>Fare</th>\n",
       "      <th>Embarked</th>\n",
       "    </tr>\n",
       "  </thead>\n",
       "  <tbody>\n",
       "    <tr>\n",
       "      <th>0</th>\n",
       "      <td>0</td>\n",
       "      <td>3</td>\n",
       "      <td>male</td>\n",
       "      <td>22.0</td>\n",
       "      <td>1</td>\n",
       "      <td>0</td>\n",
       "      <td>7.2500</td>\n",
       "      <td>S</td>\n",
       "    </tr>\n",
       "    <tr>\n",
       "      <th>1</th>\n",
       "      <td>1</td>\n",
       "      <td>1</td>\n",
       "      <td>female</td>\n",
       "      <td>38.0</td>\n",
       "      <td>1</td>\n",
       "      <td>0</td>\n",
       "      <td>71.2833</td>\n",
       "      <td>C</td>\n",
       "    </tr>\n",
       "    <tr>\n",
       "      <th>2</th>\n",
       "      <td>1</td>\n",
       "      <td>3</td>\n",
       "      <td>female</td>\n",
       "      <td>26.0</td>\n",
       "      <td>0</td>\n",
       "      <td>0</td>\n",
       "      <td>7.9250</td>\n",
       "      <td>S</td>\n",
       "    </tr>\n",
       "    <tr>\n",
       "      <th>3</th>\n",
       "      <td>1</td>\n",
       "      <td>1</td>\n",
       "      <td>female</td>\n",
       "      <td>35.0</td>\n",
       "      <td>1</td>\n",
       "      <td>0</td>\n",
       "      <td>53.1000</td>\n",
       "      <td>S</td>\n",
       "    </tr>\n",
       "    <tr>\n",
       "      <th>4</th>\n",
       "      <td>0</td>\n",
       "      <td>3</td>\n",
       "      <td>male</td>\n",
       "      <td>35.0</td>\n",
       "      <td>0</td>\n",
       "      <td>0</td>\n",
       "      <td>8.0500</td>\n",
       "      <td>S</td>\n",
       "    </tr>\n",
       "  </tbody>\n",
       "</table>\n",
       "</div>"
      ],
      "text/plain": [
       "   Survived  Pclass     Sex   Age  SibSp  Parch     Fare Embarked\n",
       "0         0       3    male  22.0      1      0   7.2500        S\n",
       "1         1       1  female  38.0      1      0  71.2833        C\n",
       "2         1       3  female  26.0      0      0   7.9250        S\n",
       "3         1       1  female  35.0      1      0  53.1000        S\n",
       "4         0       3    male  35.0      0      0   8.0500        S"
      ]
     },
     "execution_count": 55,
     "metadata": {},
     "output_type": "execute_result"
    }
   ],
   "source": [
    "train.head()"
   ]
  },
  {
   "cell_type": "code",
   "execution_count": 56,
   "id": "9356688d",
   "metadata": {},
   "outputs": [
    {
     "data": {
      "text/html": [
       "<div>\n",
       "<style scoped>\n",
       "    .dataframe tbody tr th:only-of-type {\n",
       "        vertical-align: middle;\n",
       "    }\n",
       "\n",
       "    .dataframe tbody tr th {\n",
       "        vertical-align: top;\n",
       "    }\n",
       "\n",
       "    .dataframe thead th {\n",
       "        text-align: right;\n",
       "    }\n",
       "</style>\n",
       "<table border=\"1\" class=\"dataframe\">\n",
       "  <thead>\n",
       "    <tr style=\"text-align: right;\">\n",
       "      <th></th>\n",
       "      <th>PassengerId</th>\n",
       "      <th>Pclass</th>\n",
       "      <th>Sex</th>\n",
       "      <th>Age</th>\n",
       "      <th>SibSp</th>\n",
       "      <th>Parch</th>\n",
       "      <th>Fare</th>\n",
       "      <th>Embarked</th>\n",
       "    </tr>\n",
       "  </thead>\n",
       "  <tbody>\n",
       "    <tr>\n",
       "      <th>0</th>\n",
       "      <td>892</td>\n",
       "      <td>3</td>\n",
       "      <td>male</td>\n",
       "      <td>34.5</td>\n",
       "      <td>0</td>\n",
       "      <td>0</td>\n",
       "      <td>7.8292</td>\n",
       "      <td>Q</td>\n",
       "    </tr>\n",
       "    <tr>\n",
       "      <th>1</th>\n",
       "      <td>893</td>\n",
       "      <td>3</td>\n",
       "      <td>female</td>\n",
       "      <td>47.0</td>\n",
       "      <td>1</td>\n",
       "      <td>0</td>\n",
       "      <td>7.0000</td>\n",
       "      <td>S</td>\n",
       "    </tr>\n",
       "    <tr>\n",
       "      <th>2</th>\n",
       "      <td>894</td>\n",
       "      <td>2</td>\n",
       "      <td>male</td>\n",
       "      <td>62.0</td>\n",
       "      <td>0</td>\n",
       "      <td>0</td>\n",
       "      <td>9.6875</td>\n",
       "      <td>Q</td>\n",
       "    </tr>\n",
       "    <tr>\n",
       "      <th>3</th>\n",
       "      <td>895</td>\n",
       "      <td>3</td>\n",
       "      <td>male</td>\n",
       "      <td>27.0</td>\n",
       "      <td>0</td>\n",
       "      <td>0</td>\n",
       "      <td>8.6625</td>\n",
       "      <td>S</td>\n",
       "    </tr>\n",
       "    <tr>\n",
       "      <th>4</th>\n",
       "      <td>896</td>\n",
       "      <td>3</td>\n",
       "      <td>female</td>\n",
       "      <td>22.0</td>\n",
       "      <td>1</td>\n",
       "      <td>1</td>\n",
       "      <td>12.2875</td>\n",
       "      <td>S</td>\n",
       "    </tr>\n",
       "  </tbody>\n",
       "</table>\n",
       "</div>"
      ],
      "text/plain": [
       "   PassengerId  Pclass     Sex   Age  SibSp  Parch     Fare Embarked\n",
       "0          892       3    male  34.5      0      0   7.8292        Q\n",
       "1          893       3  female  47.0      1      0   7.0000        S\n",
       "2          894       2    male  62.0      0      0   9.6875        Q\n",
       "3          895       3    male  27.0      0      0   8.6625        S\n",
       "4          896       3  female  22.0      1      1  12.2875        S"
      ]
     },
     "execution_count": 56,
     "metadata": {},
     "output_type": "execute_result"
    }
   ],
   "source": [
    "test.head()"
   ]
  },
  {
   "cell_type": "markdown",
   "id": "093217b8",
   "metadata": {},
   "source": [
    "다음으로 각 피처가 분류 분석에 미칠 영향에 대해 탐색해 본다. 이를 탐색하는 가장 좋은 방법은 데이터를 그룹(생존자 그룹/비생존자 그룹)으로 나누어 피처의 그룹 간 차이를 탐색하는 것이다. 생존 여부(생존=1, 아닌 경우=0)인 survived를 그룹으로 하여 pclass 피처의 그룹별 분포를 출력한 결과는 아래과 같다. seaborn의 countplot이라는 함수를 사용하면 아래와 같은 그래프를 출력 할 수 있다. 그룹 비율은 약 3:5 정도로 나타났고, 그룹별 pclass의 부포는 상이하게 나타났다. 이를 통해 pclass 피처는 생존자 분류에 유의미한 영향을 미친다는 가설을 세워 볼 수 있다.\n",
    "\n",
    "- 탐색적 데이터 분석하기 "
   ]
  },
  {
   "cell_type": "code",
   "execution_count": 57,
   "id": "d614cbc8",
   "metadata": {},
   "outputs": [
    {
     "name": "stdout",
     "output_type": "stream",
     "text": [
      "0    549\n",
      "1    342\n",
      "Name: Survived, dtype: int64\n"
     ]
    },
    {
     "data": {
      "text/plain": [
       "<AxesSubplot:>"
      ]
     },
     "execution_count": 57,
     "metadata": {},
     "output_type": "execute_result"
    },
    {
     "data": {
      "image/png": "[encoded data removed]",
      "text/plain": [
       "<Figure size 432x288 with 1 Axes>"
      ]
     },
     "metadata": {
      "needs_background": "light"
     },
     "output_type": "display_data"
    }
   ],
   "source": [
    "print(train['Survived'].value_counts())\n",
    "train['Survived'].value_counts().plot.bar()"
   ]
  },
  {
   "cell_type": "code",
   "execution_count": 58,
   "id": "e78318a9",
   "metadata": {},
   "outputs": [
    {
     "data": {
      "text/plain": [
       "3    491\n",
       "1    216\n",
       "2    184\n",
       "Name: Pclass, dtype: int64"
      ]
     },
     "execution_count": 58,
     "metadata": {},
     "output_type": "execute_result"
    }
   ],
   "source": [
    "train['Pclass'].value_counts()"
   ]
  },
  {
   "cell_type": "code",
   "execution_count": 59,
   "id": "56f59731",
   "metadata": {},
   "outputs": [
    {
     "name": "stdout",
     "output_type": "stream",
     "text": [
      "3    491\n",
      "1    216\n",
      "2    184\n",
      "Name: Pclass, dtype: int64\n"
     ]
    },
    {
     "data": {
      "image/png": "[encoded data removed]",
      "text/plain": [
       "<Figure size 432x288 with 1 Axes>"
      ]
     },
     "metadata": {
      "needs_background": "light"
     },
     "output_type": "display_data"
    }
   ],
   "source": [
    "# survived 피처를 기준으로 그룹을 나누어 그룹별 pclass 피처의 분포를 살펴보자.\n",
    "print(train['Pclass'].value_counts())\n",
    "ax = sns.countplot(x = 'Pclass', hue = 'Survived', data= train)"
   ]
  },
  {
   "cell_type": "markdown",
   "id": "355344e0",
   "metadata": {},
   "source": [
    "- Pclass가 3인 사람들의 수가 가장 많았으며, Pclass가 작을수록 (사회경제적 지위가 높을수록) 생존 비율이 높다는 것을 알 수 있다.\n"
   ]
  },
  {
   "cell_type": "code",
   "execution_count": 60,
   "id": "05ea6639",
   "metadata": {},
   "outputs": [
    {
     "name": "stdout",
     "output_type": "stream",
     "text": [
      "male      577\n",
      "female    314\n",
      "Name: Sex, dtype: int64\n"
     ]
    },
    {
     "data": {
      "image/png": "[encoded data removed]",
      "text/plain": [
       "<Figure size 432x288 with 1 Axes>"
      ]
     },
     "metadata": {
      "needs_background": "light"
     },
     "output_type": "display_data"
    }
   ],
   "source": [
    "# survived 피처를 기준으로 그룹을 나누어 그룹별 Sex 피처의 분포를 살펴보자.\n",
    "print(train['Sex'].value_counts())\n",
    "ax = sns.countplot(x='Sex', hue='Survived', data = train)"
   ]
  },
  {
   "cell_type": "markdown",
   "id": "48f74b62",
   "metadata": {},
   "source": [
    "\n",
    "- 남성보다 여성이 생존 비율이 높다는 것을 알 수 있다.  (ladies first 라는 시대적 배경에 '여자와 아이들 먼저'라는 규칙이 있었다고 한다.)\n"
   ]
  },
  {
   "cell_type": "code",
   "execution_count": 61,
   "id": "92ed4dee",
   "metadata": {},
   "outputs": [
    {
     "name": "stdout",
     "output_type": "stream",
     "text": [
      "S    644\n",
      "C    168\n",
      "Q     77\n",
      "Name: Embarked, dtype: int64\n"
     ]
    },
    {
     "data": {
      "image/png": "[encoded data removed]",
      "text/plain": [
       "<Figure size 432x288 with 1 Axes>"
      ]
     },
     "metadata": {
      "needs_background": "light"
     },
     "output_type": "display_data"
    }
   ],
   "source": [
    "# survived 피처를 기준으로 그룹을 나누어 그룹별 Embarked 피처의 분포를 살펴보자.\n",
    "print(train['Embarked'].value_counts())\n",
    "ax = sns.countplot(x='Embarked', hue='Survived', data = train)"
   ]
  },
  {
   "cell_type": "markdown",
   "id": "31cdd90f",
   "metadata": {},
   "source": [
    "- Southampton에서 선착한 사람이 가장 많았으며, Cherbourg에서 탄 사람 중에서는 생존한 사람의 비율이 높았고, 나머지 두 선착장에서 탄 사람들은 생존한 사람보다 그렇지 못한 사람이 조금 더 많은것을 확인 할 수 있다."
   ]
  },
  {
   "cell_type": "markdown",
   "id": "09d14af0",
   "metadata": {},
   "source": [
    "Pclass,Sex,Embarked는 유의미한 영향을 미치는 것을 확인 했다. \n",
    "다음으로 age, sibsp와 같은 수치형 피처들에 대한 탐색을 진행한다. 다음의 코드는 이러한 피처들을 탐색할 수 있는 자동화 함수 vaild_feature()를 작성한 것이다. 함수가 실행하는 내용은 다음과 같다.\n",
    "\n",
    "- 두 그룹 간의 분포를 비교하는 그래프를 출력한다.\n",
    "- 두 그룹 각각의 표준편차를 출력한다.\n",
    "- 두 그룹 간의 T-test 검정을 실시하여 출력한다.\n",
    "- 두 그룹 각각에 Shapiro-wilk 검정을 실시하여 출력한다."
   ]
  },
  {
   "cell_type": "code",
   "execution_count": 62,
   "id": "58e618ad",
   "metadata": {},
   "outputs": [],
   "source": [
    "# 변수 탐색 작업 자동화하기\n",
    "from scipy import stats\n",
    "\n",
    "# 두 집단의 피처를 비교해주며 탐색작업을 자동화하는 함수를 정의\n",
    "def valid_features(df, col_name, distribution_check=True):\n",
    "    \n",
    "    # 두 집단 (Survived=1, Survived=0)의 분포 그래프를 출력\n",
    "    g = sns.FacetGrid(df, col='Survived')\n",
    "    g.map(plt.hist, col_name, bins=30)\n",
    "\n",
    "    # 두 집단 (Survived=1, Survived=0)의 표준편차를 각각 출력\n",
    "    titanic_Survived = df[df['Survived']==1]\n",
    "    titanic_Survived_static = np.array(titanic_Survived[col_name])\n",
    "    print(\"data std is\", '%.2f' % np.std(titanic_Survived_static))\n",
    "    titanic_n_Survived = df[df['Survived']==0]\n",
    "    titanic_n_Survived_static = np.array(titanic_n_Survived[col_name])\n",
    "    print(\"data std is\", '%.2f' % np.std(titanic_n_Survived_static))\n",
    "    \n",
    "     # T-test로 두 집단의 평균 차이를 검정한다\n",
    "    tTestResult = stats.ttest_ind(titanic_Survived[col_name], titanic_n_Survived[col_name])\n",
    "    tTestResultDiffVar = stats.ttest_ind(titanic_Survived[col_name], titanic_n_Survived[col_name], equal_var=False)\n",
    "    print(\"The t-statistic and p-value assuming equal variances is %.3f and %.3f.\" % tTestResult)\n",
    "    print(\"The t-statistic and p-value not assuming equal variances is %.3f and %.3f\" % tTestResultDiffVar)\n",
    "    \n",
    "    if distribution_check:\n",
    "        # Shapiro-Wilk 검정 : 분포의 정규성 정도를 검증한다\n",
    "        print(\"The w-statistic and p-value in Survived %.3f and %.3f\" % stats.shapiro(titanic_Survived[col_name]))\n",
    "        print(\"The w-statistic and p-value in Non-Survived %.3f and %.3f\" % stats.shapiro(titanic_n_Survived[col_name]))"
   ]
  },
  {
   "cell_type": "markdown",
   "id": "c03b3685",
   "metadata": {},
   "source": [
    "아래의 실행 결과는 valid_features()를 실행한 것이다. 이를 통해 살펴본 피처는 Age, sibsp, Parch, Fare 피처이다."
   ]
  },
  {
   "cell_type": "code",
   "execution_count": 63,
   "id": "d510243c",
   "metadata": {},
   "outputs": [
    {
     "name": "stdout",
     "output_type": "stream",
     "text": [
      "data std is 14.93\n",
      "data std is 14.16\n",
      "The t-statistic and p-value assuming equal variances is -2.067 and 0.039.\n",
      "The t-statistic and p-value not assuming equal variances is -2.046 and 0.041\n",
      "The w-statistic and p-value in Survived 0.983 and 0.001\n",
      "The w-statistic and p-value in Non-Survived 0.969 and 0.000\n",
      "data std is 0.71\n",
      "data std is 1.29\n",
      "The t-statistic and p-value assuming equal variances is -1.054 and 0.292.\n",
      "The t-statistic and p-value not assuming equal variances is -1.194 and 0.233\n",
      "data std is 0.77\n",
      "data std is 0.82\n",
      "The t-statistic and p-value assuming equal variances is 2.442 and 0.015.\n",
      "The t-statistic and p-value not assuming equal variances is 2.479 and 0.013\n",
      "data std is 66.50\n",
      "data std is 31.36\n",
      "The t-statistic and p-value assuming equal variances is 7.939 and 0.000.\n",
      "The t-statistic and p-value not assuming equal variances is 6.839 and 0.000\n"
     ]
    },
    {
     "data": {
      "image/png": "[encoded data removed]",
      "text/plain": [
       "<Figure size 432x216 with 2 Axes>"
      ]
     },
     "metadata": {
      "needs_background": "light"
     },
     "output_type": "display_data"
    },
    {
     "data": {
      "image/png": "[encoded data removed]",
      "text/plain": [
       "<Figure size 432x216 with 2 Axes>"
      ]
     },
     "metadata": {
      "needs_background": "light"
     },
     "output_type": "display_data"
    },
    {
     "data": {
      "image/png": "[encoded data removed]",
      "text/plain": [
       "<Figure size 432x216 with 2 Axes>"
      ]
     },
     "metadata": {
      "needs_background": "light"
     },
     "output_type": "display_data"
    },
    {
     "data": {
      "image/png": "[encoded data removed]",
      "text/plain": [
       "<Figure size 432x216 with 2 Axes>"
      ]
     },
     "metadata": {
      "needs_background": "light"
     },
     "output_type": "display_data"
    }
   ],
   "source": [
    "# 앞서 정의한 valid_features 함수를 실행한다. Age 피처를 탐색한다.\n",
    "valid_features(train[train['Age']>0], 'Age', distribution_check=True)\n",
    "\n",
    "# 앞서 정의한 valid_features 함수를 실행한다.  Sibsp 피처를 탐색한다.\n",
    "valid_features(train, 'SibSp', distribution_check=False)\n",
    "\n",
    "# 앞서 정의한 valid_features 함수를 실행한다. Parch 피처를 탐색한다.\n",
    "valid_features(train, 'Parch', distribution_check=False)\n",
    "\n",
    "# 앞서 정의한 valid_features 함수를 실행한다. fare 피처를 탐색한다.\n",
    "valid_features(train, 'Fare', distribution_check=False)"
   ]
  },
  {
   "cell_type": "markdown",
   "id": "747c05dd",
   "metadata": {},
   "source": [
    "- Age특성을 보면 두 그룹 간의 평균 차이가 없기 때문에 생존자 분류에 미치는 영향력이 낮을 것이라 예상 할 수 있다. (나이가 적을 경우는 더 살펴볼 필요가 있어보인다.)\n",
    "\n",
    "- 반면 SibSp,Parch,Fare는 두 그룹 간의 평균 차이가 어느 정도 존재 한다는 것을 알 수 있다.\n",
    "\n",
    "지금까지 탐색한 데이터 특성들을 간략하게 정리해보자.\n",
    "\n",
    "- 성별은 여성이 생존자 비율이 높음 (시대적 배경)\n",
    "- Pclass가 낮을 수록 생존자 비율이 높음 (1,2등실보다 3등실의 사망률이 월등하게 높다. 3등실 선실이 구명정에서 가장 떨어져 있고 복잡하게 얽혀있는 구조인 데다가 출입이 제한된 곳이 많았기 때문에 이런 일이 생긴 것. 거기다가 외국인이 많아 영어가 통하지 않아 언어적으로도 문제가 있었다.) \n",
    "- Embarked는 Cherbourg 선착장이 생존자 비율이 높음\n",
    "- Fare이 높을 수록 생존자 비율이 높음\n",
    "- 그리고 형제, 자매, 배우자, 부모, 자녀와 함께 배에 탔다면 생존자 비율이 높음 \n",
    "\n"
   ]
  },
  {
   "cell_type": "markdown",
   "id": "27c1a000",
   "metadata": {},
   "source": [
    "### Step 2 데이터 처리하기\n",
    "\n",
    "- Pclass\n",
    "- Sex\n",
    "- Age\n",
    "- SibSp\n",
    "- Parch\n",
    "- Fare\n",
    "- Embarked\n",
    "- 나머지 피처는 위에서 제거 했었음.\n"
   ]
  },
  {
   "cell_type": "markdown",
   "id": "2c2dc489",
   "metadata": {},
   "source": [
    "#### Pclass\n",
    "Pclass는 서수형 데이터이다. (1등석, 2등석, 3등석의 정보) 처음에 확인시에 데이터가 비어있지 않은 것을 확인했었다.\n",
    "\n",
    "데이터를 변환하자. 우선 각 unique한 value에 대한 카운팅은 value_counts() 메서드로 확인할 수 있다."
   ]
  },
  {
   "cell_type": "code",
   "execution_count": 64,
   "id": "0cb08df9",
   "metadata": {},
   "outputs": [
    {
     "data": {
      "text/plain": [
       "3    491\n",
       "1    216\n",
       "2    184\n",
       "Name: Pclass, dtype: int64"
      ]
     },
     "execution_count": 64,
     "metadata": {},
     "output_type": "execute_result"
    }
   ],
   "source": [
    "train['Pclass'].value_counts()"
   ]
  },
  {
   "cell_type": "markdown",
   "id": "1eafa451",
   "metadata": {},
   "source": [
    "Pclass는 1, 2, 3 등급은 경우에 따라 다를 수 있지만 연속적인 정보가 아니며, 각 차이 또한 균등하지 않다. 그렇기에 범주형(카테고리) 데이터로 인식하고 인코딩해야합니다.\n",
    "\n",
    "이 데이터는 범주형 데이터이므로 one-hot-encoding을 pd.get_dummies() 메서드로 인코딩하자."
   ]
  },
  {
   "cell_type": "code",
   "execution_count": 65,
   "id": "00d122c8",
   "metadata": {},
   "outputs": [],
   "source": [
    "pclass_train_dummies = pd.get_dummies(train['Pclass'])\n",
    "pclass_test_dummies = pd.get_dummies(test['Pclass'])\n",
    "\n",
    "train.drop(['Pclass'], axis=1, inplace=True)\n",
    "test.drop(['Pclass'], axis=1, inplace=True)\n",
    "\n",
    "train = train.join(pclass_train_dummies)\n",
    "test = test.join(pclass_test_dummies)"
   ]
  },
  {
   "cell_type": "markdown",
   "id": "340f1629",
   "metadata": {},
   "source": [
    "- Pclass의 원본을 없애고, 범주형 데이터로 변환했다."
   ]
  },
  {
   "cell_type": "markdown",
   "id": "8641ca48",
   "metadata": {},
   "source": [
    "#### Sex\n",
    "\n",
    "Sex는 성별로 one-hot-encoding을 진행하자."
   ]
  },
  {
   "cell_type": "code",
   "execution_count": 66,
   "id": "9d0e3de9",
   "metadata": {},
   "outputs": [],
   "source": [
    "sex_train_dummies = pd.get_dummies(train['Sex'])\n",
    "sex_test_dummies = pd.get_dummies(test['Sex'])\n",
    "\n",
    "sex_train_dummies.columns = ['Female', 'Male']\n",
    "sex_test_dummies.columns = ['Female', 'Male']\n",
    "\n",
    "train.drop(['Sex'], axis=1, inplace=True)\n",
    "test.drop(['Sex'], axis=1, inplace=True)\n",
    "\n",
    "train = train.join(sex_train_dummies)\n",
    "test = test.join(sex_test_dummies)"
   ]
  },
  {
   "cell_type": "markdown",
   "id": "f573cee7",
   "metadata": {},
   "source": [
    "#### Age\n",
    "\n",
    "나이는 연속형 데이터이므로, 큰 처리가 필요없다. 하지만 결측치를 처리해야 한다. \n",
    "평균값으로 채우고자 한다. 데이터의 통일성을 가지기 위해 train 데이터셋의 평균값으로 훈련하고, 테스트 데이터셋을 채운다."
   ]
  },
  {
   "cell_type": "code",
   "execution_count": 67,
   "id": "5654ab82",
   "metadata": {},
   "outputs": [],
   "source": [
    "train[\"Age\"].fillna(train[\"Age\"].mean() , inplace=True)\n",
    "test[\"Age\"].fillna(train[\"Age\"].mean() , inplace=True)"
   ]
  },
  {
   "cell_type": "markdown",
   "id": "bee761e8",
   "metadata": {},
   "source": [
    "#### SibSp & Panch\n",
    "형제 자매와 부모님은 가족으로 함께 처리하는 방법이 있지만, 그대로 진행하는 것으로 판단했다."
   ]
  },
  {
   "cell_type": "markdown",
   "id": "ca52ddb5",
   "metadata": {},
   "source": [
    "#### Fare\n",
    "Fare은 탑승료이다. test 데이터셋에 1개의 데이터가 비어있습니다. 결측치를 처리해야 한다. 디카프리오 처럼 무단 탑승이라고 보고 진행하려한다."
   ]
  },
  {
   "cell_type": "code",
   "execution_count": 68,
   "id": "f0ffee24",
   "metadata": {},
   "outputs": [],
   "source": [
    "test[\"Fare\"].fillna(0, inplace=True)"
   ]
  },
  {
   "cell_type": "markdown",
   "id": "672046fe",
   "metadata": {},
   "source": [
    "#### Embarked\n",
    "Embarked는 탑승 항구를 의미한다. 우선 데이터를 확인해보자."
   ]
  },
  {
   "cell_type": "code",
   "execution_count": 69,
   "id": "6d3dfe12",
   "metadata": {
    "scrolled": true
   },
   "outputs": [
    {
     "data": {
      "text/plain": [
       "S    644\n",
       "C    168\n",
       "Q     77\n",
       "Name: Embarked, dtype: int64"
      ]
     },
     "execution_count": 69,
     "metadata": {},
     "output_type": "execute_result"
    }
   ],
   "source": [
    "train['Embarked'].value_counts()"
   ]
  },
  {
   "cell_type": "code",
   "execution_count": 70,
   "id": "b6297644",
   "metadata": {
    "scrolled": false
   },
   "outputs": [
    {
     "data": {
      "text/plain": [
       "S    270\n",
       "C    102\n",
       "Q     46\n",
       "Name: Embarked, dtype: int64"
      ]
     },
     "execution_count": 70,
     "metadata": {},
     "output_type": "execute_result"
    }
   ],
   "source": [
    "test['Embarked'].value_counts()"
   ]
  },
  {
   "cell_type": "markdown",
   "id": "38c32cd1",
   "metadata": {},
   "source": [
    "S가 대다수이고 결측치가 있다. 이것을 S로 채우고 시작하자."
   ]
  },
  {
   "cell_type": "code",
   "execution_count": 71,
   "id": "dfe86bde",
   "metadata": {},
   "outputs": [],
   "source": [
    "train[\"Embarked\"].fillna('S', inplace=True)\n",
    "test[\"Embarked\"].fillna('S', inplace=True)"
   ]
  },
  {
   "cell_type": "code",
   "execution_count": 72,
   "id": "564b93d7",
   "metadata": {},
   "outputs": [],
   "source": [
    "embarked_train_dummies = pd.get_dummies(train['Embarked'])\n",
    "embarked_test_dummies = pd.get_dummies(test['Embarked'])\n",
    "\n",
    "embarked_train_dummies.columns = ['S', 'C', 'Q']\n",
    "embarked_test_dummies.columns = ['S', 'C', 'Q']\n",
    "\n",
    "train.drop(['Embarked'], axis=1, inplace=True)\n",
    "test.drop(['Embarked'], axis=1, inplace=True)\n",
    "\n",
    "train = train.join(embarked_train_dummies)\n",
    "test = test.join(embarked_test_dummies)"
   ]
  },
  {
   "cell_type": "markdown",
   "id": "5d362b3b",
   "metadata": {},
   "source": [
    "### Step 3 데이터 나누기\n",
    "\n",
    "이제 학습용 데이터를 위해 데이터를 나누자\n"
   ]
  },
  {
   "cell_type": "code",
   "execution_count": 73,
   "id": "7f6128bb",
   "metadata": {},
   "outputs": [
    {
     "name": "stdout",
     "output_type": "stream",
     "text": [
      "<class 'pandas.core.frame.DataFrame'>\n",
      "RangeIndex: 891 entries, 0 to 890\n",
      "Data columns (total 13 columns):\n",
      " #   Column    Non-Null Count  Dtype  \n",
      "---  ------    --------------  -----  \n",
      " 0   Survived  891 non-null    int64  \n",
      " 1   Age       891 non-null    float64\n",
      " 2   SibSp     891 non-null    int64  \n",
      " 3   Parch     891 non-null    int64  \n",
      " 4   Fare      891 non-null    float64\n",
      " 5   1         891 non-null    uint8  \n",
      " 6   2         891 non-null    uint8  \n",
      " 7   3         891 non-null    uint8  \n",
      " 8   Female    891 non-null    uint8  \n",
      " 9   Male      891 non-null    uint8  \n",
      " 10  S         891 non-null    uint8  \n",
      " 11  C         891 non-null    uint8  \n",
      " 12  Q         891 non-null    uint8  \n",
      "dtypes: float64(2), int64(3), uint8(8)\n",
      "memory usage: 41.9 KB\n"
     ]
    }
   ],
   "source": [
    "train.info()"
   ]
  },
  {
   "cell_type": "code",
   "execution_count": 74,
   "id": "8f44b1f8",
   "metadata": {},
   "outputs": [
    {
     "name": "stdout",
     "output_type": "stream",
     "text": [
      "<class 'pandas.core.frame.DataFrame'>\n",
      "RangeIndex: 418 entries, 0 to 417\n",
      "Data columns (total 13 columns):\n",
      " #   Column       Non-Null Count  Dtype  \n",
      "---  ------       --------------  -----  \n",
      " 0   PassengerId  418 non-null    int64  \n",
      " 1   Age          418 non-null    float64\n",
      " 2   SibSp        418 non-null    int64  \n",
      " 3   Parch        418 non-null    int64  \n",
      " 4   Fare         418 non-null    float64\n",
      " 5   1            418 non-null    uint8  \n",
      " 6   2            418 non-null    uint8  \n",
      " 7   3            418 non-null    uint8  \n",
      " 8   Female       418 non-null    uint8  \n",
      " 9   Male         418 non-null    uint8  \n",
      " 10  S            418 non-null    uint8  \n",
      " 11  C            418 non-null    uint8  \n",
      " 12  Q            418 non-null    uint8  \n",
      "dtypes: float64(2), int64(3), uint8(8)\n",
      "memory usage: 19.7 KB\n"
     ]
    }
   ],
   "source": [
    "test.info()"
   ]
  },
  {
   "cell_type": "code",
   "execution_count": 75,
   "id": "4dde010a",
   "metadata": {},
   "outputs": [],
   "source": [
    "X_train = train.drop(\"Survived\",axis=1)\n",
    "Y_train = train[\"Survived\"]\n",
    "X_test  = test.drop(\"PassengerId\",axis=1).copy()"
   ]
  },
  {
   "cell_type": "markdown",
   "id": "4ed94339",
   "metadata": {},
   "source": [
    "### Step 4 머신러닝 적용하기\n"
   ]
  },
  {
   "cell_type": "code",
   "execution_count": 90,
   "id": "475694cc",
   "metadata": {},
   "outputs": [
    {
     "data": {
      "text/plain": [
       "0.8058361391694725"
      ]
     },
     "execution_count": 90,
     "metadata": {},
     "output_type": "execute_result"
    }
   ],
   "source": [
    "# Logistic Regression 사용\n",
    "\n",
    "logreg = LogisticRegression()\n",
    "logreg.fit(X_train, Y_train)\n",
    "\n",
    "Y_pred = logreg.predict(X_test)\n",
    "\n",
    "logreg.score(X_train, Y_train)\n",
    "\n"
   ]
  },
  {
   "cell_type": "code",
   "execution_count": 77,
   "id": "8795a32f",
   "metadata": {},
   "outputs": [
    {
     "data": {
      "text/plain": [
       "0.6868686868686869"
      ]
     },
     "execution_count": 77,
     "metadata": {},
     "output_type": "execute_result"
    }
   ],
   "source": [
    "# Support Vector Machines 사용\n",
    "\n",
    "svc = SVC()\n",
    "\n",
    "svc.fit(X_train, Y_train)\n",
    "\n",
    "Y_pred = svc.predict(X_test)\n",
    "\n",
    "svc.score(X_train, Y_train)"
   ]
  },
  {
   "cell_type": "code",
   "execution_count": 78,
   "id": "17e8847e",
   "metadata": {},
   "outputs": [
    {
     "data": {
      "text/plain": [
       "0.9820426487093153"
      ]
     },
     "execution_count": 78,
     "metadata": {},
     "output_type": "execute_result"
    }
   ],
   "source": [
    "# Random Forests 사용\n",
    "\n",
    "random_forest = RandomForestClassifier(n_estimators=100)\n",
    "\n",
    "random_forest.fit(X_train, Y_train)\n",
    "\n",
    "Y_pred = random_forest.predict(X_test)\n",
    "\n",
    "random_forest.score(X_train, Y_train)"
   ]
  },
  {
   "cell_type": "markdown",
   "id": "ca13fe84",
   "metadata": {},
   "source": [
    "- Random Forests 사용시, 제일 높은 값을 확인"
   ]
  },
  {
   "cell_type": "code",
   "execution_count": 79,
   "id": "8ea17cf1",
   "metadata": {},
   "outputs": [
    {
     "data": {
      "text/plain": [
       "0.835016835016835"
      ]
     },
     "execution_count": 79,
     "metadata": {},
     "output_type": "execute_result"
    }
   ],
   "source": [
    "knn = KNeighborsClassifier(n_neighbors = 3)\n",
    "\n",
    "knn.fit(X_train, Y_train)\n",
    "\n",
    "Y_pred = knn.predict(X_test)\n",
    "\n",
    "knn.score(X_train, Y_train)"
   ]
  },
  {
   "cell_type": "markdown",
   "id": "73810fca",
   "metadata": {},
   "source": [
    "- XGBoost 사용 / 21.05.15 추가 / 진행했었던 kaggle 타이타닉 에 적용해 봄. 이유는 아래와 같다.\n",
    "    - 최근에 kaggle 유저들에게 큰 인기를 끌고 있음.\n",
    "    - 요즘 현업에서 자주 사용하는 모델 중 하나가 XGBoost.\n",
    "    - 현존 머신러닝 모델중 가장 우월한 XG Boost 모델"
   ]
  },
  {
   "cell_type": "code",
   "execution_count": 80,
   "id": "a3dc3836",
   "metadata": {},
   "outputs": [],
   "source": [
    "# !pip3 install cmake"
   ]
  },
  {
   "cell_type": "code",
   "execution_count": 81,
   "id": "f8cc6e73",
   "metadata": {
    "scrolled": true
   },
   "outputs": [],
   "source": [
    "# !pip3 install xgboost"
   ]
  },
  {
   "cell_type": "code",
   "execution_count": 85,
   "id": "470b75ae",
   "metadata": {},
   "outputs": [],
   "source": [
    "import xgboost as xgb \n",
    "from xgboost import XGBClassifier"
   ]
  },
  {
   "cell_type": "code",
   "execution_count": 88,
   "id": "30222e2b",
   "metadata": {},
   "outputs": [
    {
     "name": "stdout",
     "output_type": "stream",
     "text": [
      "[08:16:46] WARNING: /tmp/pip-build-2kqwo3v0/xgboost/build/temp.linux-x86_64-3.6/xgboost/src/learner.cc:1095: Starting in XGBoost 1.3.0, the default evaluation metric used with the objective 'binary:logistic' was changed from 'error' to 'logloss'. Explicitly set eval_metric if you'd like to restore the old behavior.\n"
     ]
    },
    {
     "data": {
      "text/plain": [
       "0.9629629629629629"
      ]
     },
     "execution_count": 88,
     "metadata": {},
     "output_type": "execute_result"
    }
   ],
   "source": [
    "# Extreme Gradient Boosting (xgboost) 모델 사용\n",
    "xgb  = XGBClassifier()\n",
    "xgb.fit(X_train, Y_train)\n",
    "\n",
    "Y_pred = xgb.predict(X_test)\n",
    "\n",
    "xgb.score(X_train, Y_train)\n"
   ]
  },
  {
   "cell_type": "markdown",
   "id": "b8ca2c08",
   "metadata": {},
   "source": [
    "- 렌덤 포레스트(0.98) 보다 아주 조금 떨어지지만 XGBoost(0.96)가 나머지보다는 높은 결과가 나온 것을 확인 할 수 있었다."
   ]
  },
  {
   "cell_type": "markdown",
   "id": "33ea4d23",
   "metadata": {},
   "source": [
    "### Step 5 kaggle 제출하기\n",
    "\n",
    "랜덤 포레스트가 가장 좋은 결과를 내는 것을 알 수 있다. 그 결과로 submission 파일을 만들어 제출해보자."
   ]
  },
  {
   "cell_type": "code",
   "execution_count": 68,
   "id": "4f5c6bc5",
   "metadata": {},
   "outputs": [],
   "source": [
    "# Random Forests\n",
    "\n",
    "random_forest = RandomForestClassifier(n_estimators=100)\n",
    "random_forest.fit(X_train, Y_train)\n",
    "Y_pred = random_forest.predict(X_test)\n",
    "random_forest.score(X_train, Y_train)\n",
    "\n",
    "submission = pd.DataFrame({\n",
    "        \"PassengerId\": test[\"PassengerId\"],\n",
    "        \"Survived\": Y_pred\n",
    "    })\n",
    "submission.to_csv('titanic.csv', index=False)"
   ]
  },
  {
   "cell_type": "markdown",
   "id": "7a9cd46f",
   "metadata": {},
   "source": [
    "#### kaggle 제출 결과"
   ]
  },
  {
   "cell_type": "markdown",
   "id": "546056c1",
   "metadata": {},
   "source": [
    "<center>\n",
    "<img src=\"https://img1.daumcdn.net/thumb/R1280x0/?scode=mtistory2&fname=https%3A%2F%2Fblog.kakaocdn.net%2Fdn%2FchKLl4%2Fbtq3YK75Yy1%2F8JokU8pcmLxprcJRiTO4Ek%2Fimg.png\" width=\"800\" height=\"400\"><br>\n",
    "</center>"
   ]
  },
  {
   "cell_type": "markdown",
   "id": "febf2312",
   "metadata": {},
   "source": [
    "- 75점을 받았다."
   ]
  },
  {
   "cell_type": "markdown",
   "id": "f47fc82f",
   "metadata": {},
   "source": [
    "#### 총평\n",
    "\n",
    "모델 개선을 위한 피처엔지니어링(Feature engineering)을 제대로 하지 못해 아쉬웠다. age와 embark 피처의 결측값을 다른 방법으로도 가공해보아야 겠다.age와 embark 피처는 도메인지식과 시각화로 유의미한 데이터인것을 학습했었다. 학습에 이용된 변수들 사이에는 분명히 상관관계가 존재하는 것을 알았지만, 아직 부족한 실력으로 하지 못했다. 이번 문제에서는 데이터로 시각화를 통한 경향 파악만으로 진행하였다.\n",
    "\n",
    "- 머신러닝기법에서 xgboost를 추가해서 하나더 진행해 보았다. 나름 좋은 결과가 나온 것을 확인 했다.\n",
    "    - !pip3 install xgboost 후, 오류 코드로 고생을 했었는데, !pip3 install cmake 이것도 같이 설치를 해야 잘 설치 된다."
   ]
  }
 ],
 "metadata": {
  "kernelspec": {
   "display_name": "Python 3",
   "language": "python",
   "name": "python3"
  },
  "language_info": {
   "codemirror_mode": {
    "name": "ipython",
    "version": 3
   },
   "file_extension": ".py",
   "mimetype": "text/x-python",
   "name": "python",
   "nbconvert_exporter": "python",
   "pygments_lexer": "ipython3",
   "version": "3.6.9"
  }
 },
 "nbformat": 4,
 "nbformat_minor": 5
}
