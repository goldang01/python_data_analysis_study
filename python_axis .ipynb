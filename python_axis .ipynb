{
 "cells": [
  {
   "cell_type": "markdown",
   "id": "8a577980",
   "metadata": {},
   "source": [
    "#### 파이썬의 axis 이해\n",
    "\n",
    "초보자(입문)으로 책을 필사 하다보면 이해가 안가도 일단 쓰고보고 넘어가는 일이 많았다. 하지만 하나씩 알고 넘어가자는 취지로 만들고 시작해본다.\n",
    "\n",
    "- 참고사이트(http://machinelearningkorea.com/2019/05/18/%ED%8C%8C%EC%9D%B4%EC%8D%AC-axis-%EC%9D%B4%ED%95%B4%ED%95%98%EA%B8%B0-%EC%B9%98%ED%8A%B8%EC%BD%94%EB%93%9C/)\n",
    "\n",
    "(**타이타닉의 생존자 가려내기**를 필사하면서 부터..)\n",
    "\n",
    "\n",
    "파이썬 axis는 다른 언어에는 없는 기능으로, 대부분 행렬계산이 많이 일어나기 때문에 이를 지원한다..필요없어 보일때가 많지만, numpy행렬계산때는 유용하게 작동한다.\n",
    "\n",
    "\n",
    "\n",
    "\n",
    "판다스를 사용하다 보면 평균 계산, 데이터프레임 열이나 행 삭제 작업등을 할 때 axis(축)을 지정해야 한다. 축을 넣어야 할 때면 0을 넣어야 하는지 1을 넣어야 하는지 헷갈릴 수 있다. \n",
    " \n",
    "\n",
    "-  aixs=0(index)은 행을 따라 동작합니다. 각 컬럼의 모든 행에 대해서 작용합니다.\n",
    "\n",
    "-  aixs=1(columns)은 열을 따라 동작합니다. 각 행의 모든 컬럼에 대해서 작동합니다.\n",
    "\n",
    "\n",
    "\n",
    "axis=0은 각 열의 모든 행에 대해서 동작합니다. \n",
    "\n",
    "  - drop 각 열의 행을 지운다\n",
    "\n",
    "  - mean 각 열의 요소(행)들의 평균을 구한다.\n",
    "\n",
    "  - rank 각 열의 요소(행)들의 순위를 구한다.\n",
    "\n",
    " \n",
    "\n",
    "axis=1은 각 행의 모든 열에 대해서 동작합니다.\n",
    "\n",
    " - drop 각 행의 열을 지운다.\n",
    "\n",
    " - mean 각 행의  요소(열)들의 평균을 구한다.\n",
    "\n",
    " - rank 각 행의 요소(열)들의 순위를 구한다.\n",
    "\n",
    "\n"
   ]
  },
  {
   "cell_type": "markdown",
   "id": "9b978d49",
   "metadata": {},
   "source": [
    "2차원의 행렬이 있다고 해보자."
   ]
  },
  {
   "cell_type": "code",
   "execution_count": 3,
   "id": "23a10c56",
   "metadata": {},
   "outputs": [
    {
     "data": {
      "text/plain": [
       "array([[6, 4, 1],\n",
       "       [4, 9, 0],\n",
       "       [0, 9, 5],\n",
       "       [9, 2, 8],\n",
       "       [5, 2, 0]])"
      ]
     },
     "execution_count": 3,
     "metadata": {},
     "output_type": "execute_result"
    }
   ],
   "source": [
    "import numpy as np\n",
    "\n",
    "array = np.random.randint(10, size=(5,3)) \n",
    "array"
   ]
  },
  {
   "cell_type": "markdown",
   "id": "608e12ef",
   "metadata": {},
   "source": [
    "여기서 axis = 0은 무엇일까? 5,3 행렬에서 처음 5라고 생각하면되고, 다섯개의 원소를 죄다 더한다고 보면 된다."
   ]
  },
  {
   "cell_type": "code",
   "execution_count": 4,
   "id": "5d0211de",
   "metadata": {},
   "outputs": [
    {
     "data": {
      "text/plain": [
       "array([24, 26, 14])"
      ]
     },
     "execution_count": 4,
     "metadata": {},
     "output_type": "execute_result"
    }
   ],
   "source": [
    "np.sum(array, axis = 0)"
   ]
  },
  {
   "cell_type": "markdown",
   "id": "7741250e",
   "metadata": {},
   "source": [
    "이차원의 데이터는 이해하기 쉬운데, 삼차원의 데이터도 이해해보자."
   ]
  },
  {
   "cell_type": "code",
   "execution_count": 5,
   "id": "b35c00d8",
   "metadata": {},
   "outputs": [
    {
     "data": {
      "text/plain": [
       "array([[[0, 6],\n",
       "        [1, 7],\n",
       "        [2, 6]],\n",
       "\n",
       "       [[3, 3],\n",
       "        [5, 9],\n",
       "        [4, 4]],\n",
       "\n",
       "       [[0, 0],\n",
       "        [9, 9],\n",
       "        [0, 9]],\n",
       "\n",
       "       [[8, 9],\n",
       "        [0, 2],\n",
       "        [7, 4]],\n",
       "\n",
       "       [[1, 5],\n",
       "        [9, 1],\n",
       "        [3, 6]]])"
      ]
     },
     "execution_count": 5,
     "metadata": {},
     "output_type": "execute_result"
    }
   ],
   "source": [
    "array3 = np.random.randint(10, size=(5,3,2)) \n",
    "array3"
   ]
  },
  {
   "cell_type": "markdown",
   "id": "675283ac",
   "metadata": {},
   "source": [
    "이제, 세가지의 데이터 방향이 있다. np.sum에서 axis = 0,1,2는 차례대로 5,3,2 데이터를 하나로 합쳐준다. 합계를 구하는 간단한 np.sum은 0은 5를 없애고 3,2를 남기고, 1은 3을, 2는 2를 없애고 나머지 차원을 살린다."
   ]
  },
  {
   "cell_type": "code",
   "execution_count": 6,
   "id": "4368ba82",
   "metadata": {},
   "outputs": [
    {
     "name": "stdout",
     "output_type": "stream",
     "text": [
      "[[12 23]\n",
      " [24 28]\n",
      " [16 29]]\n",
      "\n",
      "(3, 2)\n"
     ]
    }
   ],
   "source": [
    "print(np.sum(array3, axis = 0))\n",
    "print(\"\")\n",
    "print(np.sum(array3, axis = 0).shape)"
   ]
  },
  {
   "cell_type": "code",
   "execution_count": 7,
   "id": "db85ba1e",
   "metadata": {},
   "outputs": [
    {
     "name": "stdout",
     "output_type": "stream",
     "text": [
      "[[ 3 19]\n",
      " [12 16]\n",
      " [ 9 18]\n",
      " [15 15]\n",
      " [13 12]]\n",
      "\n",
      "(5, 2)\n"
     ]
    }
   ],
   "source": [
    "print(np.sum(array3, axis = 1))\n",
    "print(\"\")\n",
    "print(np.sum(array3, axis = 1).shape)"
   ]
  },
  {
   "cell_type": "code",
   "execution_count": 8,
   "id": "1d2c5967",
   "metadata": {},
   "outputs": [
    {
     "name": "stdout",
     "output_type": "stream",
     "text": [
      "[[ 6  8  8]\n",
      " [ 6 14  8]\n",
      " [ 0 18  9]\n",
      " [17  2 11]\n",
      " [ 6 10  9]]\n",
      "\n",
      "(5, 3)\n"
     ]
    }
   ],
   "source": [
    "print(np.sum(array3, axis = 2))\n",
    "print(\"\")\n",
    "print(np.sum(array3, axis = 2).shape)\n"
   ]
  },
  {
   "cell_type": "code",
   "execution_count": null,
   "id": "8447d80d",
   "metadata": {},
   "outputs": [],
   "source": []
  }
 ],
 "metadata": {
  "kernelspec": {
   "display_name": "Python 3",
   "language": "python",
   "name": "python3"
  },
  "language_info": {
   "codemirror_mode": {
    "name": "ipython",
    "version": 3
   },
   "file_extension": ".py",
   "mimetype": "text/x-python",
   "name": "python",
   "nbconvert_exporter": "python",
   "pygments_lexer": "ipython3",
   "version": "3.6.9"
  }
 },
 "nbformat": 4,
 "nbformat_minor": 5
}
