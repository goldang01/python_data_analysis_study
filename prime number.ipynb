{
 "cells": [
  {
   "cell_type": "markdown",
   "id": "6d72f377",
   "metadata": {},
   "source": [
    "### 소수 구하기\n",
    "\n",
    "- 소수랑 1과 자신만을 약수로 가지는 수 이다.\n",
    "- 소수는 컴퓨터로 자료를 암호화할때 사용된다.\n",
    "\n",
    "우리가 17이 소수인지 판별하기 위해 가장 쉬운 방법으로는\n",
    "\n",
    "2,3,4,~16까지 나누어 지는지 확인하면 된다.\n",
    "\n",
    "즉 나머지가 0인지 여부를 판별하면 된다.\n",
    "\n",
    "이를 코딩으로 구현해보자.\n",
    "\n",
    "#### [1]소수이면 'x는 소수이다', 아니면 'x는 소수가 아니다'를 출력하면서 해보자.\n",
    "- 우선 소수의 판별: 기본적인 알고리즘을 보자. (Python)\n",
    "- 소수의 개념을 이해하면서, 간단한 코딩을 만들어보자.\n",
    "- 3은 소수 인가? 아닌가? 소수이다."
   ]
  },
  {
   "cell_type": "code",
   "execution_count": 121,
   "id": "49c1d34e",
   "metadata": {
    "scrolled": true
   },
   "outputs": [
    {
     "name": "stdout",
     "output_type": "stream",
     "text": [
      "3는 소수이다.\n"
     ]
    }
   ],
   "source": [
    "x = 3\n",
    "x_prime = True                  # True는 '참'이라는 의미이며 초기값을 참으로 정의\n",
    "for i in range(2,x):            # 2부터 자기자신 -1까지의 수에대해\n",
    "    if x % i == 0:              # x를 i로 나눈 나머지가 0이면, \n",
    "        x_prime = False         # x_prime을 '거짓'의 의미인 False로 바꾸어라\n",
    "\n",
    "if x_prime == True:\n",
    "    print ('{}는 소수이다.'.format(x))  # 소수이다를 출력하라\n",
    "else:\n",
    "    print ('{}는 소수가 아니다.'.format(x))\n"
   ]
  },
  {
   "cell_type": "markdown",
   "id": "284e0419",
   "metadata": {},
   "source": [
    "- 위 코드를 응용해서 코딩함수의 결과값으로 소수이면 'True', 거짓이면 'False'를 리턴하게 만들어보자."
   ]
  },
  {
   "cell_type": "code",
   "execution_count": 122,
   "id": "8e3f9987",
   "metadata": {},
   "outputs": [],
   "source": [
    "def is_prime(x):\n",
    "    a = range(2, x)  #2부터 x-1까지의 list\n",
    "    b = 0\n",
    "    for i in a:    \n",
    "        if x % i == 0:  \n",
    "            b += 1   \n",
    "    if b > 0:\n",
    "        print ('{}는 소수가 아니다.'.format(x))\n",
    "        c = False   \n",
    "    else:\n",
    "        print ('{}는 소수이다.'.format(x))      \n",
    "        c = True\n",
    "    return c"
   ]
  },
  {
   "cell_type": "code",
   "execution_count": 123,
   "id": "94c71f28",
   "metadata": {},
   "outputs": [
    {
     "name": "stdout",
     "output_type": "stream",
     "text": [
      "3는 소수이다.\n"
     ]
    },
    {
     "data": {
      "text/plain": [
       "True"
      ]
     },
     "execution_count": 123,
     "metadata": {},
     "output_type": "execute_result"
    }
   ],
   "source": [
    "is_prime(3)"
   ]
  },
  {
   "cell_type": "code",
   "execution_count": 124,
   "id": "4cff5b57",
   "metadata": {},
   "outputs": [
    {
     "name": "stdout",
     "output_type": "stream",
     "text": [
      "27는 소수가 아니다.\n"
     ]
    },
    {
     "data": {
      "text/plain": [
       "False"
      ]
     },
     "execution_count": 124,
     "metadata": {},
     "output_type": "execute_result"
    }
   ],
   "source": [
    "is_prime(27)"
   ]
  },
  {
   "cell_type": "code",
   "execution_count": 125,
   "id": "6a0be45e",
   "metadata": {},
   "outputs": [
    {
     "name": "stdout",
     "output_type": "stream",
     "text": [
      "516는 소수가 아니다.\n"
     ]
    },
    {
     "data": {
      "text/plain": [
       "False"
      ]
     },
     "execution_count": 125,
     "metadata": {},
     "output_type": "execute_result"
    }
   ],
   "source": [
    "is_prime(516)"
   ]
  },
  {
   "cell_type": "markdown",
   "id": "dba0be8b",
   "metadata": {},
   "source": [
    "#### [2]이제 2부터 100 사이의 모든 소수 구하기를 해보자.\n",
    "- 소수란 1과 자신만을 소수로 가지는 수 를 이용하여 코딩\n",
    "#### ex) 1"
   ]
  },
  {
   "cell_type": "code",
   "execution_count": 126,
   "id": "a5d96267",
   "metadata": {},
   "outputs": [
    {
     "name": "stdout",
     "output_type": "stream",
     "text": [
      "2의 약수가 2개이므로 \"소수\"입니다.\n",
      "3의 약수가 2개이므로 \"소수\"입니다.\n",
      "5의 약수가 2개이므로 \"소수\"입니다.\n",
      "7의 약수가 2개이므로 \"소수\"입니다.\n",
      "11의 약수가 2개이므로 \"소수\"입니다.\n",
      "13의 약수가 2개이므로 \"소수\"입니다.\n",
      "17의 약수가 2개이므로 \"소수\"입니다.\n",
      "19의 약수가 2개이므로 \"소수\"입니다.\n",
      "23의 약수가 2개이므로 \"소수\"입니다.\n",
      "29의 약수가 2개이므로 \"소수\"입니다.\n",
      "31의 약수가 2개이므로 \"소수\"입니다.\n",
      "37의 약수가 2개이므로 \"소수\"입니다.\n",
      "41의 약수가 2개이므로 \"소수\"입니다.\n",
      "43의 약수가 2개이므로 \"소수\"입니다.\n",
      "47의 약수가 2개이므로 \"소수\"입니다.\n",
      "53의 약수가 2개이므로 \"소수\"입니다.\n",
      "59의 약수가 2개이므로 \"소수\"입니다.\n",
      "61의 약수가 2개이므로 \"소수\"입니다.\n",
      "67의 약수가 2개이므로 \"소수\"입니다.\n",
      "71의 약수가 2개이므로 \"소수\"입니다.\n",
      "73의 약수가 2개이므로 \"소수\"입니다.\n",
      "79의 약수가 2개이므로 \"소수\"입니다.\n",
      "83의 약수가 2개이므로 \"소수\"입니다.\n",
      "89의 약수가 2개이므로 \"소수\"입니다.\n",
      "97의 약수가 2개이므로 \"소수\"입니다.\n"
     ]
    }
   ],
   "source": [
    "# 2~100 사이의 모든 소수 구하기 \n",
    "num = 2\n",
    "while num <= 100:\n",
    "    count = 0  # 약수의 개수를 세어줄 변수\n",
    "    i = 1  # 1~num까지 증가할 변수\n",
    "    while i <= num:\n",
    "        if num % i == 0:  # 나누어지면 약수\n",
    "            count += 1\n",
    "        i += 1  # 1증가\n",
    "    if count == 2:  # 약수의 개수가 2개면 출력\n",
    "        print('{0}의 약수가 {1}개이므로 \"소수\"입니다.'.format(num, count))\n",
    "\n",
    "    num += 1  # 100까지 증가"
   ]
  },
  {
   "cell_type": "markdown",
   "id": "f47e3734",
   "metadata": {},
   "source": [
    "- 임의의 수를 2부터 나누어질 때까지 반복하고, 나누어 졌을때 자기 자신이면 중간에 약수가 없는것. (즉 소수이다.) \n",
    "#### ex) 2"
   ]
  },
  {
   "cell_type": "code",
   "execution_count": 127,
   "id": "331faa6e",
   "metadata": {
    "scrolled": true
   },
   "outputs": [
    {
     "name": "stdout",
     "output_type": "stream",
     "text": [
      "    2    3    5    7   11   13   17   19   23   29\n",
      "   31   37   41   43   47   53   59   61   67   71\n",
      "   73   79   83   89   97"
     ]
    }
   ],
   "source": [
    "# 2~100 사이의 모든 소수 구하기 \n",
    "num = 2\n",
    "count = 0  # 소수의 개수를 세어줄 변수\n",
    "while num <= 100:\n",
    "    i = 2  # 2 ~ num 까지 증가할 변수\n",
    "    while num % i:  # 나누어질 떄까지 반복\n",
    "        i += 1      # 1증가\n",
    "\n",
    "    if i == num:  # 나누어진 수가 자기 자신이면 소수\n",
    "        print('{0:5}'.format(num), end='')\n",
    "        count += 1\n",
    "        if not count % 10:  # 개수가 10의 배수면 줄바꿈\n",
    "            print()\n",
    "    num += 1  # 100까지 증가"
   ]
  },
  {
   "cell_type": "markdown",
   "id": "540a8f43",
   "metadata": {},
   "source": [
    "#### [3]마지막으로는 알고리즘을 개선하는 과정\n",
    "\n",
    "#### ex) 개선 전 "
   ]
  },
  {
   "cell_type": "code",
   "execution_count": 128,
   "id": "d2a3136b",
   "metadata": {},
   "outputs": [],
   "source": [
    "# 소수 판별 함수(2이상의 자연수에)\n",
    "def is_prime_number(x):\n",
    "    # 2부터 (x - 1)까지의 모든 수를 확인\n",
    "    for i in range(2, x):\n",
    "        # x가 해당 수로 나누어떨어진다면\n",
    "        if x % i == 0:\n",
    "            return False # 소수가 아님\n",
    "    return True # 소수임"
   ]
  },
  {
   "cell_type": "code",
   "execution_count": 129,
   "id": "a3c9a92a",
   "metadata": {},
   "outputs": [
    {
     "name": "stdout",
     "output_type": "stream",
     "text": [
      "False\n"
     ]
    }
   ],
   "source": [
    "print(is_prime_number(6)) # 6는 소수가 아님"
   ]
  },
  {
   "cell_type": "code",
   "execution_count": 130,
   "id": "9035234c",
   "metadata": {},
   "outputs": [
    {
     "name": "stdout",
     "output_type": "stream",
     "text": [
      "True\n"
     ]
    }
   ],
   "source": [
    "print(is_prime_number(3)) # 3은 소수"
   ]
  },
  {
   "cell_type": "markdown",
   "id": "6c417ccc",
   "metadata": {},
   "source": [
    "#### 소수의 판별을 보니, 알고리즘의 성능도 같이 나온다. (계산하는데 알고리즘이 걸리는 시간) 개선해보자.\n",
    "- 2부터 𝑋의 제곱근(소수점 이하 무시)까지의 모든 자연수에 대하여 연산 수행\n",
    "\n",
    "#### ex) 개선 후"
   ]
  },
  {
   "cell_type": "code",
   "execution_count": 131,
   "id": "e2686821",
   "metadata": {},
   "outputs": [],
   "source": [
    "import math\n",
    "\n",
    "# 소수 판별 함수\n",
    "def is_prime_number(x):\n",
    "    # 2부터 x의 제곱근까지의 모든 수를 확인\n",
    "    for i in range(2, int(math.sqrt(x)) + 1):\n",
    "        # x가 해당 수로 나누어떨어진다면\n",
    "        if x % i == 0:\n",
    "            return False # 소수가 아님\n",
    "    return True # 소수임"
   ]
  },
  {
   "cell_type": "code",
   "execution_count": 132,
   "id": "5553bf0d",
   "metadata": {},
   "outputs": [
    {
     "name": "stdout",
     "output_type": "stream",
     "text": [
      "False\n"
     ]
    }
   ],
   "source": [
    "print(is_prime_number(6)) # 6는 소수가 아님"
   ]
  },
  {
   "cell_type": "code",
   "execution_count": 133,
   "id": "8d568177",
   "metadata": {},
   "outputs": [
    {
     "name": "stdout",
     "output_type": "stream",
     "text": [
      "True\n"
     ]
    }
   ],
   "source": [
    "print(is_prime_number(3)) # 3은 소수"
   ]
  },
  {
   "cell_type": "markdown",
   "id": "4d56363c",
   "metadata": {},
   "source": [
    "- Reference: \n",
    "    - [프리라이프의 기술 블로그](https://freedeveloper.tistory.com/391)\n",
    "    - [중학 수학 코딩의 정석 ](https://wikidocs.net/22859)\n",
    "    - [WikiDocs](https://wikidocs.net/20770)"
   ]
  }
 ],
 "metadata": {
  "kernelspec": {
   "display_name": "Python 3",
   "language": "python",
   "name": "python3"
  },
  "language_info": {
   "codemirror_mode": {
    "name": "ipython",
    "version": 3
   },
   "file_extension": ".py",
   "mimetype": "text/x-python",
   "name": "python",
   "nbconvert_exporter": "python",
   "pygments_lexer": "ipython3",
   "version": "3.6.9"
  }
 },
 "nbformat": 4,
 "nbformat_minor": 5
}
