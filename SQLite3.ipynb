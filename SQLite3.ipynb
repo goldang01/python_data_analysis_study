{
 "cells": [
  {
   "cell_type": "markdown",
   "id": "5d2d9e71",
   "metadata": {},
   "source": [
    "#### SQLite3  - DB의 가장 기초적인 단계\n",
    "\n",
    "이항의 주가데이터를 매일 수집하기 위한 프로젝트를 위해 세번째 블로깅을 한다.\n",
    "\n",
    "\n",
    "\n",
    "우선, SQLite3을 알아보려한다.\n",
    "\n",
    "\n",
    "\n",
    "\n",
    "\n",
    "DB의 가장 기초적인 단계를 시작하려고 한다. \n",
    "\n",
    "SQLite는 다른 여러종류의 DB에 비해 가볍고 설치도 쉽고 무료이기 때문에 접근성도 좋고 DB의개념을 알아가는데 도움이 될 수 있다.별도의 서버 프로세스가 필요 없다. 또한, SQL 질의 언어의 비표준 변형을 사용하여 데이터베이스에 엑세스할 수 있는 경량 디스크 기반 데이터베이스를 제공하는 C라이브러리이다. 데이터 베이스는 .db 확장자를 가지는 단일 파일로 저장한다.\n",
    "\n",
    "\n",
    "\n",
    "\n",
    "\n",
    "SQLite는 무엇인지, 위키백과에서는 아래와 같이 설명해준다.\n",
    "\n",
    "\n",
    "\n",
    "\n",
    "\n",
    "SQLite는 MySQL나 PostgreSQL와 같은 데이터베이스 관리 시스템이지만, 서버가 아니라 응용 프로그램에 넣어 사용하는 비교적 가벼운 데이터베이스이다. \n",
    "\n",
    "일반적인 RDBMS에 비해 대규모 작업에는 적합하지 않지만, 중소 규모라면 속도에 손색이 없다. 또 API는 단순히 라이브러리를 호출하는 것만 있으며, 데이터를 저장하는 데 하나의 파일만을 사용하는 것이 특징이다. 버전 3.3.8에서는 풀텍스트 검색 기능을 가진 FTS1 모듈이 지원된다. 컬럼을 삭제하거나 변경하는 것 등이 제한된다.\n",
    "\n",
    "구글 안드로이드 운영 체제에 기본 탑재된 데이터베이스이기도 하다.\n",
    "\n",
    "- 출처:[위키백과](https://ko.wikipedia.org/wiki/SQLite)\n",
    "\n",
    "\n",
    "\n",
    "\n",
    "\n",
    "요약 :\n",
    "- 데이터 베이스는 .db 확장자를 가지는 단일 파일로 저장 됨.\n",
    "- SQLite란 핸드폰 수준에서 사용할 수 있는 간단한 데이터베이스다.\n",
    "\n",
    "- 이 DB에 데이터를 저장하고 조회하는 등의 작업을 하려면 SQL문(쿼리문)이라는 문법 익히고,\n",
    "\n",
    "- SQLiteDatabase라는 클래스의 객체를 얻어야 사용이 가능하다."
   ]
  },
  {
   "cell_type": "markdown",
   "id": "17a12ad5",
   "metadata": {},
   "source": [
    "### 예제로 시작하기\n",
    "\n",
    "\n",
    "#### 사용 예제 \n",
    "##### 1) employee.db\n",
    "\n",
    "- 먼저 sqlite3 불러오기"
   ]
  },
  {
   "cell_type": "code",
   "execution_count": 2,
   "id": "b42d49dc",
   "metadata": {},
   "outputs": [],
   "source": [
    "import sqlite3"
   ]
  },
  {
   "cell_type": "code",
   "execution_count": 3,
   "id": "9b13042f",
   "metadata": {
    "scrolled": true
   },
   "outputs": [
    {
     "data": {
      "text/plain": [
       "<sqlite3.Connection at 0x7fb00c74cab0>"
      ]
     },
     "execution_count": 3,
     "metadata": {},
     "output_type": "execute_result"
    }
   ],
   "source": [
    "sqlite3.connect(\"employee.db\")"
   ]
  },
  {
   "cell_type": "code",
   "execution_count": 4,
   "id": "f8be7a0f",
   "metadata": {},
   "outputs": [],
   "source": [
    "# 해당 empolyee.db로 연결한다.\n",
    "conn = sqlite3.connect(\"employee.db\") \n",
    "\n",
    "\n",
    "# conn.cursor를 통해 Cursor 하나를 생성한다.\n",
    "cur = conn.cursor() \n",
    "\n",
    "\n",
    "# conn.executemany를 통해 데이터를 insert 한다.\n",
    "cur.executemany( 'INSERT INTO employee_data VALUES (?, ?, ?, ?, ?)', \n",
    "                [(1001, 'Donghyun', 'SOMJANG', 'Development', '2020-04-01 00:00:00.000'), \n",
    "                 (2001, 'Sol', 'Fairy', 'Marketing', '2020-04-01 00:00:00.000'), \n",
    "                 (2002, 'Jiyoung', 'Magician', 'Marketing', '2020-04-01 00:00:00.000'), \n",
    "                 (1002, 'Hyeona', 'Theif', 'Development', '2020-04-01 00:00:00.000'), \n",
    "                 (1003, 'Soyoung', 'Chief', 'Development', '2020-04-01 00:00:00.000') ] )\n",
    "\n",
    "# conn.close를 통해 연결을 해제한다.\n",
    "conn.commit()\n",
    "conn.close()"
   ]
  },
  {
   "cell_type": "markdown",
   "id": "6201ad21",
   "metadata": {},
   "source": [
    "#### 데이터 가져와서 출력하기"
   ]
  },
  {
   "cell_type": "code",
   "execution_count": 5,
   "id": "7ba0676b",
   "metadata": {},
   "outputs": [
    {
     "name": "stdout",
     "output_type": "stream",
     "text": [
      "(1001, 'Donghyun', 'SOMJANG', 'Development', '2020-04-01 00:00:00.000')\n",
      "(2001, 'Sol', 'Fairy', 'Marketing', '2020-04-01 00:00:00.000')\n",
      "(2002, 'Jiyoung', 'Magician', 'Marketing', '2020-04-01 00:00:00.000')\n",
      "(1002, 'Hyeona', 'Theif', 'Development', '2020-04-01 00:00:00.000')\n",
      "(1003, 'Soyoung', 'Chief', 'Development', '2020-04-01 00:00:00.000')\n",
      "(1001, 'Donghyun', 'SOMJANG', 'Development', '2020-04-01 00:00:00.000')\n",
      "(2001, 'Sol', 'Fairy', 'Marketing', '2020-04-01 00:00:00.000')\n",
      "(2002, 'Jiyoung', 'Magician', 'Marketing', '2020-04-01 00:00:00.000')\n",
      "(1002, 'Hyeona', 'Theif', 'Development', '2020-04-01 00:00:00.000')\n",
      "(1003, 'Soyoung', 'Chief', 'Development', '2020-04-01 00:00:00.000')\n",
      "(1001, 'Donghyun', 'SOMJANG', 'Development', '2020-04-01 00:00:00.000')\n",
      "(2001, 'Sol', 'Fairy', 'Marketing', '2020-04-01 00:00:00.000')\n",
      "(2002, 'Jiyoung', 'Magician', 'Marketing', '2020-04-01 00:00:00.000')\n",
      "(1002, 'Hyeona', 'Theif', 'Development', '2020-04-01 00:00:00.000')\n",
      "(1003, 'Soyoung', 'Chief', 'Development', '2020-04-01 00:00:00.000')\n",
      "(1001, 'Donghyun', 'SOMJANG', 'Development', '2020-04-01 00:00:00.000')\n",
      "(2001, 'Sol', 'Fairy', 'Marketing', '2020-04-01 00:00:00.000')\n",
      "(2002, 'Jiyoung', 'Magician', 'Marketing', '2020-04-01 00:00:00.000')\n",
      "(1002, 'Hyeona', 'Theif', 'Development', '2020-04-01 00:00:00.000')\n",
      "(1003, 'Soyoung', 'Chief', 'Development', '2020-04-01 00:00:00.000')\n",
      "(1001, 'Donghyun', 'SOMJANG', 'Development', '2020-04-01 00:00:00.000')\n",
      "(2001, 'Sol', 'Fairy', 'Marketing', '2020-04-01 00:00:00.000')\n",
      "(2002, 'Jiyoung', 'Magician', 'Marketing', '2020-04-01 00:00:00.000')\n",
      "(1002, 'Hyeona', 'Theif', 'Development', '2020-04-01 00:00:00.000')\n",
      "(1003, 'Soyoung', 'Chief', 'Development', '2020-04-01 00:00:00.000')\n",
      "(1001, 'Donghyun', 'SOMJANG', 'Development', '2020-04-01 00:00:00.000')\n",
      "(2001, 'Sol', 'Fairy', 'Marketing', '2020-04-01 00:00:00.000')\n",
      "(2002, 'Jiyoung', 'Magician', 'Marketing', '2020-04-01 00:00:00.000')\n",
      "(1002, 'Hyeona', 'Theif', 'Development', '2020-04-01 00:00:00.000')\n",
      "(1003, 'Soyoung', 'Chief', 'Development', '2020-04-01 00:00:00.000')\n",
      "(1001, 'Donghyun', 'SOMJANG', 'Development', '2020-04-01 00:00:00.000')\n",
      "(2001, 'Sol', 'Fairy', 'Marketing', '2020-04-01 00:00:00.000')\n",
      "(2002, 'Jiyoung', 'Magician', 'Marketing', '2020-04-01 00:00:00.000')\n",
      "(1002, 'Hyeona', 'Theif', 'Development', '2020-04-01 00:00:00.000')\n",
      "(1003, 'Soyoung', 'Chief', 'Development', '2020-04-01 00:00:00.000')\n",
      "(1001, 'Donghyun', 'SOMJANG', 'Development', '2020-04-01 00:00:00.000')\n",
      "(2001, 'Sol', 'Fairy', 'Marketing', '2020-04-01 00:00:00.000')\n",
      "(2002, 'Jiyoung', 'Magician', 'Marketing', '2020-04-01 00:00:00.000')\n",
      "(1002, 'Hyeona', 'Theif', 'Development', '2020-04-01 00:00:00.000')\n",
      "(1003, 'Soyoung', 'Chief', 'Development', '2020-04-01 00:00:00.000')\n"
     ]
    }
   ],
   "source": [
    "# 만약 employee.db가 없을 경우 새로 생성하면서 연결하게되고 employee.db가 이미 있을 경우 해당 db로 연결하게 된다.\n",
    "conn = sqlite3.connect(\"employee.db\")\n",
    "\n",
    "# cursor 하나를 생성한다.\n",
    "cur = conn.cursor()\n",
    "\n",
    "# cur.execute를 통해 SELECT 쿼리를 실행한다.\n",
    "cur.execute(\"SELECT * FROM employee_data\")\n",
    "\n",
    "# cur.execute를 통해 가져온 모든 결과의 행을 가져와 리스트로 가져온다.\n",
    "rows = cur.fetchall()\n",
    "\n",
    "# 가져온 데이터를 반복문을 통해 하나의 row씩 출력한다.\n",
    "for row in rows: \n",
    "    print(row)\n",
    "    \n",
    "# 연결을 해제한다.\n",
    "conn.close()"
   ]
  },
  {
   "cell_type": "markdown",
   "id": "438bd9c1",
   "metadata": {},
   "source": [
    "여기서 원하는 값만 골라 출력하려면 cur.excute(\"SELET * FROM employee_data\") 안에 들어가는 쿼리만 변경하여 사용하면 된다.\n",
    "- 예를 들어보자. 'employeed_data 테이블에서 id가 2000보다 큰 사람의 이름과 부서만 가져오기'"
   ]
  },
  {
   "cell_type": "code",
   "execution_count": 6,
   "id": "a25f328b",
   "metadata": {},
   "outputs": [
    {
     "name": "stdout",
     "output_type": "stream",
     "text": [
      "('Sol', 'Marketing')\n",
      "('Jiyoung', 'Marketing')\n",
      "('Sol', 'Marketing')\n",
      "('Jiyoung', 'Marketing')\n",
      "('Sol', 'Marketing')\n",
      "('Jiyoung', 'Marketing')\n",
      "('Sol', 'Marketing')\n",
      "('Jiyoung', 'Marketing')\n",
      "('Sol', 'Marketing')\n",
      "('Jiyoung', 'Marketing')\n",
      "('Sol', 'Marketing')\n",
      "('Jiyoung', 'Marketing')\n",
      "('Sol', 'Marketing')\n",
      "('Jiyoung', 'Marketing')\n",
      "('Sol', 'Marketing')\n",
      "('Jiyoung', 'Marketing')\n"
     ]
    }
   ],
   "source": [
    "conn = sqlite3.connect(\"employee.db\")\n",
    "cur = conn.cursor()\n",
    "cur.execute(\"SELECT name, department FROM employee_data WHERE employee_data.id > 2000\")\n",
    "rows = cur.fetchall()\n",
    "for row in rows: \n",
    "    print(row)"
   ]
  },
  {
   "cell_type": "markdown",
   "id": "626e1469",
   "metadata": {},
   "source": [
    "- 예를들어보자. 'employeed_data 테이블에서 이름이 Donghyun인 사람의 닉네임만 가져오기'"
   ]
  },
  {
   "cell_type": "code",
   "execution_count": 7,
   "id": "85d84d5b",
   "metadata": {},
   "outputs": [
    {
     "name": "stdout",
     "output_type": "stream",
     "text": [
      "('SOMJANG',)\n",
      "('SOMJANG',)\n",
      "('SOMJANG',)\n",
      "('SOMJANG',)\n",
      "('SOMJANG',)\n",
      "('SOMJANG',)\n",
      "('SOMJANG',)\n",
      "('SOMJANG',)\n"
     ]
    }
   ],
   "source": [
    "conn = sqlite3.connect(\"employee.db\")\n",
    "cur = conn.cursor()\n",
    "cur.execute(\"SELECT nickname FROM employee_data WHERE employee_data.name == 'Donghyun'\")\n",
    "rows = cur.fetchall()\n",
    "for row in rows: \n",
    "    print(row)"
   ]
  },
  {
   "cell_type": "markdown",
   "id": "ef2b0b74",
   "metadata": {},
   "source": [
    "#### 모든 데이터를 가져와서 DataFrame 형태로 출력하기"
   ]
  },
  {
   "cell_type": "code",
   "execution_count": 8,
   "id": "45b73ba1",
   "metadata": {},
   "outputs": [
    {
     "data": {
      "text/html": [
       "<div>\n",
       "<style scoped>\n",
       "    .dataframe tbody tr th:only-of-type {\n",
       "        vertical-align: middle;\n",
       "    }\n",
       "\n",
       "    .dataframe tbody tr th {\n",
       "        vertical-align: top;\n",
       "    }\n",
       "\n",
       "    .dataframe thead th {\n",
       "        text-align: right;\n",
       "    }\n",
       "</style>\n",
       "<table border=\"1\" class=\"dataframe\">\n",
       "  <thead>\n",
       "    <tr style=\"text-align: right;\">\n",
       "      <th></th>\n",
       "      <th>id</th>\n",
       "      <th>name</th>\n",
       "      <th>nickname</th>\n",
       "      <th>department</th>\n",
       "      <th>employment_date</th>\n",
       "    </tr>\n",
       "  </thead>\n",
       "  <tbody>\n",
       "    <tr>\n",
       "      <th>0</th>\n",
       "      <td>1001</td>\n",
       "      <td>Donghyun</td>\n",
       "      <td>SOMJANG</td>\n",
       "      <td>Development</td>\n",
       "      <td>2020-04-01 00:00:00.000</td>\n",
       "    </tr>\n",
       "    <tr>\n",
       "      <th>1</th>\n",
       "      <td>2001</td>\n",
       "      <td>Sol</td>\n",
       "      <td>Fairy</td>\n",
       "      <td>Marketing</td>\n",
       "      <td>2020-04-01 00:00:00.000</td>\n",
       "    </tr>\n",
       "    <tr>\n",
       "      <th>2</th>\n",
       "      <td>2002</td>\n",
       "      <td>Jiyoung</td>\n",
       "      <td>Magician</td>\n",
       "      <td>Marketing</td>\n",
       "      <td>2020-04-01 00:00:00.000</td>\n",
       "    </tr>\n",
       "    <tr>\n",
       "      <th>3</th>\n",
       "      <td>1002</td>\n",
       "      <td>Hyeona</td>\n",
       "      <td>Theif</td>\n",
       "      <td>Development</td>\n",
       "      <td>2020-04-01 00:00:00.000</td>\n",
       "    </tr>\n",
       "    <tr>\n",
       "      <th>4</th>\n",
       "      <td>1003</td>\n",
       "      <td>Soyoung</td>\n",
       "      <td>Chief</td>\n",
       "      <td>Development</td>\n",
       "      <td>2020-04-01 00:00:00.000</td>\n",
       "    </tr>\n",
       "    <tr>\n",
       "      <th>5</th>\n",
       "      <td>1001</td>\n",
       "      <td>Donghyun</td>\n",
       "      <td>SOMJANG</td>\n",
       "      <td>Development</td>\n",
       "      <td>2020-04-01 00:00:00.000</td>\n",
       "    </tr>\n",
       "    <tr>\n",
       "      <th>6</th>\n",
       "      <td>2001</td>\n",
       "      <td>Sol</td>\n",
       "      <td>Fairy</td>\n",
       "      <td>Marketing</td>\n",
       "      <td>2020-04-01 00:00:00.000</td>\n",
       "    </tr>\n",
       "    <tr>\n",
       "      <th>7</th>\n",
       "      <td>2002</td>\n",
       "      <td>Jiyoung</td>\n",
       "      <td>Magician</td>\n",
       "      <td>Marketing</td>\n",
       "      <td>2020-04-01 00:00:00.000</td>\n",
       "    </tr>\n",
       "    <tr>\n",
       "      <th>8</th>\n",
       "      <td>1002</td>\n",
       "      <td>Hyeona</td>\n",
       "      <td>Theif</td>\n",
       "      <td>Development</td>\n",
       "      <td>2020-04-01 00:00:00.000</td>\n",
       "    </tr>\n",
       "    <tr>\n",
       "      <th>9</th>\n",
       "      <td>1003</td>\n",
       "      <td>Soyoung</td>\n",
       "      <td>Chief</td>\n",
       "      <td>Development</td>\n",
       "      <td>2020-04-01 00:00:00.000</td>\n",
       "    </tr>\n",
       "    <tr>\n",
       "      <th>10</th>\n",
       "      <td>1001</td>\n",
       "      <td>Donghyun</td>\n",
       "      <td>SOMJANG</td>\n",
       "      <td>Development</td>\n",
       "      <td>2020-04-01 00:00:00.000</td>\n",
       "    </tr>\n",
       "    <tr>\n",
       "      <th>11</th>\n",
       "      <td>2001</td>\n",
       "      <td>Sol</td>\n",
       "      <td>Fairy</td>\n",
       "      <td>Marketing</td>\n",
       "      <td>2020-04-01 00:00:00.000</td>\n",
       "    </tr>\n",
       "    <tr>\n",
       "      <th>12</th>\n",
       "      <td>2002</td>\n",
       "      <td>Jiyoung</td>\n",
       "      <td>Magician</td>\n",
       "      <td>Marketing</td>\n",
       "      <td>2020-04-01 00:00:00.000</td>\n",
       "    </tr>\n",
       "    <tr>\n",
       "      <th>13</th>\n",
       "      <td>1002</td>\n",
       "      <td>Hyeona</td>\n",
       "      <td>Theif</td>\n",
       "      <td>Development</td>\n",
       "      <td>2020-04-01 00:00:00.000</td>\n",
       "    </tr>\n",
       "    <tr>\n",
       "      <th>14</th>\n",
       "      <td>1003</td>\n",
       "      <td>Soyoung</td>\n",
       "      <td>Chief</td>\n",
       "      <td>Development</td>\n",
       "      <td>2020-04-01 00:00:00.000</td>\n",
       "    </tr>\n",
       "    <tr>\n",
       "      <th>15</th>\n",
       "      <td>1001</td>\n",
       "      <td>Donghyun</td>\n",
       "      <td>SOMJANG</td>\n",
       "      <td>Development</td>\n",
       "      <td>2020-04-01 00:00:00.000</td>\n",
       "    </tr>\n",
       "    <tr>\n",
       "      <th>16</th>\n",
       "      <td>2001</td>\n",
       "      <td>Sol</td>\n",
       "      <td>Fairy</td>\n",
       "      <td>Marketing</td>\n",
       "      <td>2020-04-01 00:00:00.000</td>\n",
       "    </tr>\n",
       "    <tr>\n",
       "      <th>17</th>\n",
       "      <td>2002</td>\n",
       "      <td>Jiyoung</td>\n",
       "      <td>Magician</td>\n",
       "      <td>Marketing</td>\n",
       "      <td>2020-04-01 00:00:00.000</td>\n",
       "    </tr>\n",
       "    <tr>\n",
       "      <th>18</th>\n",
       "      <td>1002</td>\n",
       "      <td>Hyeona</td>\n",
       "      <td>Theif</td>\n",
       "      <td>Development</td>\n",
       "      <td>2020-04-01 00:00:00.000</td>\n",
       "    </tr>\n",
       "    <tr>\n",
       "      <th>19</th>\n",
       "      <td>1003</td>\n",
       "      <td>Soyoung</td>\n",
       "      <td>Chief</td>\n",
       "      <td>Development</td>\n",
       "      <td>2020-04-01 00:00:00.000</td>\n",
       "    </tr>\n",
       "    <tr>\n",
       "      <th>20</th>\n",
       "      <td>1001</td>\n",
       "      <td>Donghyun</td>\n",
       "      <td>SOMJANG</td>\n",
       "      <td>Development</td>\n",
       "      <td>2020-04-01 00:00:00.000</td>\n",
       "    </tr>\n",
       "    <tr>\n",
       "      <th>21</th>\n",
       "      <td>2001</td>\n",
       "      <td>Sol</td>\n",
       "      <td>Fairy</td>\n",
       "      <td>Marketing</td>\n",
       "      <td>2020-04-01 00:00:00.000</td>\n",
       "    </tr>\n",
       "    <tr>\n",
       "      <th>22</th>\n",
       "      <td>2002</td>\n",
       "      <td>Jiyoung</td>\n",
       "      <td>Magician</td>\n",
       "      <td>Marketing</td>\n",
       "      <td>2020-04-01 00:00:00.000</td>\n",
       "    </tr>\n",
       "    <tr>\n",
       "      <th>23</th>\n",
       "      <td>1002</td>\n",
       "      <td>Hyeona</td>\n",
       "      <td>Theif</td>\n",
       "      <td>Development</td>\n",
       "      <td>2020-04-01 00:00:00.000</td>\n",
       "    </tr>\n",
       "    <tr>\n",
       "      <th>24</th>\n",
       "      <td>1003</td>\n",
       "      <td>Soyoung</td>\n",
       "      <td>Chief</td>\n",
       "      <td>Development</td>\n",
       "      <td>2020-04-01 00:00:00.000</td>\n",
       "    </tr>\n",
       "    <tr>\n",
       "      <th>25</th>\n",
       "      <td>1001</td>\n",
       "      <td>Donghyun</td>\n",
       "      <td>SOMJANG</td>\n",
       "      <td>Development</td>\n",
       "      <td>2020-04-01 00:00:00.000</td>\n",
       "    </tr>\n",
       "    <tr>\n",
       "      <th>26</th>\n",
       "      <td>2001</td>\n",
       "      <td>Sol</td>\n",
       "      <td>Fairy</td>\n",
       "      <td>Marketing</td>\n",
       "      <td>2020-04-01 00:00:00.000</td>\n",
       "    </tr>\n",
       "    <tr>\n",
       "      <th>27</th>\n",
       "      <td>2002</td>\n",
       "      <td>Jiyoung</td>\n",
       "      <td>Magician</td>\n",
       "      <td>Marketing</td>\n",
       "      <td>2020-04-01 00:00:00.000</td>\n",
       "    </tr>\n",
       "    <tr>\n",
       "      <th>28</th>\n",
       "      <td>1002</td>\n",
       "      <td>Hyeona</td>\n",
       "      <td>Theif</td>\n",
       "      <td>Development</td>\n",
       "      <td>2020-04-01 00:00:00.000</td>\n",
       "    </tr>\n",
       "    <tr>\n",
       "      <th>29</th>\n",
       "      <td>1003</td>\n",
       "      <td>Soyoung</td>\n",
       "      <td>Chief</td>\n",
       "      <td>Development</td>\n",
       "      <td>2020-04-01 00:00:00.000</td>\n",
       "    </tr>\n",
       "    <tr>\n",
       "      <th>30</th>\n",
       "      <td>1001</td>\n",
       "      <td>Donghyun</td>\n",
       "      <td>SOMJANG</td>\n",
       "      <td>Development</td>\n",
       "      <td>2020-04-01 00:00:00.000</td>\n",
       "    </tr>\n",
       "    <tr>\n",
       "      <th>31</th>\n",
       "      <td>2001</td>\n",
       "      <td>Sol</td>\n",
       "      <td>Fairy</td>\n",
       "      <td>Marketing</td>\n",
       "      <td>2020-04-01 00:00:00.000</td>\n",
       "    </tr>\n",
       "    <tr>\n",
       "      <th>32</th>\n",
       "      <td>2002</td>\n",
       "      <td>Jiyoung</td>\n",
       "      <td>Magician</td>\n",
       "      <td>Marketing</td>\n",
       "      <td>2020-04-01 00:00:00.000</td>\n",
       "    </tr>\n",
       "    <tr>\n",
       "      <th>33</th>\n",
       "      <td>1002</td>\n",
       "      <td>Hyeona</td>\n",
       "      <td>Theif</td>\n",
       "      <td>Development</td>\n",
       "      <td>2020-04-01 00:00:00.000</td>\n",
       "    </tr>\n",
       "    <tr>\n",
       "      <th>34</th>\n",
       "      <td>1003</td>\n",
       "      <td>Soyoung</td>\n",
       "      <td>Chief</td>\n",
       "      <td>Development</td>\n",
       "      <td>2020-04-01 00:00:00.000</td>\n",
       "    </tr>\n",
       "    <tr>\n",
       "      <th>35</th>\n",
       "      <td>1001</td>\n",
       "      <td>Donghyun</td>\n",
       "      <td>SOMJANG</td>\n",
       "      <td>Development</td>\n",
       "      <td>2020-04-01 00:00:00.000</td>\n",
       "    </tr>\n",
       "    <tr>\n",
       "      <th>36</th>\n",
       "      <td>2001</td>\n",
       "      <td>Sol</td>\n",
       "      <td>Fairy</td>\n",
       "      <td>Marketing</td>\n",
       "      <td>2020-04-01 00:00:00.000</td>\n",
       "    </tr>\n",
       "    <tr>\n",
       "      <th>37</th>\n",
       "      <td>2002</td>\n",
       "      <td>Jiyoung</td>\n",
       "      <td>Magician</td>\n",
       "      <td>Marketing</td>\n",
       "      <td>2020-04-01 00:00:00.000</td>\n",
       "    </tr>\n",
       "    <tr>\n",
       "      <th>38</th>\n",
       "      <td>1002</td>\n",
       "      <td>Hyeona</td>\n",
       "      <td>Theif</td>\n",
       "      <td>Development</td>\n",
       "      <td>2020-04-01 00:00:00.000</td>\n",
       "    </tr>\n",
       "    <tr>\n",
       "      <th>39</th>\n",
       "      <td>1003</td>\n",
       "      <td>Soyoung</td>\n",
       "      <td>Chief</td>\n",
       "      <td>Development</td>\n",
       "      <td>2020-04-01 00:00:00.000</td>\n",
       "    </tr>\n",
       "  </tbody>\n",
       "</table>\n",
       "</div>"
      ],
      "text/plain": [
       "      id      name  nickname   department          employment_date\n",
       "0   1001  Donghyun   SOMJANG  Development  2020-04-01 00:00:00.000\n",
       "1   2001       Sol     Fairy    Marketing  2020-04-01 00:00:00.000\n",
       "2   2002   Jiyoung  Magician    Marketing  2020-04-01 00:00:00.000\n",
       "3   1002    Hyeona     Theif  Development  2020-04-01 00:00:00.000\n",
       "4   1003   Soyoung     Chief  Development  2020-04-01 00:00:00.000\n",
       "5   1001  Donghyun   SOMJANG  Development  2020-04-01 00:00:00.000\n",
       "6   2001       Sol     Fairy    Marketing  2020-04-01 00:00:00.000\n",
       "7   2002   Jiyoung  Magician    Marketing  2020-04-01 00:00:00.000\n",
       "8   1002    Hyeona     Theif  Development  2020-04-01 00:00:00.000\n",
       "9   1003   Soyoung     Chief  Development  2020-04-01 00:00:00.000\n",
       "10  1001  Donghyun   SOMJANG  Development  2020-04-01 00:00:00.000\n",
       "11  2001       Sol     Fairy    Marketing  2020-04-01 00:00:00.000\n",
       "12  2002   Jiyoung  Magician    Marketing  2020-04-01 00:00:00.000\n",
       "13  1002    Hyeona     Theif  Development  2020-04-01 00:00:00.000\n",
       "14  1003   Soyoung     Chief  Development  2020-04-01 00:00:00.000\n",
       "15  1001  Donghyun   SOMJANG  Development  2020-04-01 00:00:00.000\n",
       "16  2001       Sol     Fairy    Marketing  2020-04-01 00:00:00.000\n",
       "17  2002   Jiyoung  Magician    Marketing  2020-04-01 00:00:00.000\n",
       "18  1002    Hyeona     Theif  Development  2020-04-01 00:00:00.000\n",
       "19  1003   Soyoung     Chief  Development  2020-04-01 00:00:00.000\n",
       "20  1001  Donghyun   SOMJANG  Development  2020-04-01 00:00:00.000\n",
       "21  2001       Sol     Fairy    Marketing  2020-04-01 00:00:00.000\n",
       "22  2002   Jiyoung  Magician    Marketing  2020-04-01 00:00:00.000\n",
       "23  1002    Hyeona     Theif  Development  2020-04-01 00:00:00.000\n",
       "24  1003   Soyoung     Chief  Development  2020-04-01 00:00:00.000\n",
       "25  1001  Donghyun   SOMJANG  Development  2020-04-01 00:00:00.000\n",
       "26  2001       Sol     Fairy    Marketing  2020-04-01 00:00:00.000\n",
       "27  2002   Jiyoung  Magician    Marketing  2020-04-01 00:00:00.000\n",
       "28  1002    Hyeona     Theif  Development  2020-04-01 00:00:00.000\n",
       "29  1003   Soyoung     Chief  Development  2020-04-01 00:00:00.000\n",
       "30  1001  Donghyun   SOMJANG  Development  2020-04-01 00:00:00.000\n",
       "31  2001       Sol     Fairy    Marketing  2020-04-01 00:00:00.000\n",
       "32  2002   Jiyoung  Magician    Marketing  2020-04-01 00:00:00.000\n",
       "33  1002    Hyeona     Theif  Development  2020-04-01 00:00:00.000\n",
       "34  1003   Soyoung     Chief  Development  2020-04-01 00:00:00.000\n",
       "35  1001  Donghyun   SOMJANG  Development  2020-04-01 00:00:00.000\n",
       "36  2001       Sol     Fairy    Marketing  2020-04-01 00:00:00.000\n",
       "37  2002   Jiyoung  Magician    Marketing  2020-04-01 00:00:00.000\n",
       "38  1002    Hyeona     Theif  Development  2020-04-01 00:00:00.000\n",
       "39  1003   Soyoung     Chief  Development  2020-04-01 00:00:00.000"
      ]
     },
     "execution_count": 8,
     "metadata": {},
     "output_type": "execute_result"
    }
   ],
   "source": [
    "# 먼저 DataFrame 사용하기 위해 pandas를 import 한다.\n",
    "import pandas as pd\n",
    "\n",
    "# employeed.db에 연결한다.\n",
    "conn = sqlite3.connect(\"employee.db\")\n",
    "\n",
    "# cursor를 생성한다.\n",
    "cur = conn.cursor()\n",
    "\n",
    "# cur.execute 를 통해 SELECT 쿼리를 실행한다.\n",
    "cur.execute(\"SELECT * FROM employee_data\")\n",
    "\n",
    "# 행 데이터를 가져온다.\n",
    "rows = cur.fetchall()\n",
    "\n",
    "# coulumns 이름을 가져온다.\n",
    "cols = [column[0] for column in cur.description]\n",
    "\n",
    "# 위의 코드를 활용해 DataFrame을 만들어준다.\n",
    "data_df = pd.DataFrame.from_records(data=rows, columns=cols)\n",
    "\n",
    "# 연결을 해제한다.\n",
    "conn.close()\n",
    "\n",
    "# 만든 DataFrame을 확인하자.\n",
    "data_df"
   ]
  },
  {
   "cell_type": "markdown",
   "id": "afb8ad0b",
   "metadata": {},
   "source": [
    "#### 사용예제 2) \n",
    "파이썬에 기본적으로 내장되어 있는 데이터베이스인 sqlite3 모듈를 사용하는 방법 이다.\n",
    "#### 데이터베이스 접속 \n",
    "    \n",
    "sqlite3 내장 모듈을 import 하고, connect 메서드를 통해 커넥션 객체를 생성하기"
   ]
  },
  {
   "cell_type": "code",
   "execution_count": 54,
   "id": "92559784",
   "metadata": {},
   "outputs": [],
   "source": [
    "# 메모리 DB 접속 (일회성)\n",
    "import sqlite3\n",
    "con = sqlite3.connect(':memorry:')"
   ]
  },
  {
   "cell_type": "code",
   "execution_count": 73,
   "id": "e49c78c4",
   "metadata": {},
   "outputs": [],
   "source": [
    "# 파일 DB 접속\n",
    "import sqlite3\n",
    "con = sqlite3.connect('./test_1.db')"
   ]
  },
  {
   "cell_type": "markdown",
   "id": "b163fd8d",
   "metadata": {},
   "source": [
    "- 테이블 생성\n",
    "\n",
    "커서 객체를 받아와서 execute 메서드로 CREATE TABLE 쿼리를 전송 한다.\n",
    "참고적으로 한번 run을 하고 재 실행을 하니 중복된다는 오류코드가 뜸 해결방법은 (DB네임을 바꿔서 새로 만들던가,  DB를 지우던가 둘중 하나)를 해야 한다."
   ]
  },
  {
   "cell_type": "code",
   "execution_count": 74,
   "id": "5bde718c",
   "metadata": {},
   "outputs": [
    {
     "data": {
      "text/plain": [
       "<sqlite3.Cursor at 0x7fafde9712d0>"
      ]
     },
     "execution_count": 74,
     "metadata": {},
     "output_type": "execute_result"
    }
   ],
   "source": [
    "cur = con.cursor()\n",
    "cur.execute(\"CREATE TABLE PhoneBook(Name text, PhoneNum text);\")"
   ]
  },
  {
   "cell_type": "markdown",
   "id": "05d5cd0a",
   "metadata": {},
   "source": [
    "#### 데이터 삽입\n",
    "\n",
    "마찬가지로 커서 객체로 작업한다."
   ]
  },
  {
   "cell_type": "markdown",
   "id": "b22e62ac",
   "metadata": {},
   "source": [
    "- 기본 String Query 사용"
   ]
  },
  {
   "cell_type": "code",
   "execution_count": 75,
   "id": "7e09838e",
   "metadata": {},
   "outputs": [
    {
     "data": {
      "text/plain": [
       "<sqlite3.Cursor at 0x7fafde9713b0>"
      ]
     },
     "execution_count": 75,
     "metadata": {},
     "output_type": "execute_result"
    }
   ],
   "source": [
    "cur = con.cursor()\n",
    "cur.execute(\"INSERT INTO PhoneBook Values('Derick', '010-1234-5678');\")"
   ]
  },
  {
   "cell_type": "markdown",
   "id": "e39a39b8",
   "metadata": {},
   "source": [
    "- Parameter: Tuple 사용"
   ]
  },
  {
   "cell_type": "code",
   "execution_count": 76,
   "id": "4beefa19",
   "metadata": {},
   "outputs": [
    {
     "data": {
      "text/plain": [
       "<sqlite3.Cursor at 0x7fafde971340>"
      ]
     },
     "execution_count": 76,
     "metadata": {},
     "output_type": "execute_result"
    }
   ],
   "source": [
    "name = 'SangJung'\n",
    "phoneNumber = '010-5670-2343'\n",
    "cur = con.cursor()\n",
    "cur.execute('INSERT INTO PhoneBook VALUES(?, ?);', (name, phoneNumber))"
   ]
  },
  {
   "cell_type": "markdown",
   "id": "81d3ed98",
   "metadata": {},
   "source": [
    "- Named Parameter: Dictionary 사용"
   ]
  },
  {
   "cell_type": "code",
   "execution_count": 78,
   "id": "c86d0ff0",
   "metadata": {},
   "outputs": [
    {
     "data": {
      "text/plain": [
       "<sqlite3.Cursor at 0x7fafde971260>"
      ]
     },
     "execution_count": 78,
     "metadata": {},
     "output_type": "execute_result"
    }
   ],
   "source": [
    "name = 'SangJung'\n",
    "phoneNumber = '010-5670-2343'\n",
    "cur = con.cursor()\n",
    "cur.execute('INSERT INTO PhoneBook VALUES(:name, :phoneNumber);', {\"name\":name, \"phoneNumber\":phoneNumber})"
   ]
  },
  {
   "cell_type": "markdown",
   "id": "69db3648",
   "metadata": {},
   "source": [
    "- List 사용"
   ]
  },
  {
   "cell_type": "code",
   "execution_count": 79,
   "id": "673b8eb8",
   "metadata": {},
   "outputs": [
    {
     "data": {
      "text/plain": [
       "<sqlite3.Cursor at 0x7fafde9711f0>"
      ]
     },
     "execution_count": 79,
     "metadata": {},
     "output_type": "execute_result"
    }
   ],
   "source": [
    "dataList = (('Tom', '010-543-5432'), ('DSP', '010-123-1234'))\n",
    "cur = con.cursor()\n",
    "cur.executemany(\"INSERT INTO PhoneBook VALUES(?, ?);\", dataList)"
   ]
  },
  {
   "cell_type": "markdown",
   "id": "1571a472",
   "metadata": {},
   "source": [
    "#### 데이터 조회\n",
    "커서 객체는 파일 포인터처럼 한 번 읽은 데이터는 다시 읽을 수 없으므로 다시 SELECT 쿼리를 전송해야 함을 주의합니다."
   ]
  },
  {
   "cell_type": "markdown",
   "id": "6c530132",
   "metadata": {},
   "source": [
    "- 순회 조회"
   ]
  },
  {
   "cell_type": "code",
   "execution_count": 80,
   "id": "5c0cabc6",
   "metadata": {},
   "outputs": [
    {
     "name": "stdout",
     "output_type": "stream",
     "text": [
      "('Derick', '010-1234-5678')\n",
      "('SangJung', '010-5670-2343')\n",
      "('SangJung', '010-5670-2343')\n",
      "('Tom', '010-543-5432')\n",
      "('DSP', '010-123-1234')\n"
     ]
    }
   ],
   "source": [
    "cur.execute('SELECT * FROM PhoneBook')\n",
    "for row in cur:\n",
    "    print(row)"
   ]
  },
  {
   "cell_type": "markdown",
   "id": "85025647",
   "metadata": {},
   "source": [
    "- 단건 조회"
   ]
  },
  {
   "cell_type": "code",
   "execution_count": 81,
   "id": "af231981",
   "metadata": {},
   "outputs": [
    {
     "data": {
      "text/plain": [
       "('Derick', '010-1234-5678')"
      ]
     },
     "execution_count": 81,
     "metadata": {},
     "output_type": "execute_result"
    }
   ],
   "source": [
    "cur.execute('SELECT * FROM PhoneBook')\n",
    "cur.fetchone()"
   ]
  },
  {
   "cell_type": "markdown",
   "id": "1a47356b",
   "metadata": {},
   "source": [
    "- 다건 조회"
   ]
  },
  {
   "cell_type": "code",
   "execution_count": 83,
   "id": "1e5c109c",
   "metadata": {},
   "outputs": [
    {
     "data": {
      "text/plain": [
       "[('SangJung', '010-5670-2343'), ('SangJung', '010-5670-2343')]"
      ]
     },
     "execution_count": 83,
     "metadata": {},
     "output_type": "execute_result"
    }
   ],
   "source": [
    "cur.fetchmany(2)"
   ]
  },
  {
   "cell_type": "markdown",
   "id": "f901874a",
   "metadata": {},
   "source": [
    "- 모두 조회"
   ]
  },
  {
   "cell_type": "code",
   "execution_count": 84,
   "id": "f4406ba7",
   "metadata": {},
   "outputs": [
    {
     "data": {
      "text/plain": [
       "[('Tom', '010-543-5432'), ('DSP', '010-123-1234')]"
      ]
     },
     "execution_count": 84,
     "metadata": {},
     "output_type": "execute_result"
    }
   ],
   "source": [
    "cur.fetchall()"
   ]
  },
  {
   "cell_type": "markdown",
   "id": "779b1f2d",
   "metadata": {},
   "source": [
    "<center>\n",
    "<img src=\"https://img1.daumcdn.net/thumb/R1280x0/?scode=mtistory2&fname=https%3A%2F%2Fblog.kakaocdn.net%2Fdn%2FbDCBZZ%2Fbtq4Bx2bdNQ%2FUdbtHkZs1joHPAfocWksz1%2Fimg.png\" width=\"600\" height=\"200\"><br>\n",
    "</center>"
   ]
  },
  {
   "cell_type": "markdown",
   "id": "10ba3360",
   "metadata": {},
   "source": [
    "SQLite3 모듈 사용법을 예제로 하면서 생성된 .db이다. ( 예제 2번을 할때, CREATE문을 사용하고, 두번째 러닝할때는 DB에 이미 있어서 중복에러가 발생했다. 그래서 db네임을 바꿔서 했더니 git status 에서 db를 눈으로 확인 할 수 있었다.)"
   ]
  },
  {
   "cell_type": "markdown",
   "id": "87d7adff",
   "metadata": {},
   "source": [
    "- 출처\n",
    "    - [솜씨좋은 장씨님 tistory](https://somjang.tistory.com/entry/Python-Python%EC%97%90%EC%84%9C-Sqlite3-%EC%82%AC%EC%9A%A9%ED%95%98%EA%B8%B0)\n",
    "    - [예제로 배우는 파이썬 프로그래밍](http://pythonstudy.xyz/python/article/204-SQLite-%EC%82%AC%EC%9A%A9)\n",
    "    - [[파이썬] sqlite3 모듈 사용법](https://www.daleseo.com/python-sqlite3/)"
   ]
  }
 ],
 "metadata": {
  "kernelspec": {
   "display_name": "Python 3",
   "language": "python",
   "name": "python3"
  },
  "language_info": {
   "codemirror_mode": {
    "name": "ipython",
    "version": 3
   },
   "file_extension": ".py",
   "mimetype": "text/x-python",
   "name": "python",
   "nbconvert_exporter": "python",
   "pygments_lexer": "ipython3",
   "version": "3.6.9"
  }
 },
 "nbformat": 4,
 "nbformat_minor": 5
}
