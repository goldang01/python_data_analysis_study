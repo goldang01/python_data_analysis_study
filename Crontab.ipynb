{
 "cells": [
  {
   "cell_type": "markdown",
   "id": "1a8234fc",
   "metadata": {},
   "source": [
    "## crontab_크론탭 (파이썬 코드 스케줄러)\n",
    "\n",
    "이번에는 AWS의 가상환경 EC2에서 crontab을 사용해 파이썬 코드를 자동화시키는 방법에 대해 알아보려고 한다.\n",
    "\n",
    "\n",
    "\n",
    "- 크론은 유닉스 계열 컴퓨터 운영 체제의 시간 기반 잡 스케줄러\n",
    "\n",
    "- 지정된 시간에 주기적으로 실행할 수 있도록 크론을 사용한다.\n",
    "- 이전에 작성한 크롤러를 사람이 매일 실행하는 것도 불필요한 작업이다. 그래서 컴퓨터가 자동으로 실행할 수 있도록 할당하는 것이다.\n",
    "\n",
    "#### Crontab\n",
    "크론탭이란 리눅스용 작업 스케줄러로, 특정 시각에 명령어를 반복 수행할 수 있도록 하는 프로그램\n",
    "\n"
   ]
  },
  {
   "cell_type": "markdown",
   "id": "7d62fa81",
   "metadata": {},
   "source": [
    "Cron 등록 및 수정"
   ]
  },
  {
   "cell_type": "code",
   "execution_count": 4,
   "id": "1d0c79f4",
   "metadata": {},
   "outputs": [
    {
     "ename": "NameError",
     "evalue": "name 'crontab' is not defined",
     "output_type": "error",
     "traceback": [
      "\u001b[0;31m---------------------------------------------------------------------------\u001b[0m",
      "\u001b[0;31mNameError\u001b[0m                                 Traceback (most recent call last)",
      "\u001b[0;32m<ipython-input-4-81de54022f58>\u001b[0m in \u001b[0;36masync-def-wrapper\u001b[0;34m()\u001b[0m\n",
      "\u001b[0;31mNameError\u001b[0m: name 'crontab' is not defined"
     ]
    }
   ],
   "source": [
    "# 크론탭 등록 및 설정\n",
    " crontab -e"
   ]
  },
  {
   "cell_type": "code",
   "execution_count": null,
   "id": "2279384f",
   "metadata": {},
   "outputs": [],
   "source": []
  }
 ],
 "metadata": {
  "kernelspec": {
   "display_name": "Python 3",
   "language": "python",
   "name": "python3"
  },
  "language_info": {
   "codemirror_mode": {
    "name": "ipython",
    "version": 3
   },
   "file_extension": ".py",
   "mimetype": "text/x-python",
   "name": "python",
   "nbconvert_exporter": "python",
   "pygments_lexer": "ipython3",
   "version": "3.6.9"
  }
 },
 "nbformat": 4,
 "nbformat_minor": 5
}
