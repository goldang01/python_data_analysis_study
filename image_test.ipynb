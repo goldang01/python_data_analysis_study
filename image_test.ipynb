{
 "cells": [
  {
   "cell_type": "markdown",
   "id": "3836cc01",
   "metadata": {},
   "source": [
    "image test\n",
    "\n",
    "<center>\n",
    "<img src=\"https://img1.daumcdn.net/thumb/R1280x0/?scode=mtistory2&fname=https%3A%2F%2Fblog.kakaocdn.net%2Fdn%2Fb76Btm%2Fbtq3stR8G4n%2F6BD1J2UmKIrttqv2UYKH91%2Fimg.png\" width=\"400\" height=\"300\"><br>\n",
    "</center>\n"
   ]
  },
  {
   "cell_type": "markdown",
   "id": "12c22542",
   "metadata": {},
   "source": [
    "![](EH_main_image.PNG)"
   ]
  },
  {
   "cell_type": "code",
   "execution_count": 13,
   "id": "adea6d8e",
   "metadata": {},
   "outputs": [
    {
     "data": {
      "text/plain": [
       "1"
      ]
     },
     "execution_count": 13,
     "metadata": {},
     "output_type": "execute_result"
    }
   ],
   "source": [
    "eh_df = 1\n",
    "eh_df"
   ]
  },
  {
   "cell_type": "code",
   "execution_count": 14,
   "id": "3466f91a",
   "metadata": {},
   "outputs": [
    {
     "data": {
      "text/plain": [
       "3"
      ]
     },
     "execution_count": 14,
     "metadata": {},
     "output_type": "execute_result"
    }
   ],
   "source": [
    "ehh = 3\n",
    "ehh"
   ]
  },
  {
   "cell_type": "code",
   "execution_count": 15,
   "id": "bf8e9fe9",
   "metadata": {},
   "outputs": [
    {
     "data": {
      "text/plain": [
       "4"
      ]
     },
     "execution_count": 15,
     "metadata": {},
     "output_type": "execute_result"
    }
   ],
   "source": [
    "eh_df_1 = 4\n",
    "eh_df_1"
   ]
  },
  {
   "cell_type": "code",
   "execution_count": 16,
   "id": "3e2ba373",
   "metadata": {},
   "outputs": [
    {
     "data": {
      "text/plain": [
       "True"
      ]
     },
     "execution_count": 16,
     "metadata": {},
     "output_type": "execute_result"
    }
   ],
   "source": [
    "eh_df == 1"
   ]
  },
  {
   "cell_type": "code",
   "execution_count": 19,
   "id": "3d01cbbd",
   "metadata": {},
   "outputs": [
    {
     "data": {
      "text/plain": [
       "4"
      ]
     },
     "execution_count": 19,
     "metadata": {},
     "output_type": "execute_result"
    }
   ],
   "source": [
    "eh_df = eh_df + 3\n",
    "eh_df"
   ]
  },
  {
   "cell_type": "code",
   "execution_count": 23,
   "id": "4bcffe69",
   "metadata": {},
   "outputs": [
    {
     "data": {
      "text/plain": [
       "'A'"
      ]
     },
     "execution_count": 23,
     "metadata": {},
     "output_type": "execute_result"
    }
   ],
   "source": [
    "str_test = \"A\"\n",
    "str_test"
   ]
  },
  {
   "cell_type": "markdown",
   "id": "ff6a3130",
   "metadata": {},
   "source": [
    "str_test는 다음의 요소를 갖고 있따. \n",
    " \n",
    " - A\n",
    " - B\n",
    " - C\n"
   ]
  },
  {
   "cell_type": "code",
   "execution_count": 24,
   "id": "2d1c549c",
   "metadata": {},
   "outputs": [
    {
     "data": {
      "text/plain": [
       "'A B'"
      ]
     },
     "execution_count": 24,
     "metadata": {},
     "output_type": "execute_result"
    }
   ],
   "source": [
    "str_test = str_test + \" B\"\n",
    "str_test"
   ]
  },
  {
   "cell_type": "code",
   "execution_count": 25,
   "id": "52fcdfdd",
   "metadata": {},
   "outputs": [
    {
     "data": {
      "text/plain": [
       "'A B C'"
      ]
     },
     "execution_count": 25,
     "metadata": {},
     "output_type": "execute_result"
    }
   ],
   "source": [
    "str_test = str_test + \" C\"\n",
    "str_test"
   ]
  },
  {
   "cell_type": "code",
   "execution_count": null,
   "id": "2014680d",
   "metadata": {},
   "outputs": [],
   "source": []
  }
 ],
 "metadata": {
  "kernelspec": {
   "display_name": "Python 3",
   "language": "python",
   "name": "python3"
  },
  "language_info": {
   "codemirror_mode": {
    "name": "ipython",
    "version": 3
   },
   "file_extension": ".py",
   "mimetype": "text/x-python",
   "name": "python",
   "nbconvert_exporter": "python",
   "pygments_lexer": "ipython3",
   "version": "3.6.9"
  }
 },
 "nbformat": 4,
 "nbformat_minor": 5
}
