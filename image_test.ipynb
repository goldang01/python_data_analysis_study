{
 "cells": [
  {
   "cell_type": "markdown",
   "id": "3836cc01",
   "metadata": {},
   "source": [
    "image test\n",
    "\n",
    "<center>\n",
    "<img src=\"https://img1.daumcdn.net/thumb/R1280x0/?scode=mtistory2&fname=https%3A%2F%2Fblog.kakaocdn.net%2Fdn%2Fb76Btm%2Fbtq3stR8G4n%2F6BD1J2UmKIrttqv2UYKH91%2Fimg.png\" width=\"400\" height=\"300\"><br>이항\n",
    "</center>\n"
   ]
  },
  {
   "cell_type": "markdown",
   "id": "12c22542",
   "metadata": {},
   "source": [
    "![](EH_main_image.PNG)"
   ]
  },
  {
   "cell_type": "code",
   "execution_count": null,
   "id": "adea6d8e",
   "metadata": {},
   "outputs": [],
   "source": []
  }
 ],
 "metadata": {
  "kernelspec": {
   "display_name": "Python 3",
   "language": "python",
   "name": "python3"
  },
  "language_info": {
   "codemirror_mode": {
    "name": "ipython",
    "version": 3
   },
   "file_extension": ".py",
   "mimetype": "text/x-python",
   "name": "python",
   "nbconvert_exporter": "python",
   "pygments_lexer": "ipython3",
   "version": "3.6.9"
  }
 },
 "nbformat": 4,
 "nbformat_minor": 5
}
