{
 "cells": [
  {
   "cell_type": "markdown",
   "id": "940f9d00",
   "metadata": {},
   "source": [
    "<center>\n",
    "<img src=\"https://file.mk.co.kr/meet/neds/2021/02/image_readtop_2021_169269_16138701304547187.jpeg\" width=\"400\" height=\"300\"><br>\n",
    "</center>\n"
   ]
  },
  {
   "cell_type": "markdown",
   "id": "ee63fd72",
   "metadata": {},
   "source": [
    "# ehang 이항주식 분석하기"
   ]
  },
  {
   "cell_type": "markdown",
   "id": "a71be2fc",
   "metadata": {},
   "source": [
    "#### 순서\n",
    "\n",
    "- 주가데이터 받아오기\n",
    "\n",
    "- 패키지 받아오기 \n",
    "\n",
    "- 데이터 불러오기 \n",
    "\n",
    "- 분석 및 데이터 전처리\n",
    "\n",
    "- 이동평균선 계산해서 att추가하기"
   ]
  },
  {
   "cell_type": "markdown",
   "id": "18d6eb88",
   "metadata": {},
   "source": [
    "- ahoo Finance API는 종류가 다양하며 각 API에서 제공하는 데이터도 조금씩 다르다. 시계열 데이터 부터, 기업 재무제표를 제공하는 API등 다양하게 있다.\n",
    "\n",
    "\n",
    "\n"
   ]
  },
  {
   "cell_type": "code",
   "execution_count": 34,
   "id": "4eb9f69a",
   "metadata": {},
   "outputs": [],
   "source": [
    "#!pip3 install yfinance --user #yfinance라는 파이썬 패키지를 사용 및 설치"
   ]
  },
  {
   "cell_type": "markdown",
   "id": "11c92f50",
   "metadata": {},
   "source": [
    "#### 1 .탐색"
   ]
  },
  {
   "cell_type": "code",
   "execution_count": 35,
   "id": "a5e48652",
   "metadata": {},
   "outputs": [
    {
     "data": {
      "image/png": "[encoded data removed]",
      "text/plain": [
       "<Figure size 432x288 with 1 Axes>"
      ]
     },
     "metadata": {
      "needs_background": "light"
     },
     "output_type": "display_data"
    }
   ],
   "source": [
    "# 이항 데이터셋의 기본 정보 구하기\n",
    "\n",
    "\n",
    "%matplotlib inline\n",
    "\n",
    "import pandas as pd\n",
    "import numpy as np\n",
    "import matplotlib.pyplot as plt\n",
    "import yfinance as yf\n",
    "\n",
    "eh_df = yf.download('EH', \n",
    "                      start='2019-01-01', \n",
    "                      end='2021-03-31', \n",
    "                      progress=False)\n",
    "eh_df\n",
    "\n",
    "\n",
    "\n",
    "eh_df = eh_df[[\"Open\", \"High\", \"Low\", \"Close\", \"Adj Close\"]]\n",
    "\n",
    "\n",
    "eh_df.plot()\n",
    "plt.show()"
   ]
  },
  {
   "cell_type": "code",
   "execution_count": 36,
   "id": "9512dcb8",
   "metadata": {},
   "outputs": [
    {
     "name": "stdout",
     "output_type": "stream",
     "text": [
      "(325, 5)\n",
      "<class 'pandas.core.frame.DataFrame'>\n",
      "DatetimeIndex: 325 entries, 2019-12-13 to 2021-03-30\n",
      "Data columns (total 5 columns):\n",
      " #   Column     Non-Null Count  Dtype  \n",
      "---  ------     --------------  -----  \n",
      " 0   Open       325 non-null    float64\n",
      " 1   High       325 non-null    float64\n",
      " 2   Low        325 non-null    float64\n",
      " 3   Close      325 non-null    float64\n",
      " 4   Adj Close  325 non-null    float64\n",
      "dtypes: float64(5)\n",
      "memory usage: 15.2 KB\n",
      "None\n"
     ]
    },
    {
     "data": {
      "text/html": [
       "<div>\n",
       "<style scoped>\n",
       "    .dataframe tbody tr th:only-of-type {\n",
       "        vertical-align: middle;\n",
       "    }\n",
       "\n",
       "    .dataframe tbody tr th {\n",
       "        vertical-align: top;\n",
       "    }\n",
       "\n",
       "    .dataframe thead th {\n",
       "        text-align: right;\n",
       "    }\n",
       "</style>\n",
       "<table border=\"1\" class=\"dataframe\">\n",
       "  <thead>\n",
       "    <tr style=\"text-align: right;\">\n",
       "      <th></th>\n",
       "      <th>Open</th>\n",
       "      <th>High</th>\n",
       "      <th>Low</th>\n",
       "      <th>Close</th>\n",
       "      <th>Adj Close</th>\n",
       "    </tr>\n",
       "    <tr>\n",
       "      <th>Date</th>\n",
       "      <th></th>\n",
       "      <th></th>\n",
       "      <th></th>\n",
       "      <th></th>\n",
       "      <th></th>\n",
       "    </tr>\n",
       "  </thead>\n",
       "  <tbody>\n",
       "    <tr>\n",
       "      <th>2021-03-24</th>\n",
       "      <td>39.700001</td>\n",
       "      <td>40.438000</td>\n",
       "      <td>35.160000</td>\n",
       "      <td>35.520000</td>\n",
       "      <td>35.520000</td>\n",
       "    </tr>\n",
       "    <tr>\n",
       "      <th>2021-03-25</th>\n",
       "      <td>33.240002</td>\n",
       "      <td>36.290001</td>\n",
       "      <td>32.180000</td>\n",
       "      <td>35.990002</td>\n",
       "      <td>35.990002</td>\n",
       "    </tr>\n",
       "    <tr>\n",
       "      <th>2021-03-26</th>\n",
       "      <td>36.119999</td>\n",
       "      <td>36.599998</td>\n",
       "      <td>32.349998</td>\n",
       "      <td>34.810001</td>\n",
       "      <td>34.810001</td>\n",
       "    </tr>\n",
       "    <tr>\n",
       "      <th>2021-03-29</th>\n",
       "      <td>34.000000</td>\n",
       "      <td>35.000000</td>\n",
       "      <td>32.320000</td>\n",
       "      <td>32.860001</td>\n",
       "      <td>32.860001</td>\n",
       "    </tr>\n",
       "    <tr>\n",
       "      <th>2021-03-30</th>\n",
       "      <td>32.284000</td>\n",
       "      <td>36.400002</td>\n",
       "      <td>30.740000</td>\n",
       "      <td>35.980000</td>\n",
       "      <td>35.980000</td>\n",
       "    </tr>\n",
       "  </tbody>\n",
       "</table>\n",
       "</div>"
      ],
      "text/plain": [
       "                 Open       High        Low      Close  Adj Close\n",
       "Date                                                             \n",
       "2021-03-24  39.700001  40.438000  35.160000  35.520000  35.520000\n",
       "2021-03-25  33.240002  36.290001  32.180000  35.990002  35.990002\n",
       "2021-03-26  36.119999  36.599998  32.349998  34.810001  34.810001\n",
       "2021-03-29  34.000000  35.000000  32.320000  32.860001  32.860001\n",
       "2021-03-30  32.284000  36.400002  30.740000  35.980000  35.980000"
      ]
     },
     "execution_count": 36,
     "metadata": {},
     "output_type": "execute_result"
    }
   ],
   "source": [
    "print(eh_df.shape)\n",
    "print(eh_df.info())\n",
    "eh_df.tail()"
   ]
  },
  {
   "cell_type": "markdown",
   "id": "920153df",
   "metadata": {},
   "source": [
    "### 2.데이터확인"
   ]
  },
  {
   "cell_type": "markdown",
   "id": "91308ba0",
   "metadata": {},
   "source": [
    "-  att확인"
   ]
  },
  {
   "cell_type": "code",
   "execution_count": 37,
   "id": "4bb1b7f3",
   "metadata": {},
   "outputs": [
    {
     "data": {
      "text/plain": [
       "Index(['Open', 'High', 'Low', 'Close', 'Adj Close'], dtype='object')"
      ]
     },
     "execution_count": 37,
     "metadata": {},
     "output_type": "execute_result"
    }
   ],
   "source": [
    "eh_df.columns"
   ]
  },
  {
   "cell_type": "markdown",
   "id": "ce1c371f",
   "metadata": {},
   "source": [
    "(High, Low, Open, Close, Volume, Adj Close) 는  (고가, 저가, 시가, 종가, 거래량, 수정 종가)"
   ]
  },
  {
   "cell_type": "markdown",
   "id": "3798c834",
   "metadata": {},
   "source": [
    "- type확인"
   ]
  },
  {
   "cell_type": "code",
   "execution_count": 38,
   "id": "8a15b710",
   "metadata": {},
   "outputs": [
    {
     "data": {
      "text/plain": [
       "Open         float64\n",
       "High         float64\n",
       "Low          float64\n",
       "Close        float64\n",
       "Adj Close    float64\n",
       "dtype: object"
      ]
     },
     "execution_count": 38,
     "metadata": {},
     "output_type": "execute_result"
    }
   ],
   "source": [
    "eh_df.dtypes"
   ]
  },
  {
   "cell_type": "markdown",
   "id": "376248f2",
   "metadata": {},
   "source": [
    "- describe() 메소드로 기본정보 확인"
   ]
  },
  {
   "cell_type": "code",
   "execution_count": 39,
   "id": "5963376e",
   "metadata": {},
   "outputs": [
    {
     "data": {
      "text/html": [
       "<div>\n",
       "<style scoped>\n",
       "    .dataframe tbody tr th:only-of-type {\n",
       "        vertical-align: middle;\n",
       "    }\n",
       "\n",
       "    .dataframe tbody tr th {\n",
       "        vertical-align: top;\n",
       "    }\n",
       "\n",
       "    .dataframe thead th {\n",
       "        text-align: right;\n",
       "    }\n",
       "</style>\n",
       "<table border=\"1\" class=\"dataframe\">\n",
       "  <thead>\n",
       "    <tr style=\"text-align: right;\">\n",
       "      <th></th>\n",
       "      <th>Open</th>\n",
       "      <th>High</th>\n",
       "      <th>Low</th>\n",
       "      <th>Close</th>\n",
       "      <th>Adj Close</th>\n",
       "    </tr>\n",
       "  </thead>\n",
       "  <tbody>\n",
       "    <tr>\n",
       "      <th>count</th>\n",
       "      <td>325.000000</td>\n",
       "      <td>325.000000</td>\n",
       "      <td>325.000000</td>\n",
       "      <td>325.000000</td>\n",
       "      <td>325.000000</td>\n",
       "    </tr>\n",
       "    <tr>\n",
       "      <th>mean</th>\n",
       "      <td>19.774065</td>\n",
       "      <td>21.007985</td>\n",
       "      <td>18.318311</td>\n",
       "      <td>19.650997</td>\n",
       "      <td>19.650997</td>\n",
       "    </tr>\n",
       "    <tr>\n",
       "      <th>std</th>\n",
       "      <td>19.952227</td>\n",
       "      <td>22.098426</td>\n",
       "      <td>17.664908</td>\n",
       "      <td>20.012864</td>\n",
       "      <td>20.012864</td>\n",
       "    </tr>\n",
       "    <tr>\n",
       "      <th>min</th>\n",
       "      <td>7.980000</td>\n",
       "      <td>8.035000</td>\n",
       "      <td>7.590000</td>\n",
       "      <td>7.700000</td>\n",
       "      <td>7.700000</td>\n",
       "    </tr>\n",
       "    <tr>\n",
       "      <th>25%</th>\n",
       "      <td>10.000000</td>\n",
       "      <td>10.390000</td>\n",
       "      <td>9.620000</td>\n",
       "      <td>9.990000</td>\n",
       "      <td>9.990000</td>\n",
       "    </tr>\n",
       "    <tr>\n",
       "      <th>50%</th>\n",
       "      <td>11.980000</td>\n",
       "      <td>12.230000</td>\n",
       "      <td>11.510000</td>\n",
       "      <td>11.790000</td>\n",
       "      <td>11.790000</td>\n",
       "    </tr>\n",
       "    <tr>\n",
       "      <th>75%</th>\n",
       "      <td>14.330000</td>\n",
       "      <td>14.980000</td>\n",
       "      <td>13.360000</td>\n",
       "      <td>13.750000</td>\n",
       "      <td>13.750000</td>\n",
       "    </tr>\n",
       "    <tr>\n",
       "      <th>max</th>\n",
       "      <td>123.497002</td>\n",
       "      <td>129.800003</td>\n",
       "      <td>103.800003</td>\n",
       "      <td>124.089996</td>\n",
       "      <td>124.089996</td>\n",
       "    </tr>\n",
       "  </tbody>\n",
       "</table>\n",
       "</div>"
      ],
      "text/plain": [
       "             Open        High         Low       Close   Adj Close\n",
       "count  325.000000  325.000000  325.000000  325.000000  325.000000\n",
       "mean    19.774065   21.007985   18.318311   19.650997   19.650997\n",
       "std     19.952227   22.098426   17.664908   20.012864   20.012864\n",
       "min      7.980000    8.035000    7.590000    7.700000    7.700000\n",
       "25%     10.000000   10.390000    9.620000    9.990000    9.990000\n",
       "50%     11.980000   12.230000   11.510000   11.790000   11.790000\n",
       "75%     14.330000   14.980000   13.360000   13.750000   13.750000\n",
       "max    123.497002  129.800003  103.800003  124.089996  124.089996"
      ]
     },
     "execution_count": 39,
     "metadata": {},
     "output_type": "execute_result"
    }
   ],
   "source": [
    "eh_df.describe()"
   ]
  },
  {
   "cell_type": "markdown",
   "id": "5c2c9711",
   "metadata": {},
   "source": [
    "컬럼별로 데이터의 개수(count), 데이터의 평균값(mean), 표준 편차(std), 최솟값(min), 4분위수(25%, 50%, 75%), 그리고 최댓값(max)들의 정보 확인"
   ]
  },
  {
   "cell_type": "markdown",
   "id": "66df5066",
   "metadata": {},
   "source": [
    "### 3.이동평균선 계산해서 att추가하기"
   ]
  },
  {
   "cell_type": "markdown",
   "id": "7f1e7031",
   "metadata": {},
   "source": [
    "(1) 종가를 이용한 이동평균선 계산, 추가\n",
    "\n",
    "-  이동평균선은 주식값 예측에 중요한 역할을 한다고 한다. \n",
    "\n",
    "- 단기이동평균선이 장기이동평균선을 넘으면 \"골든크로스\"라고 한다. 자기가 투자하는 주식이 \"골든크로스\" 이길 바랄것이다.\n",
    " (최근 주식값이 예전꺼보다 높다 로 해석할수있다. 곧,  주식이 오르고 있다.)"
   ]
  },
  {
   "cell_type": "code",
   "execution_count": 40,
   "id": "119b2590",
   "metadata": {},
   "outputs": [],
   "source": [
    "# maN : N일전부터 현재까지의 수정종가 평균\n",
    "ma5 = eh_df['Adj Close'].rolling(window=5).mean()\n",
    "ma20 = eh_df['Adj Close'].rolling(window=20).mean()\n",
    "ma60 = eh_df['Adj Close'].rolling(window=60).mean()\n",
    "ma120 = eh_df['Adj Close'].rolling(window=120).mean()\n",
    "\n",
    "#새로운 데이터를 삽입하는 코드\n",
    "eh_df.insert(len(eh_df.columns), \"MA5\", ma5)\n",
    "eh_df.insert(len(eh_df.columns), \"MA20\", ma20)\n",
    "eh_df.insert(len(eh_df.columns), \"MA60\", ma60)\n",
    "eh_df.insert(len(eh_df.columns), \"MA120\", ma120)"
   ]
  },
  {
   "cell_type": "markdown",
   "id": "6bc73090",
   "metadata": {},
   "source": [
    "(2) 거래량을 이용한 이동평균선 계산, 추가"
   ]
  },
  {
   "cell_type": "code",
   "execution_count": 68,
   "id": "3727b01f",
   "metadata": {},
   "outputs": [
    {
     "ename": "KeyError",
     "evalue": "'Volume'",
     "output_type": "error",
     "traceback": [
      "\u001b[0;31m---------------------------------------------------------------------------\u001b[0m",
      "\u001b[0;31mKeyError\u001b[0m                                  Traceback (most recent call last)",
      "\u001b[0;32m~/.local/lib/python3.6/site-packages/pandas/core/indexes/base.py\u001b[0m in \u001b[0;36mget_loc\u001b[0;34m(self, key, method, tolerance)\u001b[0m\n\u001b[1;32m   2897\u001b[0m             \u001b[0;32mtry\u001b[0m\u001b[0;34m:\u001b[0m\u001b[0;34m\u001b[0m\u001b[0;34m\u001b[0m\u001b[0m\n\u001b[0;32m-> 2898\u001b[0;31m                 \u001b[0;32mreturn\u001b[0m \u001b[0mself\u001b[0m\u001b[0;34m.\u001b[0m\u001b[0m_engine\u001b[0m\u001b[0;34m.\u001b[0m\u001b[0mget_loc\u001b[0m\u001b[0;34m(\u001b[0m\u001b[0mcasted_key\u001b[0m\u001b[0;34m)\u001b[0m\u001b[0;34m\u001b[0m\u001b[0;34m\u001b[0m\u001b[0m\n\u001b[0m\u001b[1;32m   2899\u001b[0m             \u001b[0;32mexcept\u001b[0m \u001b[0mKeyError\u001b[0m \u001b[0;32mas\u001b[0m \u001b[0merr\u001b[0m\u001b[0;34m:\u001b[0m\u001b[0;34m\u001b[0m\u001b[0;34m\u001b[0m\u001b[0m\n",
      "\u001b[0;32mpandas/_libs/index.pyx\u001b[0m in \u001b[0;36mpandas._libs.index.IndexEngine.get_loc\u001b[0;34m()\u001b[0m\n",
      "\u001b[0;32mpandas/_libs/index.pyx\u001b[0m in \u001b[0;36mpandas._libs.index.IndexEngine.get_loc\u001b[0;34m()\u001b[0m\n",
      "\u001b[0;32mpandas/_libs/hashtable_class_helper.pxi\u001b[0m in \u001b[0;36mpandas._libs.hashtable.PyObjectHashTable.get_item\u001b[0;34m()\u001b[0m\n",
      "\u001b[0;32mpandas/_libs/hashtable_class_helper.pxi\u001b[0m in \u001b[0;36mpandas._libs.hashtable.PyObjectHashTable.get_item\u001b[0;34m()\u001b[0m\n",
      "\u001b[0;31mKeyError\u001b[0m: 'Volume'",
      "\nThe above exception was the direct cause of the following exception:\n",
      "\u001b[0;31mKeyError\u001b[0m                                  Traceback (most recent call last)",
      "\u001b[0;32m<ipython-input-68-3e9de6bcd4a7>\u001b[0m in \u001b[0;36m<module>\u001b[0;34m\u001b[0m\n\u001b[0;32m----> 1\u001b[0;31m \u001b[0mvma5\u001b[0m \u001b[0;34m=\u001b[0m \u001b[0meh_df\u001b[0m\u001b[0;34m[\u001b[0m\u001b[0;34m'Volume'\u001b[0m\u001b[0;34m]\u001b[0m\u001b[0;34m.\u001b[0m\u001b[0mrolling\u001b[0m\u001b[0;34m(\u001b[0m\u001b[0mwindow\u001b[0m\u001b[0;34m=\u001b[0m\u001b[0;36m5\u001b[0m\u001b[0;34m)\u001b[0m\u001b[0;34m.\u001b[0m\u001b[0mmean\u001b[0m\u001b[0;34m(\u001b[0m\u001b[0;34m)\u001b[0m\u001b[0;34m\u001b[0m\u001b[0;34m\u001b[0m\u001b[0m\n\u001b[0m\u001b[1;32m      2\u001b[0m \u001b[0meh_df\u001b[0m\u001b[0;34m.\u001b[0m\u001b[0minsert\u001b[0m\u001b[0;34m(\u001b[0m\u001b[0mlen\u001b[0m\u001b[0;34m(\u001b[0m\u001b[0mdf\u001b[0m\u001b[0;34m.\u001b[0m\u001b[0mcolumns\u001b[0m\u001b[0;34m)\u001b[0m\u001b[0;34m,\u001b[0m \u001b[0;34m\"VMA5\"\u001b[0m\u001b[0;34m,\u001b[0m \u001b[0mvma5\u001b[0m\u001b[0;34m)\u001b[0m\u001b[0;34m\u001b[0m\u001b[0;34m\u001b[0m\u001b[0m\n\u001b[1;32m      3\u001b[0m \u001b[0meh_df\u001b[0m \u001b[0;34m=\u001b[0m \u001b[0meh_df\u001b[0m\u001b[0;34m[\u001b[0m\u001b[0;34m[\u001b[0m\u001b[0;34m\"Open\"\u001b[0m\u001b[0;34m,\u001b[0m \u001b[0;34m\"High\"\u001b[0m\u001b[0;34m,\u001b[0m \u001b[0;34m\"Low\"\u001b[0m\u001b[0;34m,\u001b[0m \u001b[0;34m\"Close\"\u001b[0m\u001b[0;34m,\u001b[0m \u001b[0;34m\"Adj Close\"\u001b[0m\u001b[0;34m]\u001b[0m\u001b[0;34m]\u001b[0m \u001b[0;31m# 추가 코드를 입력하여도 같은 에러 발생...\u001b[0m\u001b[0;34m\u001b[0m\u001b[0;34m\u001b[0m\u001b[0m\n",
      "\u001b[0;32m~/.local/lib/python3.6/site-packages/pandas/core/frame.py\u001b[0m in \u001b[0;36m__getitem__\u001b[0;34m(self, key)\u001b[0m\n\u001b[1;32m   2904\u001b[0m             \u001b[0;32mif\u001b[0m \u001b[0mself\u001b[0m\u001b[0;34m.\u001b[0m\u001b[0mcolumns\u001b[0m\u001b[0;34m.\u001b[0m\u001b[0mnlevels\u001b[0m \u001b[0;34m>\u001b[0m \u001b[0;36m1\u001b[0m\u001b[0;34m:\u001b[0m\u001b[0;34m\u001b[0m\u001b[0;34m\u001b[0m\u001b[0m\n\u001b[1;32m   2905\u001b[0m                 \u001b[0;32mreturn\u001b[0m \u001b[0mself\u001b[0m\u001b[0;34m.\u001b[0m\u001b[0m_getitem_multilevel\u001b[0m\u001b[0;34m(\u001b[0m\u001b[0mkey\u001b[0m\u001b[0;34m)\u001b[0m\u001b[0;34m\u001b[0m\u001b[0;34m\u001b[0m\u001b[0m\n\u001b[0;32m-> 2906\u001b[0;31m             \u001b[0mindexer\u001b[0m \u001b[0;34m=\u001b[0m \u001b[0mself\u001b[0m\u001b[0;34m.\u001b[0m\u001b[0mcolumns\u001b[0m\u001b[0;34m.\u001b[0m\u001b[0mget_loc\u001b[0m\u001b[0;34m(\u001b[0m\u001b[0mkey\u001b[0m\u001b[0;34m)\u001b[0m\u001b[0;34m\u001b[0m\u001b[0;34m\u001b[0m\u001b[0m\n\u001b[0m\u001b[1;32m   2907\u001b[0m             \u001b[0;32mif\u001b[0m \u001b[0mis_integer\u001b[0m\u001b[0;34m(\u001b[0m\u001b[0mindexer\u001b[0m\u001b[0;34m)\u001b[0m\u001b[0;34m:\u001b[0m\u001b[0;34m\u001b[0m\u001b[0;34m\u001b[0m\u001b[0m\n\u001b[1;32m   2908\u001b[0m                 \u001b[0mindexer\u001b[0m \u001b[0;34m=\u001b[0m \u001b[0;34m[\u001b[0m\u001b[0mindexer\u001b[0m\u001b[0;34m]\u001b[0m\u001b[0;34m\u001b[0m\u001b[0;34m\u001b[0m\u001b[0m\n",
      "\u001b[0;32m~/.local/lib/python3.6/site-packages/pandas/core/indexes/base.py\u001b[0m in \u001b[0;36mget_loc\u001b[0;34m(self, key, method, tolerance)\u001b[0m\n\u001b[1;32m   2898\u001b[0m                 \u001b[0;32mreturn\u001b[0m \u001b[0mself\u001b[0m\u001b[0;34m.\u001b[0m\u001b[0m_engine\u001b[0m\u001b[0;34m.\u001b[0m\u001b[0mget_loc\u001b[0m\u001b[0;34m(\u001b[0m\u001b[0mcasted_key\u001b[0m\u001b[0;34m)\u001b[0m\u001b[0;34m\u001b[0m\u001b[0;34m\u001b[0m\u001b[0m\n\u001b[1;32m   2899\u001b[0m             \u001b[0;32mexcept\u001b[0m \u001b[0mKeyError\u001b[0m \u001b[0;32mas\u001b[0m \u001b[0merr\u001b[0m\u001b[0;34m:\u001b[0m\u001b[0;34m\u001b[0m\u001b[0;34m\u001b[0m\u001b[0m\n\u001b[0;32m-> 2900\u001b[0;31m                 \u001b[0;32mraise\u001b[0m \u001b[0mKeyError\u001b[0m\u001b[0;34m(\u001b[0m\u001b[0mkey\u001b[0m\u001b[0;34m)\u001b[0m \u001b[0;32mfrom\u001b[0m \u001b[0merr\u001b[0m\u001b[0;34m\u001b[0m\u001b[0;34m\u001b[0m\u001b[0m\n\u001b[0m\u001b[1;32m   2901\u001b[0m \u001b[0;34m\u001b[0m\u001b[0m\n\u001b[1;32m   2902\u001b[0m         \u001b[0;32mif\u001b[0m \u001b[0mtolerance\u001b[0m \u001b[0;32mis\u001b[0m \u001b[0;32mnot\u001b[0m \u001b[0;32mNone\u001b[0m\u001b[0;34m:\u001b[0m\u001b[0;34m\u001b[0m\u001b[0;34m\u001b[0m\u001b[0m\n",
      "\u001b[0;31mKeyError\u001b[0m: 'Volume'"
     ]
    }
   ],
   "source": [
    "vma5 = eh_df['Volume'].rolling(window=5).mean()\n",
    "eh_df.insert(len(df.columns), \"VMA5\", vma5)\n",
    "eh_df = eh_df[[\"Open\", \"High\", \"Low\", \"Close\", \"Adj Close\"]] # 추가 코드를 입력하여도 같은 에러 발생...\n"
   ]
  },
  {
   "cell_type": "code",
   "execution_count": 42,
   "id": "632b65d2",
   "metadata": {},
   "outputs": [
    {
     "data": {
      "image/png": "[encoded data removed]",
      "text/plain": [
       "<Figure size 432x288 with 1 Axes>"
      ]
     },
     "metadata": {
      "needs_background": "light"
     },
     "output_type": "display_data"
    }
   ],
   "source": [
    "#이동평균값 plot 그리기\n",
    "plt.plot(eh_df.index,eh_df['MA5'], label=\"MA5\")\n",
    "plt.legend(loc='best') #라벨 위치 설정\n",
    "plt.xticks(rotation=45) #x축 좌표각도\n",
    "plt.grid() #격자\n",
    "plt.show() #현재까지 그려진 그래프 보여주기"
   ]
  },
  {
   "cell_type": "code",
   "execution_count": 43,
   "id": "ee4f5017",
   "metadata": {},
   "outputs": [
    {
     "data": {
      "image/png": "[encoded data removed]",
      "text/plain": [
       "<Figure size 432x288 with 1 Axes>"
      ]
     },
     "metadata": {
      "needs_background": "light"
     },
     "output_type": "display_data"
    }
   ],
   "source": [
    "#차트에 표현할 요소 설정\n",
    "plt.plot(eh_df['Adj Close'], label=\"Adj Close\")\n",
    "plt.plot(eh_df['MA5'], label=\"MA5\")\n",
    "plt.plot(eh_df['MA20'], label=\"MA20\")\n",
    "plt.plot(eh_df['MA60'], label=\"MA60\")\n",
    "plt.plot(eh_df['MA120'], label=\"MA120\")\n",
    "\n",
    "#'best'를 인자로 주어 가장 적절한 자리에 위치하게 함\n",
    "plt.legend(loc='best')\n",
    "\n",
    "#격자 그리기\n",
    "plt.grid()\n",
    "plt.show()"
   ]
  },
  {
   "cell_type": "markdown",
   "id": "eef0ff54",
   "metadata": {},
   "source": [
    "### 4.주가변동율 추가 및 시각화"
   ]
  },
  {
   "cell_type": "markdown",
   "id": "3734bc52",
   "metadata": {},
   "source": [
    "#### (1)변동율 추가"
   ]
  },
  {
   "cell_type": "code",
   "execution_count": 63,
   "id": "a9f67e3d",
   "metadata": {},
   "outputs": [
    {
     "data": {
      "text/html": [
       "<div>\n",
       "<style scoped>\n",
       "    .dataframe tbody tr th:only-of-type {\n",
       "        vertical-align: middle;\n",
       "    }\n",
       "\n",
       "    .dataframe tbody tr th {\n",
       "        vertical-align: top;\n",
       "    }\n",
       "\n",
       "    .dataframe thead th {\n",
       "        text-align: right;\n",
       "    }\n",
       "</style>\n",
       "<table border=\"1\" class=\"dataframe\">\n",
       "  <thead>\n",
       "    <tr style=\"text-align: right;\">\n",
       "      <th></th>\n",
       "      <th>Open</th>\n",
       "      <th>High</th>\n",
       "      <th>Low</th>\n",
       "      <th>Close</th>\n",
       "      <th>Adj Close</th>\n",
       "      <th>MA5</th>\n",
       "      <th>MA20</th>\n",
       "      <th>MA60</th>\n",
       "      <th>MA120</th>\n",
       "      <th>tomorrow Adj Close</th>\n",
       "      <th>Fluctuation</th>\n",
       "      <th>Fluctuation Rate</th>\n",
       "    </tr>\n",
       "    <tr>\n",
       "      <th>Date</th>\n",
       "      <th></th>\n",
       "      <th></th>\n",
       "      <th></th>\n",
       "      <th></th>\n",
       "      <th></th>\n",
       "      <th></th>\n",
       "      <th></th>\n",
       "      <th></th>\n",
       "      <th></th>\n",
       "      <th></th>\n",
       "      <th></th>\n",
       "      <th></th>\n",
       "    </tr>\n",
       "  </thead>\n",
       "  <tbody>\n",
       "    <tr>\n",
       "      <th>2019-12-13</th>\n",
       "      <td>12.450000</td>\n",
       "      <td>13.700000</td>\n",
       "      <td>12.120000</td>\n",
       "      <td>12.900000</td>\n",
       "      <td>12.900000</td>\n",
       "      <td>NaN</td>\n",
       "      <td>NaN</td>\n",
       "      <td>NaN</td>\n",
       "      <td>NaN</td>\n",
       "      <td>12.500000</td>\n",
       "      <td>-0.400000</td>\n",
       "      <td>-0.031008</td>\n",
       "    </tr>\n",
       "    <tr>\n",
       "      <th>2019-12-16</th>\n",
       "      <td>12.900000</td>\n",
       "      <td>13.200000</td>\n",
       "      <td>12.110000</td>\n",
       "      <td>12.500000</td>\n",
       "      <td>12.500000</td>\n",
       "      <td>NaN</td>\n",
       "      <td>NaN</td>\n",
       "      <td>NaN</td>\n",
       "      <td>NaN</td>\n",
       "      <td>11.070000</td>\n",
       "      <td>-1.430000</td>\n",
       "      <td>-0.114400</td>\n",
       "    </tr>\n",
       "    <tr>\n",
       "      <th>2019-12-17</th>\n",
       "      <td>12.500000</td>\n",
       "      <td>12.643000</td>\n",
       "      <td>11.000000</td>\n",
       "      <td>11.070000</td>\n",
       "      <td>11.070000</td>\n",
       "      <td>NaN</td>\n",
       "      <td>NaN</td>\n",
       "      <td>NaN</td>\n",
       "      <td>NaN</td>\n",
       "      <td>9.520000</td>\n",
       "      <td>-1.549999</td>\n",
       "      <td>-0.140018</td>\n",
       "    </tr>\n",
       "    <tr>\n",
       "      <th>2019-12-18</th>\n",
       "      <td>11.190000</td>\n",
       "      <td>11.190000</td>\n",
       "      <td>9.040000</td>\n",
       "      <td>9.520000</td>\n",
       "      <td>9.520000</td>\n",
       "      <td>NaN</td>\n",
       "      <td>NaN</td>\n",
       "      <td>NaN</td>\n",
       "      <td>NaN</td>\n",
       "      <td>9.400000</td>\n",
       "      <td>-0.120001</td>\n",
       "      <td>-0.012605</td>\n",
       "    </tr>\n",
       "    <tr>\n",
       "      <th>2019-12-19</th>\n",
       "      <td>9.440000</td>\n",
       "      <td>9.490000</td>\n",
       "      <td>7.840000</td>\n",
       "      <td>9.400000</td>\n",
       "      <td>9.400000</td>\n",
       "      <td>11.078000</td>\n",
       "      <td>NaN</td>\n",
       "      <td>NaN</td>\n",
       "      <td>NaN</td>\n",
       "      <td>10.000000</td>\n",
       "      <td>0.600000</td>\n",
       "      <td>0.063830</td>\n",
       "    </tr>\n",
       "    <tr>\n",
       "      <th>...</th>\n",
       "      <td>...</td>\n",
       "      <td>...</td>\n",
       "      <td>...</td>\n",
       "      <td>...</td>\n",
       "      <td>...</td>\n",
       "      <td>...</td>\n",
       "      <td>...</td>\n",
       "      <td>...</td>\n",
       "      <td>...</td>\n",
       "      <td>...</td>\n",
       "      <td>...</td>\n",
       "      <td>...</td>\n",
       "    </tr>\n",
       "    <tr>\n",
       "      <th>2021-03-24</th>\n",
       "      <td>39.700001</td>\n",
       "      <td>40.438000</td>\n",
       "      <td>35.160000</td>\n",
       "      <td>35.520000</td>\n",
       "      <td>35.520000</td>\n",
       "      <td>41.932000</td>\n",
       "      <td>44.4140</td>\n",
       "      <td>54.637833</td>\n",
       "      <td>33.637958</td>\n",
       "      <td>35.990002</td>\n",
       "      <td>0.470001</td>\n",
       "      <td>0.013232</td>\n",
       "    </tr>\n",
       "    <tr>\n",
       "      <th>2021-03-25</th>\n",
       "      <td>33.240002</td>\n",
       "      <td>36.290001</td>\n",
       "      <td>32.180000</td>\n",
       "      <td>35.990002</td>\n",
       "      <td>35.990002</td>\n",
       "      <td>40.062000</td>\n",
       "      <td>43.9265</td>\n",
       "      <td>54.850333</td>\n",
       "      <td>33.870875</td>\n",
       "      <td>34.810001</td>\n",
       "      <td>-1.180000</td>\n",
       "      <td>-0.032787</td>\n",
       "    </tr>\n",
       "    <tr>\n",
       "      <th>2021-03-26</th>\n",
       "      <td>36.119999</td>\n",
       "      <td>36.599998</td>\n",
       "      <td>32.349998</td>\n",
       "      <td>34.810001</td>\n",
       "      <td>34.810001</td>\n",
       "      <td>37.762000</td>\n",
       "      <td>43.3505</td>\n",
       "      <td>55.062167</td>\n",
       "      <td>34.094292</td>\n",
       "      <td>32.860001</td>\n",
       "      <td>-1.950001</td>\n",
       "      <td>-0.056018</td>\n",
       "    </tr>\n",
       "    <tr>\n",
       "      <th>2021-03-29</th>\n",
       "      <td>34.000000</td>\n",
       "      <td>35.000000</td>\n",
       "      <td>32.320000</td>\n",
       "      <td>32.860001</td>\n",
       "      <td>32.860001</td>\n",
       "      <td>35.796001</td>\n",
       "      <td>42.4895</td>\n",
       "      <td>55.239667</td>\n",
       "      <td>34.301458</td>\n",
       "      <td>35.980000</td>\n",
       "      <td>3.119999</td>\n",
       "      <td>0.094948</td>\n",
       "    </tr>\n",
       "    <tr>\n",
       "      <th>2021-03-30</th>\n",
       "      <td>32.284000</td>\n",
       "      <td>36.400002</td>\n",
       "      <td>30.740000</td>\n",
       "      <td>35.980000</td>\n",
       "      <td>35.980000</td>\n",
       "      <td>35.032001</td>\n",
       "      <td>42.0035</td>\n",
       "      <td>55.487500</td>\n",
       "      <td>34.533792</td>\n",
       "      <td>NaN</td>\n",
       "      <td>NaN</td>\n",
       "      <td>NaN</td>\n",
       "    </tr>\n",
       "  </tbody>\n",
       "</table>\n",
       "<p>325 rows × 12 columns</p>\n",
       "</div>"
      ],
      "text/plain": [
       "                 Open       High        Low      Close  Adj Close        MA5  \\\n",
       "Date                                                                           \n",
       "2019-12-13  12.450000  13.700000  12.120000  12.900000  12.900000        NaN   \n",
       "2019-12-16  12.900000  13.200000  12.110000  12.500000  12.500000        NaN   \n",
       "2019-12-17  12.500000  12.643000  11.000000  11.070000  11.070000        NaN   \n",
       "2019-12-18  11.190000  11.190000   9.040000   9.520000   9.520000        NaN   \n",
       "2019-12-19   9.440000   9.490000   7.840000   9.400000   9.400000  11.078000   \n",
       "...               ...        ...        ...        ...        ...        ...   \n",
       "2021-03-24  39.700001  40.438000  35.160000  35.520000  35.520000  41.932000   \n",
       "2021-03-25  33.240002  36.290001  32.180000  35.990002  35.990002  40.062000   \n",
       "2021-03-26  36.119999  36.599998  32.349998  34.810001  34.810001  37.762000   \n",
       "2021-03-29  34.000000  35.000000  32.320000  32.860001  32.860001  35.796001   \n",
       "2021-03-30  32.284000  36.400002  30.740000  35.980000  35.980000  35.032001   \n",
       "\n",
       "               MA20       MA60      MA120  tomorrow Adj Close  Fluctuation  \\\n",
       "Date                                                                         \n",
       "2019-12-13      NaN        NaN        NaN           12.500000    -0.400000   \n",
       "2019-12-16      NaN        NaN        NaN           11.070000    -1.430000   \n",
       "2019-12-17      NaN        NaN        NaN            9.520000    -1.549999   \n",
       "2019-12-18      NaN        NaN        NaN            9.400000    -0.120001   \n",
       "2019-12-19      NaN        NaN        NaN           10.000000     0.600000   \n",
       "...             ...        ...        ...                 ...          ...   \n",
       "2021-03-24  44.4140  54.637833  33.637958           35.990002     0.470001   \n",
       "2021-03-25  43.9265  54.850333  33.870875           34.810001    -1.180000   \n",
       "2021-03-26  43.3505  55.062167  34.094292           32.860001    -1.950001   \n",
       "2021-03-29  42.4895  55.239667  34.301458           35.980000     3.119999   \n",
       "2021-03-30  42.0035  55.487500  34.533792                 NaN          NaN   \n",
       "\n",
       "            Fluctuation Rate  \n",
       "Date                          \n",
       "2019-12-13         -0.031008  \n",
       "2019-12-16         -0.114400  \n",
       "2019-12-17         -0.140018  \n",
       "2019-12-18         -0.012605  \n",
       "2019-12-19          0.063830  \n",
       "...                      ...  \n",
       "2021-03-24          0.013232  \n",
       "2021-03-25         -0.032787  \n",
       "2021-03-26         -0.056018  \n",
       "2021-03-29          0.094948  \n",
       "2021-03-30               NaN  \n",
       "\n",
       "[325 rows x 12 columns]"
      ]
     },
     "execution_count": 63,
     "metadata": {},
     "output_type": "execute_result"
    }
   ],
   "source": [
    "# x일 행에 x+1일의 종가를 추가\n",
    "eh_df['tomorrow Adj Close']= eh_df['Adj Close'].shift(-1)\n",
    "\n",
    "# 변동율 측정 => ((다음날종가)-(오늘종가))/오늘종가 \n",
    "eh_df['Fluctuation']= eh_df['tomorrow Adj Close']-eh_df['Adj Close']\n",
    "eh_df['Fluctuation Rate']= eh_df['Fluctuation']/eh_df['Adj Close']\n",
    "eh_df"
   ]
  },
  {
   "cell_type": "markdown",
   "id": "b2fa0555",
   "metadata": {},
   "source": [
    "#### (2) 추가한 데이터로 시각화 "
   ]
  },
  {
   "cell_type": "code",
   "execution_count": 45,
   "id": "222a5a4d",
   "metadata": {},
   "outputs": [
    {
     "data": {
      "image/png": "[encoded data removed]",
      "text/plain": [
       "<Figure size 864x576 with 1 Axes>"
      ]
     },
     "metadata": {
      "needs_background": "light"
     },
     "output_type": "display_data"
    }
   ],
   "source": [
    "plt.figure(figsize=(12,8)) \n",
    "plt.plot(eh_df.index,eh_df['Fluctuation Rate'], color = 'lightblue')\n",
    "plt.axhline( y = 0, color = 'red', ls = '--') #기준선추가 , axhline() 함수의 첫번째 인자는 y 값으로서 수평선의 위치가 됩니다.\n",
    "plt.show()"
   ]
  },
  {
   "cell_type": "markdown",
   "id": "8e36606b",
   "metadata": {},
   "source": [
    "- 이항주식의 경우 올해 ( 21년 2월 ) 엄청난 변동율 그래프가 있을것을 나는 알고 해본 것이지만 지금 시각화로만든 그래프가 경이롭다.\n",
    "- 21.02.17 공매도 리포트에 주가 63% 폭락   [뉴스출처]:\n",
    "(https://biz.chosun.com/site/data/html_dir/2021/02/17/2021021700991.html?utm_source=naver&utm_medium=original&utm_campaign=biz)\n",
    "- 21.02.18 이항 주가 하루 만에 67% 급반등…롤러코스터 탄 서학개미 [뉴스출처]: https://www.mbn.co.kr/news/economy/4427097\n",
    "\n",
    "- 124달러 -> 46달러 -> 77달러 .. 엄청난 변동율이다."
   ]
  },
  {
   "cell_type": "markdown",
   "id": "b90771a8",
   "metadata": {},
   "source": [
    "### 5. 변화율의 히스토그램과 커널 밀도함수\n"
   ]
  },
  {
   "cell_type": "markdown",
   "id": "265c94ab",
   "metadata": {},
   "source": [
    "#### (1) 히스토그램\n",
    "\n"
   ]
  },
  {
   "cell_type": "code",
   "execution_count": 46,
   "id": "b2ea9161",
   "metadata": {},
   "outputs": [
    {
     "data": {
      "text/plain": [
       "Text(0.5, 1.0, 'Fluctuation Rate Histogram')"
      ]
     },
     "execution_count": 46,
     "metadata": {},
     "output_type": "execute_result"
    },
    {
     "data": {
      "image/png": "[encoded data removed]",
      "text/plain": [
       "<Figure size 432x288 with 1 Axes>"
      ]
     },
     "metadata": {
      "needs_background": "light"
     },
     "output_type": "display_data"
    }
   ],
   "source": [
    "# 히스토그램\n",
    "eh_df['Fluctuation Rate'].plot.hist()\n",
    "plt.title('Fluctuation Rate Histogram')"
   ]
  },
  {
   "cell_type": "markdown",
   "id": "ff94e3bb",
   "metadata": {},
   "source": [
    "#### (2) 커널밀도함수"
   ]
  },
  {
   "cell_type": "code",
   "execution_count": 47,
   "id": "5bdd31fb",
   "metadata": {},
   "outputs": [
    {
     "data": {
      "text/plain": [
       "Text(0.5, 1.0, 'Fluctuation Rate Histogram')"
      ]
     },
     "execution_count": 47,
     "metadata": {},
     "output_type": "execute_result"
    },
    {
     "data": {
      "image/png": "[encoded data removed]",
      "text/plain": [
       "<Figure size 432x288 with 1 Axes>"
      ]
     },
     "metadata": {
      "needs_background": "light"
     },
     "output_type": "display_data"
    }
   ],
   "source": [
    "#커널 밀도함수\n",
    "eh_df['Fluctuation Rate'].plot.kde()\n",
    "plt.title('Fluctuation Rate Histogram')"
   ]
  },
  {
   "cell_type": "markdown",
   "id": "3c168c64",
   "metadata": {},
   "source": [
    "### 6.봉 차트 그리기"
   ]
  },
  {
   "cell_type": "markdown",
   "id": "52fd38ef",
   "metadata": {},
   "source": [
    "#### (1) 라이브러리 import"
   ]
  },
  {
   "cell_type": "code",
   "execution_count": 48,
   "id": "5c55e803",
   "metadata": {},
   "outputs": [],
   "source": [
    "from mpl_finance import candlestick2_ohlc\n",
    "import matplotlib.pyplot as plt\n",
    "\n",
    "#matplotlib에서 x축과 y축에 표시되는 값을 ticker라 함\n",
    "import matplotlib.ticker as ticker \n",
    "import matplotlib.dates as mdates\n",
    "import numpy as np"
   ]
  },
  {
   "cell_type": "code",
   "execution_count": 49,
   "id": "e2aa71d7",
   "metadata": {},
   "outputs": [],
   "source": [
    "# !pip3 install mpl_finance      #mpi_finance 설치"
   ]
  },
  {
   "cell_type": "markdown",
   "id": "51c2d93f",
   "metadata": {},
   "source": [
    "#### (2)그래프 그리기-1"
   ]
  },
  {
   "cell_type": "code",
   "execution_count": 50,
   "id": "a98094f9",
   "metadata": {},
   "outputs": [
    {
     "data": {
      "image/png": "[encoded data removed]",
      "text/plain": [
       "<Figure size 1080x504 with 1 Axes>"
      ]
     },
     "metadata": {
      "needs_background": "light"
     },
     "output_type": "display_data"
    }
   ],
   "source": [
    "#차트와 피규어 그리기 준비 및 크기 설정\n",
    "fig, ax = plt.subplots(figsize=(15,7)) \n",
    "\n",
    "# 시고저종 데이터를 통해 캔들 차트를 그리기 (순서를 반드시 시고저종으로 입력)\n",
    "candlestick2_ohlc(ax,eh_df['Open'],eh_df['High'],eh_df['Low'],eh_df['Close'],width=0.6, colorup='r', colordown='b')\n",
    "\n",
    "# 차트 타이틀 설정\n",
    "plt.title('Candle stick S elec.')\n",
    "plt.show()"
   ]
  },
  {
   "cell_type": "markdown",
   "id": "a8cfa7b8",
   "metadata": {},
   "source": [
    "- 캔들차트는 주식가격의 주요한 가격 정보를 담고 있습니다. 장 시작할 때의 가격인 시가, 장 중 최고 가격인 고가, 장 중 최저 가격인 저가, 장 마감 때 가격인 종가가 그것입니다. \n"
   ]
  },
  {
   "cell_type": "markdown",
   "id": "8962db43",
   "metadata": {},
   "source": [
    "#### (3)그래프 그리기-2 , 적은기간으로 보기쉽게"
   ]
  },
  {
   "cell_type": "markdown",
   "id": "5cf4b22f",
   "metadata": {},
   "source": [
    "- 데이터 추출"
   ]
  },
  {
   "cell_type": "code",
   "execution_count": null,
   "id": "d433f264",
   "metadata": {},
   "outputs": [],
   "source": [
    "# 데이터를 가져와 편리하게 다룰 수 있도록 PANDAS 패키지를 설치\n",
    "#!pip3 install pandas_datareader\n",
    "\n",
    "# 필요한 라이브러리 다운로드\n",
    "from datetime import datetime \n",
    "import pandas_datareader.data as wb"
   ]
  },
  {
   "cell_type": "code",
   "execution_count": 58,
   "id": "bee01b7e",
   "metadata": {},
   "outputs": [],
   "source": [
    "start = datetime(2021,1,1) #시작날짜 \n",
    "end = datetime(2021,3,2) #끝 날짜df = wb.DataReader('EH', 'yahoo' , start, end)\n",
    "eh_df2 = yf.download('EH', start,end, progress=False)\n",
    "                     "
   ]
  },
  {
   "cell_type": "markdown",
   "id": "96c9d2d9",
   "metadata": {},
   "source": [
    "- 시간포멧 보기좋게 바꾸는 방법"
   ]
  },
  {
   "cell_type": "code",
   "execution_count": 59,
   "id": "7329ff06",
   "metadata": {},
   "outputs": [
    {
     "name": "stdout",
     "output_type": "stream",
     "text": [
      "2021-01-04 00:00:00\n",
      "04\n",
      "2021-01-04\n"
     ]
    }
   ],
   "source": [
    "#날짜 포멧을 일, 또는 연-월-일로 바꾸기 \n",
    "print(eh_df2.index[0])\n",
    "print(eh_df2.index[0].strftime('%d'))\n",
    "print(eh_df2.index[0].strftime('%Y-%m-%d'))"
   ]
  },
  {
   "cell_type": "code",
   "execution_count": 60,
   "id": "e0faaf6e",
   "metadata": {},
   "outputs": [
    {
     "data": {
      "image/png": "[encoded data removed]",
      "text/plain": [
       "<Figure size 936x504 with 1 Axes>"
      ]
     },
     "metadata": {
      "needs_background": "light"
     },
     "output_type": "display_data"
    }
   ],
   "source": [
    "#다시 차트 그리기\n",
    "fig, ax = plt.subplots(figsize=(13,7)) \n",
    "\n",
    "#x축의 눈금을 설정\n",
    "day_list = []\n",
    "name_list = []\n",
    "for i, day in enumerate(eh_df2.index):    \n",
    "    day_list.append(i) # 고정 축 list 생성\n",
    "    name_list.append(day.strftime('%Y-%m-%d')) # 고정 축에 적힐 날짜 list 생성\n",
    "ax.xaxis.set_major_locator(ticker.FixedLocator(day_list)) #day_list를 받아서 리스트 안의 값의 위치에 고정 축 생성\n",
    "ax.xaxis.set_major_formatter(ticker.FixedFormatter(name_list)) #설정한 고정 축에 name_list 안의 값을 축에 출력\n",
    "\n",
    "candlestick2_ohlc(ax,eh_df2['Open'],eh_df2['High'],eh_df2['Low'],eh_df2['Close'], width=0.5, colorup='r', colordown='b')\n",
    "\n",
    "plt.xticks(rotation = 90) #x축 각도 회전\n",
    "#fig.autofmt_xdate() #날짜 형식으로 자동 format 지정\n",
    "plt.title('Candle stick S elec')\n",
    "plt.grid()\n",
    "plt.show()"
   ]
  },
  {
   "cell_type": "markdown",
   "id": "f899b003",
   "metadata": {},
   "source": [
    "### 총평\n",
    "\n",
    "위에 그래프 ( **6-3 봉차트,적은기간보기쉽게**) 를 보자. 이것을 보기 위해 이번 블로깅을 했다고 보면 된다. 위에 **4-2 주가변동율 추가 및 시각화변동율그래프**로 예상은 했지만, 어느 정확한 날짜에 변동률이 컸는지는 알 수 없었다. 하지만 봉차트로는 날짜와 변동율을 직관적으로 볼 수 있었다. 다음 블로깅은  이항 주식 데이터 분석 - 예측하기를 해보려 한다."
   ]
  },
  {
   "cell_type": "markdown",
   "id": "81218a61",
   "metadata": {},
   "source": [
    "- 참고블로그,출처:https://sosoeasy.tistory.com/332"
   ]
  }
 ],
 "metadata": {
  "kernelspec": {
   "display_name": "Python 3",
   "language": "python",
   "name": "python3"
  },
  "language_info": {
   "codemirror_mode": {
    "name": "ipython",
    "version": 3
   },
   "file_extension": ".py",
   "mimetype": "text/x-python",
   "name": "python",
   "nbconvert_exporter": "python",
   "pygments_lexer": "ipython3",
   "version": "3.6.9"
  }
 },
 "nbformat": 4,
 "nbformat_minor": 5
}
